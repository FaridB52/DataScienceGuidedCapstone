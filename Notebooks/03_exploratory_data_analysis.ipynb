{
 "cells": [
  {
   "cell_type": "markdown",
   "metadata": {},
   "source": [
    "# 3 Exploratory Data Analysis<a id='3_Exploratory_Data_Analysis'></a>"
   ]
  },
  {
   "cell_type": "markdown",
   "metadata": {},
   "source": [
    "## 3.1 Contents<a id='3.1_Contents'></a>\n",
    "* [3 Exploratory Data Analysis](#3_Exploratory_Data_Analysis)\n",
    "  * [3.1 Contents](#3.1_Contents)\n",
    "  * [3.2 Introduction](#3.2_Introduction)\n",
    "  * [3.3 Imports](#3.3_Imports)\n",
    "  * [3.4 Load The Data](#3.4_Load_The_Data)\n",
    "    * [3.4.1 Ski data](#3.4.1_Ski_data)\n",
    "    * [3.4.2 State-wide summary data](#3.4.2_State-wide_summary_data)\n",
    "  * [3.5 Explore The Data](#3.5_Explore_The_Data)\n",
    "    * [3.5.1 Top States By Order Of Each Of The Summary Statistics](#3.5.1_Top_States_By_Order_Of_Each_Of_The_Summary_Statistics)\n",
    "      * [3.5.1.1 Total state area](#3.5.1.1_Total_state_area)\n",
    "      * [3.5.1.2 Total state population](#3.5.1.2_Total_state_population)\n",
    "      * [3.5.1.3 Resorts per state](#3.5.1.3_Resorts_per_state)\n",
    "      * [3.5.1.4 Total skiable area](#3.5.1.4_Total_skiable_area)\n",
    "      * [3.5.1.5 Total night skiing area](#3.5.1.5_Total_night_skiing_area)\n",
    "      * [3.5.1.6 Total days open](#3.5.1.6_Total_days_open)\n",
    "    * [3.5.2 Resort density](#3.5.2_Resort_density)\n",
    "      * [3.5.2.1 Top states by resort density](#3.5.2.1_Top_states_by_resort_density)\n",
    "    * [3.5.3 Visualizing High Dimensional Data](#3.5.3_Visualizing_High_Dimensional_Data)\n",
    "      * [3.5.3.1 Scale the data](#3.5.3.1_Scale_the_data)\n",
    "        * [3.5.3.1.1 Verifying the scaling](#3.5.3.1.1_Verifying_the_scaling)\n",
    "      * [3.5.3.2 Calculate the PCA transformation](#3.5.3.2_Calculate_the_PCA_transformation)\n",
    "      * [3.5.3.3 Average ticket price by state](#3.5.3.3_Average_ticket_price_by_state)\n",
    "      * [3.5.3.4 Adding average ticket price to scatter plot](#3.5.3.4_Adding_average_ticket_price_to_scatter_plot)\n",
    "    * [3.5.4 Conclusion On How To Handle State Label](#3.5.4_Conclusion_On_How_To_Handle_State_Label)\n",
    "    * [3.5.5 Ski Resort Numeric Data](#3.5.5_Ski_Resort_Numeric_Data)\n",
    "      * [3.5.5.1 Feature engineering](#3.5.5.1_Feature_engineering)\n",
    "      * [3.5.5.2 Feature correlation heatmap](#3.5.5.2_Feature_correlation_heatmap)\n",
    "      * [3.5.5.3 Scatterplots of numeric features against ticket price](#3.5.5.3_Scatterplots_of_numeric_features_against_ticket_price)\n",
    "  * [3.6 Summary](#3.6_Summary)\n"
   ]
  },
  {
   "cell_type": "markdown",
   "metadata": {},
   "source": [
    "## 3.2 Introduction<a id='3.2_Introduction'></a>"
   ]
  },
  {
   "cell_type": "markdown",
   "metadata": {},
   "source": [
    "At this point, you should have a firm idea of what your data science problem is and have the data you believe could help solve it. The business problem was a general one of modeling resort revenue. The data you started with contained some ticket price values, but with a number of missing values that led to several rows being dropped completely. You also had two kinds of ticket price. There were also some obvious issues with some of the other features in the data that, for example, led to one column being completely dropped, a data error corrected, and some other rows dropped. You also obtained some additional US state population and size data with which to augment the dataset, which also required some cleaning.\n",
    "\n",
    "The data science problem you subsequently identified is to predict the adult weekend ticket price for ski resorts."
   ]
  },
  {
   "cell_type": "markdown",
   "metadata": {},
   "source": [
    "## 3.3 Imports<a id='3.3_Imports'></a>"
   ]
  },
  {
   "cell_type": "code",
   "execution_count": 1,
   "metadata": {},
   "outputs": [],
   "source": [
    "import pandas as pd\n",
    "import numpy as np\n",
    "import os\n",
    "import matplotlib.pyplot as plt\n",
    "import seaborn as sns\n",
    "from sklearn.decomposition import PCA\n",
    "from sklearn.preprocessing import scale\n",
    "\n",
    "from library.sb_utils import save_file"
   ]
  },
  {
   "cell_type": "markdown",
   "metadata": {},
   "source": [
    "## 3.4 Load The Data<a id='3.4_Load_The_Data'></a>"
   ]
  },
  {
   "cell_type": "markdown",
   "metadata": {},
   "source": [
    "### 3.4.1 Ski data<a id='3.4.1_Ski_data'></a>"
   ]
  },
  {
   "cell_type": "code",
   "execution_count": 2,
   "metadata": {},
   "outputs": [],
   "source": [
    "ski_data = pd.read_csv('../data/ski_data_cleaned.csv')"
   ]
  },
  {
   "cell_type": "code",
   "execution_count": 3,
   "metadata": {},
   "outputs": [
    {
     "name": "stdout",
     "output_type": "stream",
     "text": [
      "<class 'pandas.core.frame.DataFrame'>\n",
      "RangeIndex: 277 entries, 0 to 276\n",
      "Data columns (total 25 columns):\n",
      " #   Column             Non-Null Count  Dtype  \n",
      "---  ------             --------------  -----  \n",
      " 0   Name               277 non-null    object \n",
      " 1   Region             277 non-null    object \n",
      " 2   state              277 non-null    object \n",
      " 3   summit_elev        277 non-null    int64  \n",
      " 4   vertical_drop      277 non-null    int64  \n",
      " 5   base_elev          277 non-null    int64  \n",
      " 6   trams              277 non-null    int64  \n",
      " 7   fastSixes          277 non-null    int64  \n",
      " 8   fastQuads          277 non-null    int64  \n",
      " 9   quad               277 non-null    int64  \n",
      " 10  triple             277 non-null    int64  \n",
      " 11  double             277 non-null    int64  \n",
      " 12  surface            277 non-null    int64  \n",
      " 13  total_chairs       277 non-null    int64  \n",
      " 14  Runs               274 non-null    float64\n",
      " 15  TerrainParks       233 non-null    float64\n",
      " 16  LongestRun_mi      272 non-null    float64\n",
      " 17  SkiableTerrain_ac  275 non-null    float64\n",
      " 18  Snow Making_ac     240 non-null    float64\n",
      " 19  daysOpenLastYear   233 non-null    float64\n",
      " 20  yearsOpen          277 non-null    float64\n",
      " 21  averageSnowfall    268 non-null    float64\n",
      " 22  AdultWeekend       277 non-null    float64\n",
      " 23  projectedDaysOpen  236 non-null    float64\n",
      " 24  NightSkiing_ac     163 non-null    float64\n",
      "dtypes: float64(11), int64(11), object(3)\n",
      "memory usage: 54.2+ KB\n"
     ]
    }
   ],
   "source": [
    "ski_data.info()"
   ]
  },
  {
   "cell_type": "code",
   "execution_count": 7,
   "metadata": {},
   "outputs": [
    {
     "data": {
      "text/html": [
       "<div>\n",
       "<style scoped>\n",
       "    .dataframe tbody tr th:only-of-type {\n",
       "        vertical-align: middle;\n",
       "    }\n",
       "\n",
       "    .dataframe tbody tr th {\n",
       "        vertical-align: top;\n",
       "    }\n",
       "\n",
       "    .dataframe thead th {\n",
       "        text-align: right;\n",
       "    }\n",
       "</style>\n",
       "<table border=\"1\" class=\"dataframe\">\n",
       "  <thead>\n",
       "    <tr style=\"text-align: right;\">\n",
       "      <th></th>\n",
       "      <th>Name</th>\n",
       "      <th>Region</th>\n",
       "      <th>state</th>\n",
       "      <th>summit_elev</th>\n",
       "      <th>vertical_drop</th>\n",
       "      <th>base_elev</th>\n",
       "      <th>trams</th>\n",
       "      <th>fastSixes</th>\n",
       "      <th>fastQuads</th>\n",
       "      <th>quad</th>\n",
       "      <th>...</th>\n",
       "      <th>TerrainParks</th>\n",
       "      <th>LongestRun_mi</th>\n",
       "      <th>SkiableTerrain_ac</th>\n",
       "      <th>Snow Making_ac</th>\n",
       "      <th>daysOpenLastYear</th>\n",
       "      <th>yearsOpen</th>\n",
       "      <th>averageSnowfall</th>\n",
       "      <th>AdultWeekend</th>\n",
       "      <th>projectedDaysOpen</th>\n",
       "      <th>NightSkiing_ac</th>\n",
       "    </tr>\n",
       "  </thead>\n",
       "  <tbody>\n",
       "    <tr>\n",
       "      <th>0</th>\n",
       "      <td>Alyeska Resort</td>\n",
       "      <td>Alaska</td>\n",
       "      <td>Alaska</td>\n",
       "      <td>3939</td>\n",
       "      <td>2500</td>\n",
       "      <td>250</td>\n",
       "      <td>1</td>\n",
       "      <td>0</td>\n",
       "      <td>2</td>\n",
       "      <td>2</td>\n",
       "      <td>...</td>\n",
       "      <td>2.0</td>\n",
       "      <td>1.0</td>\n",
       "      <td>1610.0</td>\n",
       "      <td>113.0</td>\n",
       "      <td>150.0</td>\n",
       "      <td>60.0</td>\n",
       "      <td>669.0</td>\n",
       "      <td>85.0</td>\n",
       "      <td>150.0</td>\n",
       "      <td>550.0</td>\n",
       "    </tr>\n",
       "    <tr>\n",
       "      <th>1</th>\n",
       "      <td>Eaglecrest Ski Area</td>\n",
       "      <td>Alaska</td>\n",
       "      <td>Alaska</td>\n",
       "      <td>2600</td>\n",
       "      <td>1540</td>\n",
       "      <td>1200</td>\n",
       "      <td>0</td>\n",
       "      <td>0</td>\n",
       "      <td>0</td>\n",
       "      <td>0</td>\n",
       "      <td>...</td>\n",
       "      <td>1.0</td>\n",
       "      <td>2.0</td>\n",
       "      <td>640.0</td>\n",
       "      <td>60.0</td>\n",
       "      <td>45.0</td>\n",
       "      <td>44.0</td>\n",
       "      <td>350.0</td>\n",
       "      <td>53.0</td>\n",
       "      <td>90.0</td>\n",
       "      <td>NaN</td>\n",
       "    </tr>\n",
       "    <tr>\n",
       "      <th>2</th>\n",
       "      <td>Hilltop Ski Area</td>\n",
       "      <td>Alaska</td>\n",
       "      <td>Alaska</td>\n",
       "      <td>2090</td>\n",
       "      <td>294</td>\n",
       "      <td>1796</td>\n",
       "      <td>0</td>\n",
       "      <td>0</td>\n",
       "      <td>0</td>\n",
       "      <td>0</td>\n",
       "      <td>...</td>\n",
       "      <td>1.0</td>\n",
       "      <td>1.0</td>\n",
       "      <td>30.0</td>\n",
       "      <td>30.0</td>\n",
       "      <td>150.0</td>\n",
       "      <td>36.0</td>\n",
       "      <td>69.0</td>\n",
       "      <td>34.0</td>\n",
       "      <td>152.0</td>\n",
       "      <td>30.0</td>\n",
       "    </tr>\n",
       "    <tr>\n",
       "      <th>3</th>\n",
       "      <td>Arizona Snowbowl</td>\n",
       "      <td>Arizona</td>\n",
       "      <td>Arizona</td>\n",
       "      <td>11500</td>\n",
       "      <td>2300</td>\n",
       "      <td>9200</td>\n",
       "      <td>0</td>\n",
       "      <td>1</td>\n",
       "      <td>0</td>\n",
       "      <td>2</td>\n",
       "      <td>...</td>\n",
       "      <td>4.0</td>\n",
       "      <td>2.0</td>\n",
       "      <td>777.0</td>\n",
       "      <td>104.0</td>\n",
       "      <td>122.0</td>\n",
       "      <td>81.0</td>\n",
       "      <td>260.0</td>\n",
       "      <td>89.0</td>\n",
       "      <td>122.0</td>\n",
       "      <td>NaN</td>\n",
       "    </tr>\n",
       "    <tr>\n",
       "      <th>4</th>\n",
       "      <td>Sunrise Park Resort</td>\n",
       "      <td>Arizona</td>\n",
       "      <td>Arizona</td>\n",
       "      <td>11100</td>\n",
       "      <td>1800</td>\n",
       "      <td>9200</td>\n",
       "      <td>0</td>\n",
       "      <td>0</td>\n",
       "      <td>1</td>\n",
       "      <td>2</td>\n",
       "      <td>...</td>\n",
       "      <td>2.0</td>\n",
       "      <td>1.2</td>\n",
       "      <td>800.0</td>\n",
       "      <td>80.0</td>\n",
       "      <td>115.0</td>\n",
       "      <td>49.0</td>\n",
       "      <td>250.0</td>\n",
       "      <td>78.0</td>\n",
       "      <td>104.0</td>\n",
       "      <td>80.0</td>\n",
       "    </tr>\n",
       "  </tbody>\n",
       "</table>\n",
       "<p>5 rows × 25 columns</p>\n",
       "</div>"
      ],
      "text/plain": [
       "                  Name   Region    state  summit_elev  vertical_drop  \\\n",
       "0       Alyeska Resort   Alaska   Alaska         3939           2500   \n",
       "1  Eaglecrest Ski Area   Alaska   Alaska         2600           1540   \n",
       "2     Hilltop Ski Area   Alaska   Alaska         2090            294   \n",
       "3     Arizona Snowbowl  Arizona  Arizona        11500           2300   \n",
       "4  Sunrise Park Resort  Arizona  Arizona        11100           1800   \n",
       "\n",
       "   base_elev  trams  fastSixes  fastQuads  quad  ...  TerrainParks  \\\n",
       "0        250      1          0          2     2  ...           2.0   \n",
       "1       1200      0          0          0     0  ...           1.0   \n",
       "2       1796      0          0          0     0  ...           1.0   \n",
       "3       9200      0          1          0     2  ...           4.0   \n",
       "4       9200      0          0          1     2  ...           2.0   \n",
       "\n",
       "   LongestRun_mi  SkiableTerrain_ac  Snow Making_ac  daysOpenLastYear  \\\n",
       "0            1.0             1610.0           113.0             150.0   \n",
       "1            2.0              640.0            60.0              45.0   \n",
       "2            1.0               30.0            30.0             150.0   \n",
       "3            2.0              777.0           104.0             122.0   \n",
       "4            1.2              800.0            80.0             115.0   \n",
       "\n",
       "   yearsOpen  averageSnowfall  AdultWeekend  projectedDaysOpen  NightSkiing_ac  \n",
       "0       60.0            669.0          85.0              150.0           550.0  \n",
       "1       44.0            350.0          53.0               90.0             NaN  \n",
       "2       36.0             69.0          34.0              152.0            30.0  \n",
       "3       81.0            260.0          89.0              122.0             NaN  \n",
       "4       49.0            250.0          78.0              104.0            80.0  \n",
       "\n",
       "[5 rows x 25 columns]"
      ]
     },
     "execution_count": 7,
     "metadata": {},
     "output_type": "execute_result"
    }
   ],
   "source": [
    "ski_data.head()"
   ]
  },
  {
   "cell_type": "markdown",
   "metadata": {},
   "source": [
    "### 3.4.2 State-wide summary data<a id='3.4.2_State-wide_summary_data'></a>"
   ]
  },
  {
   "cell_type": "code",
   "execution_count": 9,
   "metadata": {},
   "outputs": [],
   "source": [
    "state_summary = pd.read_csv('../data/state_summary.csv')"
   ]
  },
  {
   "cell_type": "code",
   "execution_count": 11,
   "metadata": {},
   "outputs": [
    {
     "name": "stdout",
     "output_type": "stream",
     "text": [
      "<class 'pandas.core.frame.DataFrame'>\n",
      "RangeIndex: 35 entries, 0 to 34\n",
      "Data columns (total 8 columns):\n",
      " #   Column                       Non-Null Count  Dtype  \n",
      "---  ------                       --------------  -----  \n",
      " 0   state                        35 non-null     object \n",
      " 1   resorts_per_state            35 non-null     int64  \n",
      " 2   state_total_skiable_area_ac  35 non-null     float64\n",
      " 3   state_total_days_open        35 non-null     float64\n",
      " 4   state_total_terrain_parks    35 non-null     float64\n",
      " 5   state_total_nightskiing_ac   35 non-null     float64\n",
      " 6   state_population             35 non-null     int64  \n",
      " 7   state_area_sq_miles          35 non-null     int64  \n",
      "dtypes: float64(4), int64(3), object(1)\n",
      "memory usage: 2.3+ KB\n"
     ]
    }
   ],
   "source": [
    "state_summary.info()"
   ]
  },
  {
   "cell_type": "code",
   "execution_count": 13,
   "metadata": {
    "scrolled": true
   },
   "outputs": [
    {
     "data": {
      "text/html": [
       "<div>\n",
       "<style scoped>\n",
       "    .dataframe tbody tr th:only-of-type {\n",
       "        vertical-align: middle;\n",
       "    }\n",
       "\n",
       "    .dataframe tbody tr th {\n",
       "        vertical-align: top;\n",
       "    }\n",
       "\n",
       "    .dataframe thead th {\n",
       "        text-align: right;\n",
       "    }\n",
       "</style>\n",
       "<table border=\"1\" class=\"dataframe\">\n",
       "  <thead>\n",
       "    <tr style=\"text-align: right;\">\n",
       "      <th></th>\n",
       "      <th>state</th>\n",
       "      <th>resorts_per_state</th>\n",
       "      <th>state_total_skiable_area_ac</th>\n",
       "      <th>state_total_days_open</th>\n",
       "      <th>state_total_terrain_parks</th>\n",
       "      <th>state_total_nightskiing_ac</th>\n",
       "      <th>state_population</th>\n",
       "      <th>state_area_sq_miles</th>\n",
       "    </tr>\n",
       "  </thead>\n",
       "  <tbody>\n",
       "    <tr>\n",
       "      <th>0</th>\n",
       "      <td>Alaska</td>\n",
       "      <td>3</td>\n",
       "      <td>2280.0</td>\n",
       "      <td>345.0</td>\n",
       "      <td>4.0</td>\n",
       "      <td>580.0</td>\n",
       "      <td>731545</td>\n",
       "      <td>665384</td>\n",
       "    </tr>\n",
       "    <tr>\n",
       "      <th>1</th>\n",
       "      <td>Arizona</td>\n",
       "      <td>2</td>\n",
       "      <td>1577.0</td>\n",
       "      <td>237.0</td>\n",
       "      <td>6.0</td>\n",
       "      <td>80.0</td>\n",
       "      <td>7278717</td>\n",
       "      <td>113990</td>\n",
       "    </tr>\n",
       "    <tr>\n",
       "      <th>2</th>\n",
       "      <td>California</td>\n",
       "      <td>21</td>\n",
       "      <td>25948.0</td>\n",
       "      <td>2738.0</td>\n",
       "      <td>81.0</td>\n",
       "      <td>587.0</td>\n",
       "      <td>39512223</td>\n",
       "      <td>163695</td>\n",
       "    </tr>\n",
       "    <tr>\n",
       "      <th>3</th>\n",
       "      <td>Colorado</td>\n",
       "      <td>22</td>\n",
       "      <td>43682.0</td>\n",
       "      <td>3258.0</td>\n",
       "      <td>74.0</td>\n",
       "      <td>428.0</td>\n",
       "      <td>5758736</td>\n",
       "      <td>104094</td>\n",
       "    </tr>\n",
       "    <tr>\n",
       "      <th>4</th>\n",
       "      <td>Connecticut</td>\n",
       "      <td>5</td>\n",
       "      <td>358.0</td>\n",
       "      <td>353.0</td>\n",
       "      <td>10.0</td>\n",
       "      <td>256.0</td>\n",
       "      <td>3565278</td>\n",
       "      <td>5543</td>\n",
       "    </tr>\n",
       "  </tbody>\n",
       "</table>\n",
       "</div>"
      ],
      "text/plain": [
       "         state  resorts_per_state  state_total_skiable_area_ac  \\\n",
       "0       Alaska                  3                       2280.0   \n",
       "1      Arizona                  2                       1577.0   \n",
       "2   California                 21                      25948.0   \n",
       "3     Colorado                 22                      43682.0   \n",
       "4  Connecticut                  5                        358.0   \n",
       "\n",
       "   state_total_days_open  state_total_terrain_parks  \\\n",
       "0                  345.0                        4.0   \n",
       "1                  237.0                        6.0   \n",
       "2                 2738.0                       81.0   \n",
       "3                 3258.0                       74.0   \n",
       "4                  353.0                       10.0   \n",
       "\n",
       "   state_total_nightskiing_ac  state_population  state_area_sq_miles  \n",
       "0                       580.0            731545               665384  \n",
       "1                        80.0           7278717               113990  \n",
       "2                       587.0          39512223               163695  \n",
       "3                       428.0           5758736               104094  \n",
       "4                       256.0           3565278                 5543  "
      ]
     },
     "execution_count": 13,
     "metadata": {},
     "output_type": "execute_result"
    }
   ],
   "source": [
    "state_summary.head()"
   ]
  },
  {
   "cell_type": "markdown",
   "metadata": {},
   "source": [
    "## 3.5 Explore The Data<a id='3.5_Explore_The_Data'></a>"
   ]
  },
  {
   "cell_type": "markdown",
   "metadata": {},
   "source": [
    "### 3.5.1 Top States By Order Of Each Of The Summary Statistics<a id='3.5.1_Top_States_By_Order_Of_Each_Of_The_Summary_Statistics'></a>"
   ]
  },
  {
   "cell_type": "markdown",
   "metadata": {},
   "source": [
    "What does the state-wide picture for your market look like?"
   ]
  },
  {
   "cell_type": "code",
   "execution_count": 15,
   "metadata": {},
   "outputs": [],
   "source": [
    "state_summary_newind = state_summary.set_index('state')"
   ]
  },
  {
   "cell_type": "markdown",
   "metadata": {},
   "source": [
    "#### 3.5.1.1 Total state area<a id='3.5.1.1_Total_state_area'></a>"
   ]
  },
  {
   "cell_type": "code",
   "execution_count": 17,
   "metadata": {},
   "outputs": [
    {
     "data": {
      "text/plain": [
       "state\n",
       "Alaska        665384\n",
       "California    163695\n",
       "Montana       147040\n",
       "New Mexico    121590\n",
       "Arizona       113990\n",
       "Name: state_area_sq_miles, dtype: int64"
      ]
     },
     "execution_count": 17,
     "metadata": {},
     "output_type": "execute_result"
    }
   ],
   "source": [
    "state_summary_newind.state_area_sq_miles.sort_values(ascending=False).head()"
   ]
  },
  {
   "cell_type": "markdown",
   "metadata": {},
   "source": [
    "Your home state, Montana, comes in at third largest."
   ]
  },
  {
   "cell_type": "markdown",
   "metadata": {},
   "source": [
    "#### 3.5.1.2 Total state population<a id='3.5.1.2_Total_state_population'></a>"
   ]
  },
  {
   "cell_type": "code",
   "execution_count": 19,
   "metadata": {},
   "outputs": [
    {
     "data": {
      "text/plain": [
       "state\n",
       "California      39512223\n",
       "New York        19453561\n",
       "Pennsylvania    12801989\n",
       "Illinois        12671821\n",
       "Ohio            11689100\n",
       "Name: state_population, dtype: int64"
      ]
     },
     "execution_count": 19,
     "metadata": {},
     "output_type": "execute_result"
    }
   ],
   "source": [
    "state_summary_newind.state_population.sort_values(ascending=False).head()"
   ]
  },
  {
   "cell_type": "markdown",
   "metadata": {},
   "source": [
    "California dominates the state population figures despite coming in second behind Alaska in size (by a long way). The resort's state of Montana was in the top five for size, but doesn't figure in the most populous states. Thus your state is less densely populated."
   ]
  },
  {
   "cell_type": "markdown",
   "metadata": {},
   "source": [
    "#### 3.5.1.3 Resorts per state<a id='3.5.1.3_Resorts_per_state'></a>"
   ]
  },
  {
   "cell_type": "code",
   "execution_count": 21,
   "metadata": {},
   "outputs": [
    {
     "data": {
      "text/plain": [
       "state\n",
       "New York        33\n",
       "Michigan        28\n",
       "Colorado        22\n",
       "California      21\n",
       "Pennsylvania    19\n",
       "Name: resorts_per_state, dtype: int64"
      ]
     },
     "execution_count": 21,
     "metadata": {},
     "output_type": "execute_result"
    }
   ],
   "source": [
    "state_summary_newind.resorts_per_state.sort_values(ascending=False).head()"
   ]
  },
  {
   "cell_type": "markdown",
   "metadata": {},
   "source": [
    "New York comes top in the number of resorts in our market. Is this because of its proximity to wealthy New Yorkers wanting a convenient skiing trip? Or is it simply that its northerly location means there are plenty of good locations for resorts in that state?"
   ]
  },
  {
   "cell_type": "markdown",
   "metadata": {},
   "source": [
    "#### 3.5.1.4 Total skiable area<a id='3.5.1.4_Total_skiable_area'></a>"
   ]
  },
  {
   "cell_type": "code",
   "execution_count": 23,
   "metadata": {},
   "outputs": [
    {
     "data": {
      "text/plain": [
       "state\n",
       "Colorado      43682.0\n",
       "Utah          30508.0\n",
       "California    25948.0\n",
       "Montana       21410.0\n",
       "Idaho         16396.0\n",
       "Name: state_total_skiable_area_ac, dtype: float64"
      ]
     },
     "execution_count": 23,
     "metadata": {},
     "output_type": "execute_result"
    }
   ],
   "source": [
    "state_summary_newind.state_total_skiable_area_ac.sort_values(ascending=False).head()"
   ]
  },
  {
   "cell_type": "markdown",
   "metadata": {},
   "source": [
    "New York state may have the most resorts, but they don't account for the most skiing area. In fact, New York doesn't even make it into the top five of skiable area. Good old Montana makes it into the top five, though. You may start to think that New York has more, smaller resorts, whereas Montana has fewer, larger resorts. Colorado seems to have a name for skiing; it's in the top five for resorts and in top place for total skiable area."
   ]
  },
  {
   "cell_type": "markdown",
   "metadata": {},
   "source": [
    "#### 3.5.1.5 Total night skiing area<a id='3.5.1.5_Total_night_skiing_area'></a>"
   ]
  },
  {
   "cell_type": "code",
   "execution_count": 25,
   "metadata": {},
   "outputs": [
    {
     "data": {
      "text/plain": [
       "state\n",
       "New York        2836.0\n",
       "Washington      1997.0\n",
       "Michigan        1946.0\n",
       "Pennsylvania    1528.0\n",
       "Oregon          1127.0\n",
       "Name: state_total_nightskiing_ac, dtype: float64"
      ]
     },
     "execution_count": 25,
     "metadata": {},
     "output_type": "execute_result"
    }
   ],
   "source": [
    "state_summary_newind.state_total_nightskiing_ac.sort_values(ascending=False).head()"
   ]
  },
  {
   "cell_type": "markdown",
   "metadata": {},
   "source": [
    "New York dominates the area of skiing available at night. Looking at the top five in general, they are all the more northerly states. Is night skiing in and of itself an appeal to customers, or is a consequence of simply trying to extend the skiing day where days are shorter? Is New York's domination here because it's trying to maximize its appeal to visitors who'd travel a shorter distance for a shorter visit? You'll find the data generates more (good) questions rather than answering them. This is a positive sign! You might ask your executive sponsor or data provider for some additional data about typical length of stays at these resorts, although you might end up with data that is very granular and most likely proprietary to each resort. A useful level of granularity might be \"number of day tickets\" and \"number of weekly passes\" sold."
   ]
  },
  {
   "cell_type": "markdown",
   "metadata": {},
   "source": [
    "#### 3.5.1.6 Total days open<a id='3.5.1.6_Total_days_open'></a>"
   ]
  },
  {
   "cell_type": "code",
   "execution_count": 28,
   "metadata": {},
   "outputs": [
    {
     "data": {
      "text/plain": [
       "state\n",
       "Colorado         3258.0\n",
       "California       2738.0\n",
       "Michigan         2389.0\n",
       "New York         2384.0\n",
       "New Hampshire    1847.0\n",
       "Name: state_total_days_open, dtype: float64"
      ]
     },
     "execution_count": 28,
     "metadata": {},
     "output_type": "execute_result"
    }
   ],
   "source": [
    "state_summary_newind.state_total_days_open.sort_values(ascending=False).head()"
   ]
  },
  {
   "cell_type": "markdown",
   "metadata": {},
   "source": [
    "The total days open seem to bear some resemblance to the number of resorts. This is plausible. The season will only be so long, and so the more resorts open through the skiing season, the more total days open we'll see. New Hampshire makes a good effort at making it into the top five, for a small state that didn't make it into the top five of resorts per state. Does its location mean resorts there have a longer season and so stay open longer, despite there being fewer of them?"
   ]
  },
  {
   "cell_type": "markdown",
   "metadata": {},
   "source": [
    "### 3.5.2 Resort density<a id='3.5.2_Resort_density'></a>"
   ]
  },
  {
   "cell_type": "markdown",
   "metadata": {},
   "source": [
    "There are big states which are not necessarily the most populous. There are states that host many resorts, but other states host a larger total skiing area. The states with the most total days skiing per season are not necessarily those with the most resorts. And New York State boasts an especially large night skiing area. New York had the most resorts but wasn't in the top five largest states, so the reason for it having the most resorts can't be simply having lots of space for them. New York has the second largest population behind California. Perhaps many resorts have sprung up in New York because of the population size? Does this mean there is a high competition between resorts in New York State, fighting for customers and thus keeping prices down? You're not concerned, per se, with the absolute size or population of a state, but you could be interested in the ratio of resorts serving a given population or a given area.\n",
    "\n",
    "So, calculate those ratios! Think of them as measures of resort density, and drop the absolute population and state size columns."
   ]
  },
  {
   "cell_type": "code",
   "execution_count": 30,
   "metadata": {},
   "outputs": [
    {
     "data": {
      "text/html": [
       "<div>\n",
       "<style scoped>\n",
       "    .dataframe tbody tr th:only-of-type {\n",
       "        vertical-align: middle;\n",
       "    }\n",
       "\n",
       "    .dataframe tbody tr th {\n",
       "        vertical-align: top;\n",
       "    }\n",
       "\n",
       "    .dataframe thead th {\n",
       "        text-align: right;\n",
       "    }\n",
       "</style>\n",
       "<table border=\"1\" class=\"dataframe\">\n",
       "  <thead>\n",
       "    <tr style=\"text-align: right;\">\n",
       "      <th></th>\n",
       "      <th>state</th>\n",
       "      <th>resorts_per_state</th>\n",
       "      <th>state_total_skiable_area_ac</th>\n",
       "      <th>state_total_days_open</th>\n",
       "      <th>state_total_terrain_parks</th>\n",
       "      <th>state_total_nightskiing_ac</th>\n",
       "      <th>resorts_per_100kcapita</th>\n",
       "      <th>resorts_per_100ksq_mile</th>\n",
       "    </tr>\n",
       "  </thead>\n",
       "  <tbody>\n",
       "    <tr>\n",
       "      <th>0</th>\n",
       "      <td>Alaska</td>\n",
       "      <td>3</td>\n",
       "      <td>2280.0</td>\n",
       "      <td>345.0</td>\n",
       "      <td>4.0</td>\n",
       "      <td>580.0</td>\n",
       "      <td>0.410091</td>\n",
       "      <td>0.450867</td>\n",
       "    </tr>\n",
       "    <tr>\n",
       "      <th>1</th>\n",
       "      <td>Arizona</td>\n",
       "      <td>2</td>\n",
       "      <td>1577.0</td>\n",
       "      <td>237.0</td>\n",
       "      <td>6.0</td>\n",
       "      <td>80.0</td>\n",
       "      <td>0.027477</td>\n",
       "      <td>1.754540</td>\n",
       "    </tr>\n",
       "    <tr>\n",
       "      <th>2</th>\n",
       "      <td>California</td>\n",
       "      <td>21</td>\n",
       "      <td>25948.0</td>\n",
       "      <td>2738.0</td>\n",
       "      <td>81.0</td>\n",
       "      <td>587.0</td>\n",
       "      <td>0.053148</td>\n",
       "      <td>12.828736</td>\n",
       "    </tr>\n",
       "    <tr>\n",
       "      <th>3</th>\n",
       "      <td>Colorado</td>\n",
       "      <td>22</td>\n",
       "      <td>43682.0</td>\n",
       "      <td>3258.0</td>\n",
       "      <td>74.0</td>\n",
       "      <td>428.0</td>\n",
       "      <td>0.382028</td>\n",
       "      <td>21.134744</td>\n",
       "    </tr>\n",
       "    <tr>\n",
       "      <th>4</th>\n",
       "      <td>Connecticut</td>\n",
       "      <td>5</td>\n",
       "      <td>358.0</td>\n",
       "      <td>353.0</td>\n",
       "      <td>10.0</td>\n",
       "      <td>256.0</td>\n",
       "      <td>0.140242</td>\n",
       "      <td>90.203861</td>\n",
       "    </tr>\n",
       "  </tbody>\n",
       "</table>\n",
       "</div>"
      ],
      "text/plain": [
       "         state  resorts_per_state  state_total_skiable_area_ac  \\\n",
       "0       Alaska                  3                       2280.0   \n",
       "1      Arizona                  2                       1577.0   \n",
       "2   California                 21                      25948.0   \n",
       "3     Colorado                 22                      43682.0   \n",
       "4  Connecticut                  5                        358.0   \n",
       "\n",
       "   state_total_days_open  state_total_terrain_parks  \\\n",
       "0                  345.0                        4.0   \n",
       "1                  237.0                        6.0   \n",
       "2                 2738.0                       81.0   \n",
       "3                 3258.0                       74.0   \n",
       "4                  353.0                       10.0   \n",
       "\n",
       "   state_total_nightskiing_ac  resorts_per_100kcapita  resorts_per_100ksq_mile  \n",
       "0                       580.0                0.410091                 0.450867  \n",
       "1                        80.0                0.027477                 1.754540  \n",
       "2                       587.0                0.053148                12.828736  \n",
       "3                       428.0                0.382028                21.134744  \n",
       "4                       256.0                0.140242                90.203861  "
      ]
     },
     "execution_count": 30,
     "metadata": {},
     "output_type": "execute_result"
    }
   ],
   "source": [
    "# The 100_000 scaling is simply based on eyeballing the magnitudes of the data\n",
    "state_summary['resorts_per_100kcapita'] = 100_000 * state_summary.resorts_per_state / state_summary.state_population\n",
    "state_summary['resorts_per_100ksq_mile'] = 100_000 * state_summary.resorts_per_state / state_summary.state_area_sq_miles\n",
    "state_summary.drop(columns=['state_population', 'state_area_sq_miles'], inplace=True)\n",
    "state_summary.head()"
   ]
  },
  {
   "cell_type": "markdown",
   "metadata": {},
   "source": [
    "With the removal of the two columns that only spoke to state-specific data, you now have a Dataframe that speaks to the skiing competitive landscape of each state. It has the number of resorts per state, total skiable area, and days of skiing. You've translated the plain state data into something more useful that gives you an idea of the density of resorts relative to the state population and size."
   ]
  },
  {
   "cell_type": "markdown",
   "metadata": {},
   "source": [
    "How do the distributions of these two new features look?"
   ]
  },
  {
   "cell_type": "code",
   "execution_count": 32,
   "metadata": {},
   "outputs": [
    {
     "data": {
      "image/png": "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",
      "text/plain": [
       "<Figure size 640x480 with 1 Axes>"
      ]
     },
     "metadata": {},
     "output_type": "display_data"
    }
   ],
   "source": [
    "state_summary.resorts_per_100kcapita.hist(bins=30)\n",
    "plt.xlabel('Number of resorts per 100k population')\n",
    "plt.ylabel('count');"
   ]
  },
  {
   "cell_type": "code",
   "execution_count": 34,
   "metadata": {},
   "outputs": [
    {
     "data": {
      "image/png": "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",
      "text/plain": [
       "<Figure size 640x480 with 1 Axes>"
      ]
     },
     "metadata": {},
     "output_type": "display_data"
    }
   ],
   "source": [
    "state_summary.resorts_per_100ksq_mile.hist(bins=30)\n",
    "plt.xlabel('Number of resorts per 100k square miles')\n",
    "plt.ylabel('count');"
   ]
  },
  {
   "cell_type": "markdown",
   "metadata": {},
   "source": [
    "So they have quite some long tails on them, but there's definitely some structure there."
   ]
  },
  {
   "cell_type": "markdown",
   "metadata": {},
   "source": [
    "#### 3.5.2.1 Top states by resort density<a id='3.5.2.1_Top_states_by_resort_density'></a>"
   ]
  },
  {
   "cell_type": "code",
   "execution_count": 36,
   "metadata": {},
   "outputs": [
    {
     "data": {
      "text/plain": [
       "state\n",
       "Vermont          2.403889\n",
       "Wyoming          1.382268\n",
       "New Hampshire    1.176721\n",
       "Montana          1.122778\n",
       "Idaho            0.671492\n",
       "Name: resorts_per_100kcapita, dtype: float64"
      ]
     },
     "execution_count": 36,
     "metadata": {},
     "output_type": "execute_result"
    }
   ],
   "source": [
    "state_summary.set_index('state').resorts_per_100kcapita.sort_values(ascending=False).head()"
   ]
  },
  {
   "cell_type": "code",
   "execution_count": 38,
   "metadata": {},
   "outputs": [
    {
     "data": {
      "text/plain": [
       "state\n",
       "New Hampshire    171.141299\n",
       "Vermont          155.990017\n",
       "Massachusetts    104.225886\n",
       "Connecticut       90.203861\n",
       "Rhode Island      64.724919\n",
       "Name: resorts_per_100ksq_mile, dtype: float64"
      ]
     },
     "execution_count": 38,
     "metadata": {},
     "output_type": "execute_result"
    }
   ],
   "source": [
    "state_summary.set_index('state').resorts_per_100ksq_mile.sort_values(ascending=False).head()"
   ]
  },
  {
   "cell_type": "markdown",
   "metadata": {},
   "source": [
    "Vermont seems particularly high in terms of resorts per capita, and both New Hampshire and Vermont top the chart for resorts per area. New York doesn't appear in either!"
   ]
  },
  {
   "cell_type": "markdown",
   "metadata": {},
   "source": [
    "### 3.5.3 Visualizing High Dimensional Data<a id='3.5.3_Visualizing_High_Dimensional_Data'></a>"
   ]
  },
  {
   "cell_type": "markdown",
   "metadata": {},
   "source": [
    "You may be starting to feel there's a bit of a problem here, or at least a challenge. You've constructed some potentially useful and business relevant features, derived from summary statistics, for each of the states you're concerned with. You've explored many of these features in turn and found various trends. Some states are higher in some but not in others. Some features will also be more correlated with one another than others.\n",
    "\n",
    "One way to disentangle this interconnected web of relationships is via [principle components analysis](https://scikit-learn.org/stable/modules/generated/sklearn.decomposition.PCA.html#sklearn.decomposition.PCA) (PCA). This technique will find linear combinations of the original features that are uncorrelated with one another and order them by the amount of variance they explain. You can use these derived features to visualize the data in a lower dimension (e.g. 2 down from 7) and know how much variance the representation explains. You can also explore how the original features contribute to these derived features."
   ]
  },
  {
   "cell_type": "markdown",
   "metadata": {},
   "source": [
    "The basic steps in this process are:\n",
    "\n",
    "1. scale the data (important here because our features are heterogenous)\n",
    "2. fit the PCA transformation (learn the transformation from the data)\n",
    "3. apply the transformation to the data to create the derived features\n",
    "4. (optionally) use the derived features to look for patterns in the data and explore the coefficients"
   ]
  },
  {
   "cell_type": "markdown",
   "metadata": {},
   "source": [
    "#### 3.5.3.1 Scale the data<a id='3.5.3.1_Scale_the_data'></a>"
   ]
  },
  {
   "cell_type": "markdown",
   "metadata": {},
   "source": [
    "You only want numeric data here, although you don't want to lose track of the state labels, so it's convenient to set the state as the index."
   ]
  },
  {
   "cell_type": "code",
   "execution_count": 44,
   "metadata": {},
   "outputs": [
    {
     "data": {
      "text/html": [
       "<div>\n",
       "<style scoped>\n",
       "    .dataframe tbody tr th:only-of-type {\n",
       "        vertical-align: middle;\n",
       "    }\n",
       "\n",
       "    .dataframe tbody tr th {\n",
       "        vertical-align: top;\n",
       "    }\n",
       "\n",
       "    .dataframe thead th {\n",
       "        text-align: right;\n",
       "    }\n",
       "</style>\n",
       "<table border=\"1\" class=\"dataframe\">\n",
       "  <thead>\n",
       "    <tr style=\"text-align: right;\">\n",
       "      <th></th>\n",
       "      <th>resorts_per_state</th>\n",
       "      <th>state_total_skiable_area_ac</th>\n",
       "      <th>state_total_days_open</th>\n",
       "      <th>state_total_terrain_parks</th>\n",
       "      <th>state_total_nightskiing_ac</th>\n",
       "      <th>resorts_per_100kcapita</th>\n",
       "      <th>resorts_per_100ksq_mile</th>\n",
       "    </tr>\n",
       "    <tr>\n",
       "      <th>state</th>\n",
       "      <th></th>\n",
       "      <th></th>\n",
       "      <th></th>\n",
       "      <th></th>\n",
       "      <th></th>\n",
       "      <th></th>\n",
       "      <th></th>\n",
       "    </tr>\n",
       "  </thead>\n",
       "  <tbody>\n",
       "    <tr>\n",
       "      <th>Alaska</th>\n",
       "      <td>3</td>\n",
       "      <td>2280.0</td>\n",
       "      <td>345.0</td>\n",
       "      <td>4.0</td>\n",
       "      <td>580.0</td>\n",
       "      <td>0.410091</td>\n",
       "      <td>0.450867</td>\n",
       "    </tr>\n",
       "    <tr>\n",
       "      <th>Arizona</th>\n",
       "      <td>2</td>\n",
       "      <td>1577.0</td>\n",
       "      <td>237.0</td>\n",
       "      <td>6.0</td>\n",
       "      <td>80.0</td>\n",
       "      <td>0.027477</td>\n",
       "      <td>1.754540</td>\n",
       "    </tr>\n",
       "    <tr>\n",
       "      <th>California</th>\n",
       "      <td>21</td>\n",
       "      <td>25948.0</td>\n",
       "      <td>2738.0</td>\n",
       "      <td>81.0</td>\n",
       "      <td>587.0</td>\n",
       "      <td>0.053148</td>\n",
       "      <td>12.828736</td>\n",
       "    </tr>\n",
       "    <tr>\n",
       "      <th>Colorado</th>\n",
       "      <td>22</td>\n",
       "      <td>43682.0</td>\n",
       "      <td>3258.0</td>\n",
       "      <td>74.0</td>\n",
       "      <td>428.0</td>\n",
       "      <td>0.382028</td>\n",
       "      <td>21.134744</td>\n",
       "    </tr>\n",
       "    <tr>\n",
       "      <th>Connecticut</th>\n",
       "      <td>5</td>\n",
       "      <td>358.0</td>\n",
       "      <td>353.0</td>\n",
       "      <td>10.0</td>\n",
       "      <td>256.0</td>\n",
       "      <td>0.140242</td>\n",
       "      <td>90.203861</td>\n",
       "    </tr>\n",
       "  </tbody>\n",
       "</table>\n",
       "</div>"
      ],
      "text/plain": [
       "             resorts_per_state  state_total_skiable_area_ac  \\\n",
       "state                                                         \n",
       "Alaska                       3                       2280.0   \n",
       "Arizona                      2                       1577.0   \n",
       "California                  21                      25948.0   \n",
       "Colorado                    22                      43682.0   \n",
       "Connecticut                  5                        358.0   \n",
       "\n",
       "             state_total_days_open  state_total_terrain_parks  \\\n",
       "state                                                           \n",
       "Alaska                       345.0                        4.0   \n",
       "Arizona                      237.0                        6.0   \n",
       "California                  2738.0                       81.0   \n",
       "Colorado                    3258.0                       74.0   \n",
       "Connecticut                  353.0                       10.0   \n",
       "\n",
       "             state_total_nightskiing_ac  resorts_per_100kcapita  \\\n",
       "state                                                             \n",
       "Alaska                            580.0                0.410091   \n",
       "Arizona                            80.0                0.027477   \n",
       "California                        587.0                0.053148   \n",
       "Colorado                          428.0                0.382028   \n",
       "Connecticut                       256.0                0.140242   \n",
       "\n",
       "             resorts_per_100ksq_mile  \n",
       "state                                 \n",
       "Alaska                      0.450867  \n",
       "Arizona                     1.754540  \n",
       "California                 12.828736  \n",
       "Colorado                   21.134744  \n",
       "Connecticut                90.203861  "
      ]
     },
     "execution_count": 44,
     "metadata": {},
     "output_type": "execute_result"
    }
   ],
   "source": [
    "#Code task 1#\n",
    "#Create a new dataframe, `state_summary_scale` from `state_summary` whilst setting the index to 'state'\n",
    "state_summary_scale = state_summary.set_index(\"state\")\n",
    "#Save the state labels (using the index attribute of `state_summary_scale`) into the variable 'state_summary_index'\n",
    "state_summary_index = state_summary_scale.index\n",
    "#Save the column names (using the `columns` attribute) of `state_summary_scale` into the variable 'state_summary_columns'\n",
    "state_summary_columns = state_summary_scale.columns\n",
    "state_summary_scale.head()"
   ]
  },
  {
   "cell_type": "markdown",
   "metadata": {},
   "source": [
    "The above shows what we expect: the columns we want are all numeric and the state has been moved to the index. Although, it's not necessary to step through the sequence so laboriously, it is often good practice even for experienced professionals. It's easy to make a mistake or forget a step, or the data may have been holding out a surprise! Stepping through like this helps  validate both your work and the data!\n",
    "\n",
    "Now use `scale()` to scale the data."
   ]
  },
  {
   "cell_type": "code",
   "execution_count": 46,
   "metadata": {},
   "outputs": [],
   "source": [
    "state_summary_scale = scale(state_summary_scale)"
   ]
  },
  {
   "cell_type": "markdown",
   "metadata": {},
   "source": [
    "Note, `scale()` returns an ndarray, so you lose the column names. Because you want to visualise scaled data, you already copied the column names. Now you can construct a dataframe from the ndarray here and reintroduce the column names."
   ]
  },
  {
   "cell_type": "code",
   "execution_count": 48,
   "metadata": {},
   "outputs": [
    {
     "data": {
      "text/html": [
       "<div>\n",
       "<style scoped>\n",
       "    .dataframe tbody tr th:only-of-type {\n",
       "        vertical-align: middle;\n",
       "    }\n",
       "\n",
       "    .dataframe tbody tr th {\n",
       "        vertical-align: top;\n",
       "    }\n",
       "\n",
       "    .dataframe thead th {\n",
       "        text-align: right;\n",
       "    }\n",
       "</style>\n",
       "<table border=\"1\" class=\"dataframe\">\n",
       "  <thead>\n",
       "    <tr style=\"text-align: right;\">\n",
       "      <th></th>\n",
       "      <th>resorts_per_state</th>\n",
       "      <th>state_total_skiable_area_ac</th>\n",
       "      <th>state_total_days_open</th>\n",
       "      <th>state_total_terrain_parks</th>\n",
       "      <th>state_total_nightskiing_ac</th>\n",
       "      <th>resorts_per_100kcapita</th>\n",
       "      <th>resorts_per_100ksq_mile</th>\n",
       "    </tr>\n",
       "  </thead>\n",
       "  <tbody>\n",
       "    <tr>\n",
       "      <th>0</th>\n",
       "      <td>-0.806912</td>\n",
       "      <td>-0.392012</td>\n",
       "      <td>-0.689059</td>\n",
       "      <td>-0.816118</td>\n",
       "      <td>0.069410</td>\n",
       "      <td>0.139593</td>\n",
       "      <td>-0.689999</td>\n",
       "    </tr>\n",
       "    <tr>\n",
       "      <th>1</th>\n",
       "      <td>-0.933558</td>\n",
       "      <td>-0.462424</td>\n",
       "      <td>-0.819038</td>\n",
       "      <td>-0.726994</td>\n",
       "      <td>-0.701326</td>\n",
       "      <td>-0.644706</td>\n",
       "      <td>-0.658125</td>\n",
       "    </tr>\n",
       "    <tr>\n",
       "      <th>2</th>\n",
       "      <td>1.472706</td>\n",
       "      <td>1.978574</td>\n",
       "      <td>2.190933</td>\n",
       "      <td>2.615141</td>\n",
       "      <td>0.080201</td>\n",
       "      <td>-0.592085</td>\n",
       "      <td>-0.387368</td>\n",
       "    </tr>\n",
       "    <tr>\n",
       "      <th>3</th>\n",
       "      <td>1.599351</td>\n",
       "      <td>3.754811</td>\n",
       "      <td>2.816757</td>\n",
       "      <td>2.303209</td>\n",
       "      <td>-0.164893</td>\n",
       "      <td>0.082069</td>\n",
       "      <td>-0.184291</td>\n",
       "    </tr>\n",
       "    <tr>\n",
       "      <th>4</th>\n",
       "      <td>-0.553622</td>\n",
       "      <td>-0.584519</td>\n",
       "      <td>-0.679431</td>\n",
       "      <td>-0.548747</td>\n",
       "      <td>-0.430027</td>\n",
       "      <td>-0.413557</td>\n",
       "      <td>1.504408</td>\n",
       "    </tr>\n",
       "  </tbody>\n",
       "</table>\n",
       "</div>"
      ],
      "text/plain": [
       "   resorts_per_state  state_total_skiable_area_ac  state_total_days_open  \\\n",
       "0          -0.806912                    -0.392012              -0.689059   \n",
       "1          -0.933558                    -0.462424              -0.819038   \n",
       "2           1.472706                     1.978574               2.190933   \n",
       "3           1.599351                     3.754811               2.816757   \n",
       "4          -0.553622                    -0.584519              -0.679431   \n",
       "\n",
       "   state_total_terrain_parks  state_total_nightskiing_ac  \\\n",
       "0                  -0.816118                    0.069410   \n",
       "1                  -0.726994                   -0.701326   \n",
       "2                   2.615141                    0.080201   \n",
       "3                   2.303209                   -0.164893   \n",
       "4                  -0.548747                   -0.430027   \n",
       "\n",
       "   resorts_per_100kcapita  resorts_per_100ksq_mile  \n",
       "0                0.139593                -0.689999  \n",
       "1               -0.644706                -0.658125  \n",
       "2               -0.592085                -0.387368  \n",
       "3                0.082069                -0.184291  \n",
       "4               -0.413557                 1.504408  "
      ]
     },
     "execution_count": 48,
     "metadata": {},
     "output_type": "execute_result"
    }
   ],
   "source": [
    "#Code task 2#\n",
    "#Create a new dataframe from `state_summary_scale` using the column names we saved in `state_summary_columns`\n",
    "state_summary_scaled_df = pd.DataFrame(state_summary_scale, columns=state_summary_columns)\n",
    "state_summary_scaled_df.head()"
   ]
  },
  {
   "cell_type": "markdown",
   "metadata": {},
   "source": [
    "##### 3.5.3.1.1 Verifying the scaling<a id='3.5.3.1.1_Verifying_the_scaling'></a>"
   ]
  },
  {
   "cell_type": "markdown",
   "metadata": {},
   "source": [
    "This is definitely going the extra mile for validating your steps, but provides a worthwhile lesson."
   ]
  },
  {
   "cell_type": "markdown",
   "metadata": {},
   "source": [
    "First of all, check the mean of the scaled features using panda's `mean()` DataFrame method."
   ]
  },
  {
   "cell_type": "code",
   "execution_count": 50,
   "metadata": {},
   "outputs": [
    {
     "data": {
      "text/plain": [
       "resorts_per_state             -7.295751e-17\n",
       "state_total_skiable_area_ac   -4.163336e-17\n",
       "state_total_days_open          7.692260e-17\n",
       "state_total_terrain_parks      4.599495e-17\n",
       "state_total_nightskiing_ac     7.612958e-17\n",
       "resorts_per_100kcapita         5.075305e-17\n",
       "resorts_per_100ksq_mile        5.075305e-17\n",
       "dtype: float64"
      ]
     },
     "execution_count": 50,
     "metadata": {},
     "output_type": "execute_result"
    }
   ],
   "source": [
    "#Code task 3#\n",
    "#Call `state_summary_scaled_df`'s `mean()` method\n",
    "state_summary_scaled_df.mean()"
   ]
  },
  {
   "cell_type": "markdown",
   "metadata": {},
   "source": [
    "This is pretty much zero!"
   ]
  },
  {
   "cell_type": "markdown",
   "metadata": {},
   "source": [
    "Perform a similar check for the standard deviation using pandas's `std()` DataFrame method."
   ]
  },
  {
   "cell_type": "code",
   "execution_count": 52,
   "metadata": {},
   "outputs": [
    {
     "data": {
      "text/plain": [
       "resorts_per_state              1.014599\n",
       "state_total_skiable_area_ac    1.014599\n",
       "state_total_days_open          1.014599\n",
       "state_total_terrain_parks      1.014599\n",
       "state_total_nightskiing_ac     1.014599\n",
       "resorts_per_100kcapita         1.014599\n",
       "resorts_per_100ksq_mile        1.014599\n",
       "dtype: float64"
      ]
     },
     "execution_count": 52,
     "metadata": {},
     "output_type": "execute_result"
    }
   ],
   "source": [
    "#Code task 4#\n",
    "#Call `state_summary_scaled_df`'s `std()` method\n",
    "state_summary_scaled_df.std()"
   ]
  },
  {
   "cell_type": "markdown",
   "metadata": {},
   "source": [
    "Well, this is a little embarrassing. The numbers should be closer to 1 than this! Check the documentation for [scale](https://scikit-learn.org/stable/modules/generated/sklearn.preprocessing.scale.html) to see if you used it right. What about [std](https://pandas.pydata.org/pandas-docs/stable/reference/api/pandas.DataFrame.std.html), did you mess up there? Is one of them not working right?\n",
    "\n",
    "The keen observer, who already has some familiarity with statistical inference and biased estimators, may have noticed what's happened here. `scale()` uses the biased estimator for standard deviation (ddof=0). This doesn't mean it's bad! It simply means it calculates the standard deviation of the sample it was given. The `std()` method, on the other hand, defaults to using ddof=1, that is it's normalized by N-1. In other words, the `std()` method default is to assume you want your best estimate of the population parameter based on the given sample. You can tell it to return the biased estimate instead:"
   ]
  },
  {
   "cell_type": "code",
   "execution_count": 54,
   "metadata": {},
   "outputs": [
    {
     "data": {
      "text/plain": [
       "resorts_per_state              1.0\n",
       "state_total_skiable_area_ac    1.0\n",
       "state_total_days_open          1.0\n",
       "state_total_terrain_parks      1.0\n",
       "state_total_nightskiing_ac     1.0\n",
       "resorts_per_100kcapita         1.0\n",
       "resorts_per_100ksq_mile        1.0\n",
       "dtype: float64"
      ]
     },
     "execution_count": 54,
     "metadata": {},
     "output_type": "execute_result"
    }
   ],
   "source": [
    "#Code task 5#\n",
    "#Repeat the previous call to `std()` but pass in ddof=0 \n",
    "state_summary_scaled_df.std(ddof = 0)"
   ]
  },
  {
   "cell_type": "markdown",
   "metadata": {},
   "source": [
    "There! Now it agrees with `scale()` and our expectation. This just goes to show different routines to do ostensibly the same thing can have different behaviours. Good practice is to keep validating your work and checking the documentation!"
   ]
  },
  {
   "cell_type": "markdown",
   "metadata": {},
   "source": [
    "#### 3.5.3.2 Calculate the PCA transformation<a id='3.5.3.2_Calculate_the_PCA_transformation'></a>"
   ]
  },
  {
   "cell_type": "markdown",
   "metadata": {},
   "source": [
    "Fit the PCA transformation using the scaled data."
   ]
  },
  {
   "cell_type": "code",
   "execution_count": 56,
   "metadata": {},
   "outputs": [],
   "source": [
    "state_pca = PCA().fit(state_summary_scale)"
   ]
  },
  {
   "cell_type": "markdown",
   "metadata": {},
   "source": [
    "Plot the cumulative variance ratio with number of components."
   ]
  },
  {
   "cell_type": "code",
   "execution_count": 58,
   "metadata": {},
   "outputs": [
    {
     "data": {
      "image/png": "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",
      "text/plain": [
       "<Figure size 1000x600 with 1 Axes>"
      ]
     },
     "metadata": {},
     "output_type": "display_data"
    }
   ],
   "source": [
    "#Code task 6#\n",
    "#Call the `cumsum()` method on the 'explained_variance_ratio_' attribute of `state_pca` and\n",
    "#create a line plot to visualize the cumulative explained variance ratio with number of components\n",
    "#Set the xlabel to 'Component #', the ylabel to 'Cumulative ratio variance', and the\n",
    "#title to 'Cumulative variance ratio explained by PCA components for state/resort summary statistics'\n",
    "#Hint: remember the handy ';' at the end of the last plot call to suppress that untidy output\n",
    "plt.subplots(figsize=(10, 6))\n",
    "plt.plot(state_pca.explained_variance_ratio_.cumsum())\n",
    "plt.xlabel('Component #')\n",
    "plt.ylabel('Cumulative ratio variance')\n",
    "plt.title('Cumulative variance ratio explained by PCA components for state/resort summary statistics');"
   ]
  },
  {
   "cell_type": "markdown",
   "metadata": {},
   "source": [
    "The first two components seem to account for over 75% of the variance, and the first four for over 95%."
   ]
  },
  {
   "cell_type": "markdown",
   "metadata": {},
   "source": [
    "**Note:** It is important to move quickly when performing exploratory data analysis. You should not spend hours trying to create publication-ready figures. However, it is crucially important that you can easily review and summarise the findings from EDA. Descriptive axis labels and titles are _extremely_ useful here. When you come to reread your notebook to summarise your findings, you will be thankful that you created descriptive plots and even made key observations in adjacent markdown cells."
   ]
  },
  {
   "cell_type": "markdown",
   "metadata": {},
   "source": [
    "Apply the transformation to the data to obtain the derived features."
   ]
  },
  {
   "cell_type": "code",
   "execution_count": 60,
   "metadata": {},
   "outputs": [],
   "source": [
    "#Code task 7#\n",
    "#Call `state_pca`'s `transform()` method, passing in `state_summary_scale` as its argument\n",
    "state_pca_x = state_pca.transform(state_summary_scale)"
   ]
  },
  {
   "cell_type": "code",
   "execution_count": 62,
   "metadata": {},
   "outputs": [
    {
     "data": {
      "text/plain": [
       "(35, 7)"
      ]
     },
     "execution_count": 62,
     "metadata": {},
     "output_type": "execute_result"
    }
   ],
   "source": [
    "state_pca_x.shape"
   ]
  },
  {
   "cell_type": "markdown",
   "metadata": {},
   "source": [
    "Plot the first two derived features (the first two principle components) and label each point with the name of the state."
   ]
  },
  {
   "cell_type": "markdown",
   "metadata": {},
   "source": [
    "Take a moment to familiarize yourself with the code below. It will extract the first and second columns from the transformed data (`state_pca_x`) as x and y coordinates for plotting. Recall the state labels you saved (for this purpose) for subsequent calls to `plt.annotate`. Grab the second (index 1) value of the cumulative variance ratio to include in your descriptive title; this helpfully highlights the percentage variance explained\n",
    "by the two PCA components you're visualizing. Then create an appropriately sized and well-labelled scatterplot\n",
    "to convey all of this information."
   ]
  },
  {
   "cell_type": "code",
   "execution_count": 64,
   "metadata": {},
   "outputs": [
    {
     "data": {
      "image/png": "iVBORw0KGgoAAAANSUhEUgAAA2kAAAK7CAYAAABoCcc2AAAAOXRFWHRTb2Z0d2FyZQBNYXRwbG90bGliIHZlcnNpb24zLjkuMiwgaHR0cHM6Ly9tYXRwbG90bGliLm9yZy8hTgPZAAAACXBIWXMAAA9hAAAPYQGoP6dpAADyP0lEQVR4nOzde3zP9f//8ft7BztvGLNhzseZ0xxyiDmVM1GShCHlEMopKjl0QI6lohQTfZBCKTmEOR+GnLKcoqnmzDCGbc/fH357f71tZsvYW7tdL5ddLt7P1/P1ej1e7613u+/5fD1fFmOMEQAAAADALjhkdQEAAAAAgP9DSAMAAAAAO0JIAwAAAAA7QkgDAAAAADtCSAMAAAAAO0JIAwAAAAA7QkgDAAAAADtCSAMAAAAAO0JIAwAAAAA7QkgDHgHbtm1TmzZtVKhQIbm4uChfvnyqWbOmBg4caNOvSJEiatGixT2PZ7FYNHLkyPuu68CBAxo5cqSOHz/+r4+xefNmjRw5UhcvXrzvepC1Ro4cKYvFYv3KkSOHihYtqv79+6f6/d27d6+6du2qokWLytXVVZ6engoJCdEHH3yg8+fPp3qOkJAQWSwWTZgw4b7rvb3WO7/KlClj7RceHp5m37Fjx6Z5np07d6pPnz4qX768vLy8lC9fPjVq1Ehr1qxJ0Xf9+vWqXLmyvLy8VLduXR04cCBFnz59+ig0NFTGmPt+DzJbWFiYihQpktVlPNLu5/M5sz7b/w2+90DmIqQBdu6nn35SrVq1dOnSJX3wwQdauXKlPvzwQ9WuXVsLFiz4V8fcsmWLXnzxxfuu7cCBAxo1atR9h7RRo0YR0v5Dli9fri1btuinn37SU089palTp6pp06Y2oWLGjBmqUqWKIiMjNXjwYC1fvlyLFy9Wu3btNH36dHXv3j3FcXfv3q1ff/1VkvTll1/ed51btmxJ8TVlyhRJUps2baz9mjdvnmrfJ554IkXf1MybN0/bt29Xt27d9P333+uLL76Qi4uLGjZsqK+++sra7+LFi2rTpo2qVaumRYsWycfHR23btlViYqK1z9atWzVz5kx99tlnslgs9/0eZLbhw4dr8eLFWV1GtpVZn+0A7IABYNfq1q1rihcvbm7evJliW2Jios3rwoULm+bNmz+s0szChQuNJLN27dp/fYzx48cbSebYsWOZVhcyLi4u7r6PMWLECCPJnDlzxqa9U6dORpLZuHGjMcaYzZs3G0dHR9OkSRMTHx+f4jjXr18333//fYr2Pn36GEmmefPmRpLZtGnTfdd8p7CwMGOxWMzhw4fT7HflyhXj6elpHn/88Xse89SpUynaEhISTIUKFUzx4sWtbcuWLTMeHh7mxo0bxhhj/v77byPJREVFGWOMuXHjhilfvrwZMWJEBq7o4ciMnx/cIskuv8f30qVLF1O4cOGsLgP4z2AkDbBz586dU548eeTk5JRim4PDvf8T/vTTT+Xk5KQRI0ZY29I7JWbatGmqWLGiPD095eXlpTJlyuiNN96QdGsKWLt27SRJ9evXt079Cg8PlyStWrVKrVu3VsGCBeXq6qoSJUro5Zdf1tmzZ63HHzlypAYPHixJKlq0qPUYERER1j4LFixQzZo15eHhIU9PTzVu3Ng6mpLsjz/+0HPPPaf8+fNbp4M2bNhQu3fvTvP60rPf3d6rIkWKKCwszPo6eUrcmjVr1KNHD/n6+srb21udO3dWXFycTp48qWeffVY5c+ZUQECABg0apJs3b1r3P378uCwWi8aPH69x48apSJEicnNzU7169XTo0CHdvHlTQ4cOVf78+eXj46M2bdro9OnTNjUtWLBATz75pAICAuTm5qayZctq6NChiouLs+kXFhYmT09P7du3T08++aS8vLzUsGFDvfPOO3JyctKJEydSXG+3bt3k6+ur+Pj4NN/T1NSoUUOS9Oeff0qS3n//fVksFn3++edycXFJ0T9Hjhxq1aqVTVt8fLz+97//qUqVKpo8ebIkaebMmRmuJS2XL1/WwoULFRoaqhIlSqTZd8GCBbpy5Uq6Ri38/PxStDk6OqpKlSo273V8fLxcXFzk7OwsSfL09LS2S9KECRN048YNDRs2LN3X9Oqrr8rDw0OXLl1Ksa19+/bKly+f9efwfn9+krfdOeXtk08+Ud26deXn5ycPDw+VL19eH3zwgc3PvyTVq1dPwcHBioyMVJ06deTu7q5ixYpp7NixSkpKsul78eJFDRw4UMWKFZOLi4v8/PzUrFkz/f7779Y+N27c0LvvvqsyZcrIxcVFefPmVdeuXXXmzJl0vXc7duxQq1atlDt3brm6uqpy5cr65ptvrNvPnj2rwMBA1apVy+ZaDhw4IA8PD3Xq1CnFtW3YsEE1atSQm5ubChQooOHDh9uMlKbmzJkz6t27t4KCguTp6Sk/Pz81aNBAGzZsSNH3zs+r5M+ltWvXqlevXsqTJ498fX3Vtm1b/fPPPyn2T8/nbfJxS5cuLRcXF5UtW9ZmRBhAJsnqlAggbS+++KKRZPr27Wu2bt1q/St7am4fSUtKSjIDBw40zs7OZtasWTb9lI6/1M6bN8963pUrV5pffvnFTJ8+3fTr188YY8zp06fN+++/bySZTz75xGzZssVs2bLFnD592hhjzLRp08yYMWPMDz/8YNatW2dmz55tKlasaEqXLm29hhMnTpi+ffsaSWbRokXWY8TGxhpjjHnvvfeMxWIx3bp1Mz/++KNZtGiRqVmzpvHw8DC//fabtdbSpUubEiVKmDlz5ph169aZ7777zgwcOPCeI3zp2e9u71XhwoVNly5drK9nzZplJJmiRYuagQMHmpUrV5px48YZR0dH06FDBxMSEmLeffdds2rVKvP6668bSWbixInW/Y8dO2YkmcKFC5uWLVuaH3/80cydO9fky5fPlCpVynTq1Ml069bN/Pzzz2b69OnG09PTtGzZ0qamd955x0yePNn89NNPJiIiwkyfPt0ULVrU1K9f36Zfly5djLOzsylSpIgZM2aMWb16tVmxYoU5deqUcXFxMW+++aZN/3Pnzhk3NzczePDgNN/Pu42kvfbaa0aSWblypUlISDDu7u7mscceS/NYd/r666+tP2vGGPP4448bT09Pc/ny5QwdJy2ff/65kWTmzp17z761atUy3t7e/3oE6ebNm6ZEiRKmcuXK1rbo6Gjj7OxsPv30U3PhwgXz+uuvG19fX3P16lVz5MgR4+7ubtatW5eh8+zZs8dIMjNmzLBpv3DhgnFxcTEDBgywtt3vz0/ytjtHU1577TUzbdo0s3z5crNmzRozefJkkydPHtO1a1ebfqGhocbX19eULFnSTJ8+3axatcr07t3bSDKzZ8+29rt06ZIpV66c8fDwMKNHjzYrVqww3333nenfv79Zs2aNMebWLIMmTZoYDw8PM2rUKLNq1SrzxRdfmAIFCpigoCBz9erVNN+3NWvWmBw5cpg6deqYBQsWmOXLl5uwsDAjyebzdOPGjcbJycm89tprxphbI4pBQUGmTJky5sqVKymuLX/+/Oajjz4yK1asMP369TOSTJ8+fWzOfednzu+//2569epl5s+fbyIiIsyPP/5ounfvbhwcHFJ8xt25b/LnUrFixUzfvn3NihUrzBdffGFy5cqV4vua3s/b5GO2bt3aLF261MydO9eUKFHCBAYGMpIGZCJCGmDnzp49ax5//HEjyUgyzs7OplatWmbMmDEpfkFNDmlXr141Tz/9tPHx8TG//PJLimOmJ6S98sorJmfOnGn2Se90x6SkJHPz5k3z559/Gkk2U9nuNt0xOjraODk5mb59+9q0X7582fj7+5tnn33WGHPr/ZFkpkyZkmYNd0rvfhkNaXfW+9RTTxlJZtKkSTbtlSpVMiEhIdbXySGtYsWKNtNYp0yZYiSZVq1a2ez/6quvGknWQHun5Pd83bp1RpLZs2ePdVuXLl2MJDNz5swU+3Xp0sX4+fmZ69evW9vGjRtnHBwc7jklNTmknTx50ty8edNcuHDBzJ0717i5uZnAwEBz7do1c/LkSSPJPPfcc2ke604NGjQwrq6u5sKFC8aY/3u/v/zyywwdJy2PPfaYyZkzp7l27Vqa/aKioowk8/LLL//rc7355ptGklmyZIlN+6effmpy5MhhJBkfHx/rfyuNGjUy3bt3/1fnCgkJMbVq1UpxHklm3759qe5zPz8/af2inpiYaG7evGm++uor4+joaM6fP2/dFhoaaiSZbdu22ewTFBRkGjdubH09evRoI8msWrXqrudJ/iPTd999Z9MeGRlpJJlPP/30rvsaY0yZMmVM5cqVU0wzb9GihQkICLD5b3TcuHFGklm8eLHp0qWLcXNzM3v37rXZL/na7pzG26NHD+Pg4GD+/PNPa9u9Pp8TEhLMzZs3TcOGDU2bNm1stt0tpPXu3dum3wcffGAkmZiYGGNM+j9vExMTTf78+U1ISIhJSkqy9jt+/LhxdnYmpAGZiOmOgJ3z9fXVhg0bFBkZqbFjx6p169Y6dOiQhg0bpvLly9tMH5RuTY9s0KCBtm/fro0bN1qnIWVU9erVdfHiRXXo0EHff/99ivPcy+nTp9WzZ08FBgbKyclJzs7OKly4sCQpKirqnvuvWLFCCQkJ6ty5sxISEqxfrq6uCg0NtU6JzJ07t4oXL67x48dr0qRJ+vXXX1NMjUrNv93vXu5cXbNs2bKSbi0+cWd78vS/2zVr1sxmGmta+0tSdHS0te2PP/7Q888/L39/fzk6OsrZ2VmhoaGSUn/Pn3766RRt/fv31+nTp7Vw4UJJUlJSkqZNm6bmzZune+U2f39/OTs7K1euXHrhhRcUEhKi5cuXy9XVNV373+nYsWNau3at2rZtq5w5c0qS2rVrJy8vr0yb8vjbb79p27Zt6tix4z3rTF605N8u0PDFF1/ovffe08CBA9W6dWubbb169dL58+cVFRWlU6dOqVWrVpozZ4727t2r8ePH6/z58+rYsaPy5s2r4sWLa/r06fc8X9euXbV582YdPHjQ2jZr1ixVq1ZNwcHB1rbM+PlJza+//qpWrVrJ19fXetzOnTsrMTFRhw4dsunr7++v6tWr27RVqFDB5r+Vn3/+WaVKlVKjRo3ues4ff/xROXPmVMuWLW0+PypVqiR/f3+bKdV3OnLkiH7//Xd17NhRkmz2b9asmWJiYmzey8GDB6t58+bq0KGDZs+eralTp6p8+fIpjuvl5ZViGu/zzz+vpKQkrV+//q71SNL06dMVEhIiV1dX6+fp6tWr0/VZKinFeStUqCDp/6Ygp/fz9uDBg/rnn3/0/PPP2yxcU7hwYdWqVStdtQBIH0Ia8IioWrWqXn/9dS1cuFD//POPXnvtNR0/flwffPCBTb9Dhw5p27Ztatq0qc0vYBnVqVMnzZw5U3/++aeefvpp+fn56bHHHtOqVavuuW9SUpKefPJJLVq0SEOGDNHq1au1fft2bd26VZJ07dq1ex7j1KlTkqRq1arJ2dnZ5mvBggXW0GixWLR69Wo1btxYH3zwgUJCQpQ3b17169dPly9fvuvx/+1+95I7d26b1zly5Lhre2r3d2Vkf+n/7le6cuWK6tSpo23btundd99VRESEIiMjtWjRIkkp33N3d3d5e3unOH/lypVVp04dffLJJ5Ju/bJ7/PhxvfLKK2lcta1ffvlFkZGR2r17t86ePauNGzcqKChIkpQnTx65u7vr2LFj6T7ezJkzZYzRM888o4sXL+rixYu6efOmWrVqpU2bNtnch/RvpTd43bx5U1999ZUqVqyoqlWrZvg8s2bN0ssvv6yXXnpJ48ePT7WPh4eH9T6qc+fOaeDAgZoyZYpy5cql/v376/z58zpy5Ijmz5+vQYMGae3atWmes2PHjnJxcbHeL3rgwAFFRkaqa9eu1j6Z9fNzp+joaNWpU0d///23PvzwQ+sfnJJ/vu48rq+vb4pjuLi42PQ7c+aMChYsmOZ5T506pYsXLypHjhwpPj9OnjyZ5h+dkj97Bg0alGLf3r17S5LN/haLRWFhYYqPj5e/v7/NvWi3y5cvX4o2f39/Sbf+uHY3kyZNUq9evfTYY4/pu+++09atWxUZGakmTZqk67NUSvm+Jt8Lmrx/ej9vk+tMrju1awGQOVKuRADA7jk7O2vEiBGaPHmy9u/fb7OtZs2aateunXUJ82nTpqVrgZHUdO3aVV27dlVcXJzWr1+vESNGqEWLFjp06JB1VCw1+/fv1549exQeHq4uXbpY248cOZLuc+fJk0eS9O2336Z5LunWX3GTf8k+dOiQvvnmG40cOVI3btxIc6QhPfu5uLjo+vXrKfZN65eqrLBmzRr9888/ioiIsI5+SLrrow3SWr69X79+ateunXbt2qWPP/5YpUqVsi43nx4VK1a0fv/u5OjoqIYNG+rnn3/WX3/9dc9ftpOSkqzhom3btqn2mTlzZoo/VmTEjRs3NGfOHFWpUkWVKlVKs++PP/6o06dPa/jw4Rk+z6xZs/Tiiy+qS5cumj59erqW0B84cKCqVKmiDh06SLo1ijRr1iz5+PioWrVqevLJJ7Vs2TLVr1//rsfIlSuXWrdura+++krvvvuuZs2aJVdXV+sxpcz9+bndkiVLFBcXp0WLFtn8d3yvRX3SkjdvXv31119p9kleIGP58uWpbvfy8kpzX0kaNmzYXX/mSpcubf13TEyM+vTpo0qVKum3337ToEGD9NFHH6XYJzkI3e7kyZOSUg+nyebOnat69epp2rRpNu3388ekO6X38za5zuS6b5daG4B/j5AG2LmYmBgFBASkaE+e5pI/f/4U27p06SIPDw89//zziouL0+zZs+Xo6Piva/Dw8FDTpk1148YNPfXUU/rtt99UuHDhFH+NTZb8C9ydK/d99tlnKY59t2M0btxYTk5OOnr0aLqnVUlSqVKl9NZbb+m7777Trl277nu/IkWKaO/evTZ916xZoytXrqT72A9DRt7ze0l+cPrAgQO1bt06TZ48OVOfyTVs2DAtW7ZMPXr00Pfff28dFUx28+ZNLV++XC1bttSKFSv0119/qU+fPnrmmWdSHOuVV17RV199pffffz/VFVDT44cfftDZs2c1evToe/b98ssv5erqap0Kl17h4eF68cUX9cILL+iLL75I1/u5du1aLVy40OYPMcYYm9UWr1y5kq6HWnft2lXffPONli1bprlz56pNmzbWqaNS5v783C614xpjNGPGjH99zKZNm+rtt9/WmjVr1KBBg1T7tGjRQvPnz1diYqIee+yxDB2/dOnSKlmypPbs2aP3338/zb6JiYnq0KGDLBaLfv75Z3399dcaNGiQ6tWrlyLgXb58WT/88IPN1MP//e9/cnBwUN26de96DovFkuL7snfvXm3ZskWBgYEZura7Se/nbenSpRUQEKB58+ZpwIAB1u/vn3/+qc2bN6f6/yMA/w4hDbBzjRs3VsGCBdWyZUuVKVNGSUlJ2r17tyZOnChPT0/1798/1f2eeeYZubu765lnntG1a9c0b968FL8Mp6VHjx5yc3NT7dq1FRAQoJMnT2rMmDHWv+BLsk6n/Pzzz+Xl5SVXV1cVLVpUZcqUUfHixTV06FAZY5Q7d24tXbo01amSyfdufPjhh+rSpYucnZ1VunRpFSlSRKNHj9abb76pP/74Q02aNFGuXLl06tQpbd++XR4eHho1apT27t2rV155Re3atVPJkiWVI0cOrVmzRnv37tXQoUPven3p3a9Tp04aPny43n77bYWGhurAgQP6+OOP5ePjk+738mGoVauWcuXKpZ49e2rEiBFydnbW119/rT179mT4WI6OjurTp49ef/11eXh42DxqIDPUrFlT06ZNU+/evVWlShX16tVL5cqV082bN/Xrr7/q888/V3BwsFq2bKkvv/xSTk5OeuONN1L9BfDll19Wv3799NNPP1nv77JYLDb30dzLl19+KTc3Nz3//PNp9vvnn3+0fPlytW/fXrly5Uq1z1dffaVu3bpp5syZ6ty5syRp4cKF6t69uypVqqSXX35Z27dvt9mncuXKKX4Jv379ul5++WWNHDlSRYsWtbY3btxYo0ePlre3tw4fPqzVq1dryJAh97zGJ598UgULFlTv3r118uRJm6mOUub+/NzuiSeeUI4cOdShQwcNGTJE8fHxmjZtmi5cuPCvj/nqq69qwYIFat26tYYOHarq1avr2rVrWrdunVq0aKH69evrueee09dff61mzZqpf//+ql69upydnfXXX39p7dq1at26dZoPIf/ss8/UtGlTNW7cWGFhYSpQoID1XsFdu3ZZ79kcMWKENmzYoJUrV8rf39/6h43u3burcuXKNt87X19f9erVS9HR0SpVqpSWLVumGTNmqFevXipUqNBda2nRooXeeecdjRgxQqGhoTp48KBGjx6tokWLKiEh4V+/j7dL7+etg4OD3nnnHb344otq06aNevTooYsXL2rkyJFMdwQyW5YuWwLgnhYsWGCef/55U7JkSePp6WmcnZ1NoUKFTKdOncyBAwds+qb2MOu1a9caT09P06RJE+uy00rH6o6zZ8829evXN/ny5TM5cuQw+fPnN88++2yKVcumTJliihYtahwdHW2Wpz5w4IB54oknjJeXl8mVK5dp166diY6OTvXcw4YNM/nz5zcODg4pVotcsmSJqV+/vvH29jYuLi6mcOHC5plnnrGuWnnq1CkTFhZmypQpYzw8PIynp6epUKGCmTx5sklISLjr9aV3v+vXr5shQ4aYwMBA4+bmZkJDQ83u3bvvurpjZGSkzXnutix9ly5djIeHh/V18uqO48ePt+m3du1aI8ksXLjQpj21823evNnUrFnTuLu7m7x585oXX3zR7Nq1K8Wy4XeeOzXHjx83kkzPnj3T7Jeea72b3bt3my5duphChQqZHDlyGA8PD1O5cmXz9ttvm9OnT5szZ86YHDlymKeeeuqux7hw4YJxc3OzPo7g8uXLGVo9Mjo62jg4OJjOnTvfs+97771nJFmXeU9N8vflzvdb/3911tS+Uls186233jIVK1ZMsbrg6dOnzTPPPGN8fHxMYGBghlY1feONN4wkExgYaLM6YbLM+PlJbXXHpUuXmooVKxpXV1dToEABM3jwYPPzzz+n+G89NDTUlCtXLl3HvHDhgunfv78pVKiQcXZ2Nn5+fqZ58+bm999/t/a5efOmmTBhgvXcnp6epkyZMubll1++58PKjbn1+IJnn33W+Pn5GWdnZ+Pv728aNGhgpk+fbowxZuXKlcbBwSHF59m5c+dMoUKFTLVq1ayrpCZfW0REhKlatapxcXExAQEB5o033kjxPb7zM/L69etm0KBBpkCBAsbV1dWEhISYJUuWpPq+3Lnv3T6Xkj9X7lyZ916ft8m++OILU7JkSZMjRw5TqlQpM3PmTB5mDWQyizHpmCcBAMhWpk6dqn79+mn//v0qV65cVpeTbsuWLVOLFi20Z8+eVFfYA7JCvXr1dPbs2RT3EAPA3TDdEQBg9euvv+rYsWMaPXq0Wrdu/UgFNOnWfVzPPfccAQ0A8EhjJA0AYFWkSBGdPHlSderU0Zw5c7jPBMgEjKQByChCGgAAAADYER5mDQAAAAB2hJAGAAAAAHaEkAYAAAAAdiRbre6YlJSkf/75R15eXrJYLFldDgAAAIAsYozR5cuXlT9/fjk42NfYVbYKaf/8848CAwOzugwAAAAAduLEiRMqWLBgVpdhI1uFNC8vL0m3vhHe3t5ZXA0AAACArHLp0iUFBgZaM4I9yVYhLXmKo7e3NyENAAAAgF3eBmVfky8BAAAAIJsjpAEAAACAHSGkAQAAAIAdIaQBAAAAgB0hpAEAAACAHSGkAQAAAIAdIaQBAAAAgB0hpAEAAACAHSGkAQAAAIAdIaQBAAAAgB15ZELayJEjZbFYbL78/f2zuiwAAAAAyFROWV1ARpQrV06//PKL9bWjo2MWVgMAAAAAme+RCmlOTk6MngEAAAD4T3tkpjtK0uHDh5U/f34VLVpUzz33nP744480+1+/fl2XLl2y+QIAAAAAe/bIhLTHHntMX331lVasWKEZM2bo5MmTqlWrls6dO3fXfcaMGSMfHx/rV2Bg4EOsGAAAAAAyzmKMMVldxL8RFxen4sWLa8iQIRowYECqfa5fv67r169bX1+6dEmBgYGKjY2Vt7f3wyoVAAD8x7Rs2VLXrl2zuVc+2ZYtW1SrVi3t3LlTISEhWVDdvxMWFqaLFy9qyZIlWV0K8FBcunRJPj4+dpkNHpmRtDt5eHiofPnyOnz48F37uLi4yNvb2+YLAADgfnXv3l1r1qzRn3/+mWLbzJkzValSpQwHtBs3bmRWeQAecY9sSLt+/bqioqIUEBCQ1aUAAIBspkWLFvLz81N4eLhN+9WrV7VgwQJ1795dmzdvVt26deXm5qbAwED169dPcXFx1r5FihTRu+++q7CwMPn4+KhHjx4KDw9Xzpw59eOPP6p06dJyd3fXM888o7i4OM2ePVtFihRRrly51LdvXyUmJlqPdeHCBXXu3Fm5cuWSu7u7mjZtavOH7OTjrlixQmXLlpWnp6eaNGmimJgYSbcedTR79mx9//331kcdRUREPND3EMDdPTIhbdCgQVq3bp2OHTumbdu26ZlnntGlS5fUpUuXrC4NAABkM05OTurcubPCw8N1+50jCxcu1I0bN1SxYkU1btxYbdu21d69e7VgwQJt3LhRr7zyis1xxo8fr+DgYO3cuVPDhw+XdCvoffTRR5o/f76WL1+uiIgItW3bVsuWLdOyZcs0Z84cff755/r222+txwkLC9OOHTv0ww8/aMuWLTLGqFmzZrp586a1z9WrVzVhwgTNmTNH69evV3R0tAYNGiTp1u9Zzz77rDW4xcTEqFatWg/yLQSQhkfmnrTnnntO69ev19mzZ5U3b17VqFFD77zzjoKCgtJ9DHuedwoAAB4tv//+u8qWLas1a9aofv36kqTQ0FAVKFBATk5OcnNz02effWbtv3HjRoWGhiouLk6urq4qUqSIKleurMWLF1v7hIeHq2vXrjpy5IiKFy8uSerZs6fmzJmjU6dOydPTU5LUpEkTFSlSRNOnT9fhw4dVqlQpbdq0yRqszp07p8DAQM2ePVvt2rVL9biffvqpRo8erZMnT0rinjRkP/acDR6Z56TNnz8/q0sAAADZXGKS0fZj53X6crz8vPKqZq1amjlzpurXr6+jR49qw4YNWrlypfr3768jR47o66+/tu5rjFFSUpKOHTumsmXLSpKqVq2a4hzu7u7WICVJ+fLlU5EiRawBLbnt9OnTkqSoqCg5OTnpscces2739fVV6dKlFRUVddfjBgQEWI8BwL48MiENAAAgKy3fH6NRSw8oJjbe2uboX1O7vv1En3zyiWbNmqXChQurYcOGSkpK0ssvv6x+/fqlOE6hQoWs//bw8Eix3dnZ2ea1xWJJtS0pKUmSdLdJUcYYWSyWNI/7iEyoArIdQhoAAMA9LN8fo15zd+nOSJNQuIZuJH2qNydM05LZs9WjRw9ZLBaFhITot99+U4kSJR54bUFBQUpISNC2bdtspjseOnTIOmKXHjly5LBZjARA1nlkFg4BAADIColJRqOWHkgR0CTJksNNHmXqaNqE9/TPP/8oLCxMkvT6669ry5Yt6tOnj3bv3q3Dhw/rhx9+UN++fTO9vpIlS6p169bq0aOHNm7cqD179uiFF15QgQIF1Lp163Qfp0iRItq7d68OHjyos2fP2iw6AuDhIqQBAACkYfux8zZTHO/kWeEJJV67rKq1Qq1TGStUqKB169bp8OHDqlOnjipXrqzhw4c/sEcHzZo1S1WqVFGLFi1Us2ZNGWO0bNmyFFMc09KjRw+VLl1aVatWVd68ebVp06YHUiuAe3tkVnfMDPa8ggsAALBP3+/+W/3n775nvw+fq6TWlQo8+IIAZAp7zgaMpAEAAKTBz8s1U/sBwL0Q0gAAANJQvWhuBfi4ynKX7RZJAT6uql4098MsC8B/GCENAAAgDY4OFo1oGSRJKYJa8usRLYPk6HC3GAcAGUNIAwAAuIcmwQGa9kKI/H1spzT6+7hq2gshahL8YBYEAZA98Zw0AACAdGgSHKAngvy1/dh5nb4cLz+vW1McGUEDkNkIaQAAAOnk6GBRzeK+WV0GgP84pjsCAAAAgB0hpAEAAACAHSGkAQAAAIAdIaQBAAAAgB0hpAEAAACAHSGkAQAAAIAdIaQBAAAAgB0hpAEAAACAHSGkAQAAAIAdIaQBAAAAgB0hpAEAAACAHSGkAQAAAIAdIaQBAAAAgB0hpAEAAACAHSGkAQAAAIAdIaQBAAAAgB0hpAEAAACAHSGkAQAAAIAdIaQBAAAAgB0hpAEAAACAHSGkAQAAAIAdIaQBAAAAgB0hpAEAAACAHSGkAQAAAIAdIaQBAAAAgB0hpAEAAACAHSGkAQAAAIAdIaQBAAAAgB0hpAEAAACAHSGkAQAAAIAdIaQBAAAAgB0hpAEAAACAHSGkAQAAAIAdIaQBAAAAgB0hpAEAAACAHSGkAQAAAIAdIaQBAAAAgB0hpAEAAACAHSGkAQAAAIAdIaQBAAAAgB0hpAEAAACAHSGkAQAAAIAdIaQBAAAAgB0hpAEAAACAHSGkAQAAAIAdIaQBAAAAgB0hpAEAAACAHSGkAQAAAIAdIaQBAAAAgB0hpAEAAACAHSGkAQAAAIAdIaQBAAAAgB0hpAEAAACAHSGkAQAAAIAdIaQBAAAAgB0hpAEAAACAHSGkAQAAAIAdIaQBAAAAgB0hpAEAAACAHSGkAQAAAIAdIaQBAAAAgB0hpAEAAACAHSGkAQAAAIAdIaQBAAAAgB0hpAEAAACAHSGkAQAAAIAdeWRD2pgxY2SxWPTqq69mdSkAAAAAkGkeyZAWGRmpzz//XBUqVMjqUgAAAAAgUz1yIe3KlSvq2LGjZsyYoVy5cmV1OQAAAACQqR65kNanTx81b95cjRo1umff69ev69KlSzZfAAAAAGDPnLK6gIyYP3++du3apcjIyHT1HzNmjEaNGvWAqwIAAACAzPPIjKSdOHFC/fv319y5c+Xq6pqufYYNG6bY2Fjr14kTJx5wlQAAAABwfyzGGJPVRaTHkiVL1KZNGzk6OlrbEhMTZbFY5ODgoOvXr9tsS82lS5fk4+Oj2NhYeXt7P+iSAQAAANgpe84Gj8x0x4YNG2rfvn02bV27dlWZMmX0+uuv3zOgAQAAAMCj4JEJaV5eXgoODrZp8/DwkK+vb4p2AAAAAHhUPTL3pAEAAABAdvDIjKSlJiIiIqtLAAAAAIBMxUgaAAAAANgRQhoAAAAA2BFCGgAAAADYEUIaAAAAANgRQhoAAAAA2BFCGgAAAADYEUIaAAAAANgRQhoAAAAA2BFCGgAAAADYEUIaAAAAANgRQhoAAAAA2BFCGgAAAADYEUIaAAAAANgRQhoAAAAA2BFCGgAAAADYEUIaAAAAANgRQhoAAAAA2BFCGgAAAADYEUIaAAAAANgRQhoAAAAA2BFCGgAAAADYEUIaAAAAANgRQhoAAAAA2BFCGgAAAADYEUIaAAAAANgRQhoAAAAA2BFCGgAAAADYEUIaAAAAANgRQhoAAAAA2BFCGgAAAADYEUIaAAAAANgRQhoAAAAA2BFCGgAAAADYEUIaAAAAANgRQhoAAAAA2BFCGgAAAADYEUIaAAAAANgRQhoAAAAA2BFCGgAAAADYEUIaAAAAANgRQhoAAAAA2BFCGgAAAADYEUIaAAAAANgRQhoAAMB/VFhYmJ566qk0+xQpUkRTpkx5KPUASB9CGgAAsCthYWGyWCwaO3asTfuSJUtksVgeai0Wi0VLlixJ0Z6e8POoiIyM1EsvvZTVZQC4DSENAADYHVdXV40bN04XLlzI6lL+8/LmzSt3d/e7br958+ZDrAaAREgDAAB2qFGjRvL399eYMWPS7Ld582bVrVtXbm5uCgwMVL9+/RQXFydJmjp1qsqXL2/tmzwS98knn1jbGjdurGHDht13vcuXL9fjjz+unDlzytfXVy1atNDRo0et248fPy6LxaJvvvlGderUkZubm6pVq6ZDhw4pMjJSVatWlaenp5o0aaIzZ85Y90sesRs1apT8/Pzk7e2tl19+WTdu3LD2+fbbb1W+fHm5ubnJ19dXjRo1sr4HySZMmKCAgAD5+vqqT58+NsHrzumOFotF06dPV+vWreXh4aF3331XkrR06VJVqVJFrq6uKlasmEaNGqWEhIT7fu8ApERIAwAAdsfR0VHvv/++pk6dqr/++ivVPvv27VPjxo3Vtm1b7d27VwsWLNDGjRv1yiuvSJLq1aun3377TWfPnpUkrVu3Tnny5NG6deskSQkJCdq8ebNCQ0Pvu964uDgNGDBAkZGRWr16tRwcHNSmTRslJSXZ9BsxYoTeeust7dq1S05OTurQoYOGDBmiDz/8UBs2bNDRo0f19ttv2+yzevVqRUVFae3atZo3b54WL16sUaNGSZJiYmLUoUMHdevWTVFRUYqIiFDbtm1ljLHuv3btWh09elRr167V7NmzFR4ervDw8DSvZ8SIEWrdurX27dunbt26acWKFXrhhRfUr18/HThwQJ999pnCw8P13nvv3fd7ByAVJhuJjY01kkxsbGxWlwIAAG6TkJhkNh85a5b8+pdp1vY506pVa2OMMTVq1DDdunUzxhizePFic/uvLp06dTIvvfSSzXE2bNhgHBwczLVr10xSUpLJkyeP+fbbb40xxlSqVMmMGTPG+Pn5GWOM2bx5s3FycjKXL1++a12SjKurq/Hw8LD5cnJyMq1bt77rfqdPnzaSzL59+4wxxhw7dsxIMl988YW1z7x584wks3r1amvbmDFjTOnSpa2vu3TpYnLnzm3i4uKsbdOmTTOenp4mMTHR7Ny500gyx48fT7WOLl26mMKFC5uEhARrW7t27Uz79u2trwsXLmwmT55sc82vvvqqzXHq1Klj3n//fZu2OXPmmICAgLu+B4C9s+ds4JRl6RAAAEDS8v0xGrX0gGJi4yVJZw+dUY7Ea1q+P0bjxo1TgwYNNHDgwBT77dy5U0eOHNHXX39tbTPGKCkpSceOHVPZsmVVt25dRUREqGHDhvrtt9/Us2dPTZgwwTrqFBISIk9PzzTrmzx5sho1amTT9vrrrysxMdH6+ujRoxo+fLi2bt2qs2fPWkfQoqOjFRwcbO1XoUIF67/z5csnSTZTMvPly6fTp0/bnKtixYo294zVrFlTV65c0YkTJ1SxYkU1bNhQ5cuXV+PGjfXkk0/qmWeeUa5cuaz9y5UrJ0dHR+vrgIAA7du3L81rrlq1qs3rnTt3KjIy0mbkLDExUfHx8bp69Wqa97QByDhCGgAAyDLL98eo19xdMne0xyckqdfcXZr2QogaN26sN954Q2FhYTZ9kpKS9PLLL6tfv34pjluoUCFJt6Y8fv7559qwYYMqVqyonDlzqm7dulq3bp0iIiJUr169e9bo7++vEiVK2LR5eXnp4sWL1tctW7ZUYGCgZsyYofz58yspKUnBwcE2945JkrOzs/XfyStV3tl25xTJu7FYLHJ0dNSqVau0efNmrVy5UlOnTtWbb76pbdu2qWjRoimOn95zeHh42LxOSkrSqFGj1LZt2xR9XV1d01UvgPQjpAEAgCyRmGQ0aumBFAHtdqOWHtC098eoSkhllSpVymZbSEiIfvvttxQB6nb16tVT//799e2331oDWWhoqH755Rdt3rxZ/fv3v+/rOHfunKKiovTZZ5+pTp06kqSNGzfe93GT7dmzR9euXZObm5skaevWrfL09FTBggUl3QpdtWvXVu3atfX222+rcOHCWrx4sQYMGJBpNYSEhOjgwYNpvtcAMg8hDQAAZIntx85bpzimxkiKiY3XNc8C6tixo6ZOnWqz/fXXX1eNGjXUp08f9ejRQx4eHoqKitKqVausfYODg+Xr66uvv/5a33//vaRbwS15+uTjjz9+39eRK1cu+fr66vPPP1dAQICio6M1dOjQ+z5ushs3bqh79+5666239Oeff2rEiBF65ZVX5ODgoG3btmn16tV68skn5efnp23btunMmTMqW7Zspp1fkt5++221aNFCgYGBateunRwcHLR3717t27fPuvojgMzD6o4AACBLnL5894B2Z7933nnHZsVC6db9XevWrdPhw4dVp04dVa5cWcOHD1dAQIC1j8Visa7emDzKVaFCBfn4+Khy5cry9va+7+twcHDQ/PnztXPnTgUHB+u1117T+PHj7/u4yRo2bKiSJUuqbt26evbZZ9WyZUuNHDlSkuTt7a3169erWbNmKlWqlN566y1NnDhRTZs2zbTzS7ceVfDjjz9q1apVqlatmmrUqKFJkyapcOHCmXoeALdYzJ2feP9hly5dko+Pj2JjYzPlQxkAAPx7W46eU4cZW+/Zb16PGqpZ3PchVGR/wsLCdPHiRS1ZsiSrSwH+c+w5GzCSBgAAskT1orkV4OMqy122WyQF+LiqetHcD7MsAMhyhDQAAJAlHB0sGtEySJJSBLXk1yNaBsnR4W4xDgD+m5juCAAAstSdz0mTbo2gjWgZpCbBAWnsCQD/nj1nA1Z3BAAAWapJcICeCPLX9mPndfpyvPy8bk1xZAQNQHZFSAMAAFnO0cGSbRcHAYA7cU8aAAAAANgRQhoAAAAA2BFCGgAAAADYEUIaAAAAANgRQhoAAAAA2BFCGgAAAADYEUIaAAAAANgRQhoAAAAA2BFCGgAAAADYEUIaAAAAANgRQhoAAAAA2BFCGgAAAADYEUIaAAAAANgRQhoAAAAA2BFCGgAAAADYEUIaAAAAANgRQhoAAAAA2BFCGgAAAADYkUcmpE2bNk0VKlSQt7e3vL29VbNmTf38889ZXRYAAAAAZKpHJqQVLFhQY8eO1Y4dO7Rjxw41aNBArVu31m+//ZbVpQEAAABAprEYY0xWF/Fv5c6dW+PHj1f37t3T1f/SpUvy8fFRbGysvL29H3B1AAAAAOyVPWcDp6wu4N9ITEzUwoULFRcXp5o1a9613/Xr13X9+nXr60uXLj2M8gAAAADgX3tkpjtK0r59++Tp6SkXFxf17NlTixcvVlBQ0F37jxkzRj4+PtavwMDAh1gtAAAAAGTcIzXd8caNG4qOjtbFixf13Xff6YsvvtC6devuGtRSG0kLDAy0yyFNAAAAAA+PPU93fKRC2p0aNWqk4sWL67PPPktXf3v+RgAAAAB4eOw5GzxS0x3vZIyxGSkDAAAAgEfdI7NwyBtvvKGmTZsqMDBQly9f1vz58xUREaHly5dndWkAAAAAkGkemZB26tQpderUSTExMfLx8VGFChW0fPlyPfHEE1ldGgAAAABkmkcmpH355ZdZXQIAAAAAPHCP9D1pAAAAAPBfQ0gDAAAAADtCSAMAAAAAO0JIAwAAAAA7QkgDAAAAADtCSAMAAAAAO0JIAwAAAAA7QkgDAAAAADtCSAMAAAAAO0JIAwAAAAA7QkgDAAAAADtCSAMAAAAAO0JIAwAAAAA7QkgDAAAAADtCSAMAAAAAO0JIAwAAAAA7QkgDAAAAADtCSAMAAAAAO0JIAwAAAAA7QkgDAAAAADtCSAMAAAAAO0JIAwAAAAA7QkgDAAAAADtCSAMAAAAAO0JIAwAAAAA7QkgDAAAAADtCSAMAAAAAO0JIAwAAAAA7QkgDAAAAADtCSAMAAAAAO0JIAwAAAAA7QkgDAAAAADtCSAMAAAAAO0JIAwAAAAA7QkgDAAAAADtCSAMAAAAAO0JIAwAAAAA7QkgDAAAAADtCSAMAAAAAO0JIAwAAAAA7QkgDAAAAADuS4ZA2evRoXb16NUX7tWvXNHr06EwpCgAAAACyK4sxxmRkB0dHR8XExMjPz8+m/dy5c/Lz81NiYmKmFpiZLl26JB8fH8XGxsrb2zurywEAAACQRew5G2R4JM0YI4vFkqJ9z549yp07d6YUBQAAAADZlVN6O+bKlUsWi0UWi0WlSpWyCWqJiYm6cuWKevbs+UCKBAAAAIDsIt0hbcqUKTLGqFu3bho1apR8fHys23LkyKEiRYqoZs2aD6RIAAAAAMgu0h3SunTpIkkqWrSoatWqJWdn5wdWFAAAAABkV+kOaclCQ0OVlJSkQ4cO6fTp00pKSrLZXrdu3UwrDgAAAACymwyHtK1bt+r555/Xn3/+qTsXhrRYLHa9uiMAAAAA2LsMh7SePXuqatWq+umnnxQQEJDqSo8AAAAAgH8nwyHt8OHD+vbbb1WiRIkHUQ8AAAAAZGsZfk7aY489piNHjjyIWgAAAAAg28vwSFrfvn01cOBAnTx5UuXLl0+xymOFChUyrTgAAAAAyG4s5s7VP+7BwSHl4JvFYpExxu4XDrl06ZJ8fHwUGxsrb2/vrC4HAAAAQBax52yQ4ZG0Y8eOPYg6AAAAAAD6FyGtcOHCD6IOAAAAAID+xcIhkjRnzhzVrl1b+fPn159//ilJmjJlir7//vtMLQ4AAAAAspsMh7Rp06ZpwIABatasmS5evGi9By1nzpyaMmVKZtcHAAAAANlKhkPa1KlTNWPGDL355ptydHS0tletWlX79u3L1OIAAAAAILvJcEg7duyYKleunKLdxcVFcXFxmVIUAAAAAGRXGQ5pRYsW1e7du1O0//zzzwoKCsqMmgAAAAAg28rw6o6DBw9Wnz59FB8fL2OMtm/frnnz5mnMmDH64osvHkSNAAAAAJBtZDikde3aVQkJCRoyZIiuXr2q559/XgUKFNCHH36o55577kHUCAAAAADZhsUYY/7tzmfPnlVSUpL8/Pwys6YHxp6fKg4AAADg4bHnbJDhkbTb5cmTJ7PqAAAAAADoXywccurUKXXq1En58+eXk5OTHB0dbb4AAAAAAP9ehkfSwsLCFB0dreHDhysgIEAWi+VB1AUAAAAA2VKGQ9rGjRu1YcMGVapU6QGUAwAAAADZW4anOwYGBuo+1hoBAAAAAKQhwyFtypQpGjp0qI4fP/4AygEAAACA7C3D0x3bt2+vq1evqnjx4nJ3d5ezs7PN9vPnz2dacQAAAACQ3WQ4pE2ZMuUBlAEAAAAAkP5FSOvSpcuDqAMAAAAAoH/5MOvExEQtWbJEUVFRslgsCgoKUqtWrXhOGgAAAADcpwyHtCNHjqhZs2b6+++/Vbp0aRljdOjQIQUGBuqnn35S8eLFH0SdAAAAAJAtZHh1x379+ql48eI6ceKEdu3apV9//VXR0dEqWrSo+vXr9yBqBAAAAIBsI8MjaevWrdPWrVuVO3dua5uvr6/Gjh2r2rVrZ2pxAAAAAJDdZHgkzcXFRZcvX07RfuXKFeXIkSNTikrNmDFjVK1aNXl5ecnPz09PPfWUDh48+MDOBwAAAABZIcMhrUWLFnrppZe0bds2GWNkjNHWrVvVs2dPtWrV6kHUKOnWCF6fPn20detWrVq1SgkJCXryyScVFxf3wM4JAAAAAA+bxRhjMrLDxYsX1aVLFy1dutT6IOuEhAS1atVK4eHh8vHxeSCF3unMmTPy8/PTunXrVLdu3XTtc+nSJfn4+Cg2Nlbe3t4PuEIAAAAA9sqes0GG70nLmTOnvv/+ex0+fFhRUVGSpKCgIJUoUSLTi0tLbGysJNncG3en69ev6/r169bXly5deuB1AQAAAMD9yPBI2u2Sd7VYLJlWUHrP27p1a124cEEbNmy4a7+RI0dq1KhRKdrtMS0DAAAAeHjseSQtw/ekSdKXX36p4OBgubq6ytXVVcHBwfriiy8yu7a7euWVV7R3717NmzcvzX7Dhg1TbGys9evEiRMPqUIAAAAA+HcyPN1x+PDhmjx5svr27auaNWtKkrZs2aLXXntNx48f17vvvpvpRd6ub9+++uGHH7R+/XoVLFgwzb4uLi5ycXF5oPUAAAAAQGbK8HTHPHnyaOrUqerQoYNN+7x589S3b1+dPXs2UwtMZoxR3759tXjxYkVERKhkyZIZPoY9D2kCAAAAeHjsORtkeCQtMTFRVatWTdFepUoVJSQkZEpRqenTp4/+97//6fvvv5eXl5dOnjwpSfLx8ZGbm9sDOy8AAAAAPEwZvifthRde0LRp01K0f/755+rYsWOmFJWaadOmKTY2VvXq1VNAQID1a8GCBQ/snAAAAADwsGV4JE26tXDIypUrVaNGDUnS1q1bdeLECXXu3FkDBgyw9ps0aVLmVKn/W0kSAAAAAP7LMhzS9u/fr5CQEEnS0aNHJUl58+ZV3rx5tX//fmu/h70sPwAAAAD8F2Q4pK1du/ZB1AEAAAAA0L98ThoAAAAA4MHI8EhafHy8pk6dqrVr1+r06dNKSkqy2b5r165MKw4AAAAAspsMh7Ru3bpp1apVeuaZZ1S9enXuPQMAAACATJThkPbTTz9p2bJlql279oOoBwAAAACytQzfk1agQAF5eXk9iFoAAAAAINvLcEibOHGiXn/9df35558Poh4AAAAAyNYyPN2xatWqio+PV7FixeTu7i5nZ2eb7efPn8+04gAAAAAgu8lwSOvQoYP+/vtvvf/++8qXLx8LhwAAAABAJspwSNu8ebO2bNmiihUrPoh6AAAAACBby/A9aWXKlNG1a9ceRC0AAAAAkO1lOKSNHTtWAwcOVEREhM6dO6dLly7ZfAEAAAAA/j2LMcZkZAcHh1u57s570YwxslgsSkxMzLzqMtmlS5fk4+Oj2NhYeXt7Z3U5AAAAALKIPWeDDN+Ttnbt2gdRBwAAAABA/yKkhYaGPog6AAAAAAD6FyFNki5evKgvv/xSUVFRslgsCgoKUrdu3eTj45PZ9QEAAABAtpLhhUN27Nih4sWLa/LkyTp//rzOnj2rSZMmqXjx4tq1a9eDqBEAAAAAso0MLxxSp04dlShRQjNmzJCT062BuISEBL344ov6448/tH79+gdSaGaw55sDAQAAADw89pwNMhzS3Nzc9Ouvv6pMmTI27QcOHFDVqlV19erVTC0wM9nzNwIAAADAw2PP2SDD0x29vb0VHR2dov3EiRPy8vLKlKIAAAAAILvKcEhr3769unfvrgULFujEiRP666+/NH/+fL344ovq0KHDg6gRAAAAALKNDK/uOGHCBFksFnXu3FkJCQmSJGdnZ/Xq1Utjx47N9AIBAAAAIDvJ8D1pya5evaqjR4/KGKMSJUrI3d09s2vLdPY87xQAAADAw2PP2SDDI2mxsbFKTExU7ty5Vb58eWv7+fPn5eTkZHcXCAAAAACPkgzfk/bcc89p/vz5Kdq/+eYbPffcc5lSFAAAAABkVxkOadu2bVP9+vVTtNerV0/btm3LlKIAAAAAILvKcEi7fv26dcGQ2928eVPXrl3LlKIAAAAAILvKcEirVq2aPv/88xTt06dPV5UqVTKlKAAAAADIrjK8cMh7772nRo0aac+ePWrYsKEkafXq1YqMjNTKlSszvUAAAAAAyE4yPJJWu3ZtbdmyRYGBgfrmm2+0dOlSlShRQnv37lWdOnUeRI0AAAAAkG386+ekPYrs+VkIAAAAAB4ee84GGR5JAwAAAAA8OIQ0AAAAALAjhDQAAAAAsCOENAAAAACwI4Q0AAAAALAj6XpOWtu2bdN9wEWLFv3rYgAAAAAgu0vXSJqPj4/1y9vbW6tXr9aOHTus23fu3KnVq1fLx8fngRUKAAAAANlBukbSZs2aZf3366+/rmeffVbTp0+Xo6OjJCkxMVG9e/e2u+cLAAAAAMCjJsP3pM2cOVODBg2yBjRJcnR01IABAzRz5sxMLQ4A7JXFYtGSJUuyugwAAPAflOGQlpCQoKioqBTtUVFRSkpKypSiAGQ/06dPl5eXlxISEqxtV65ckbOzs+rUqWPTd8OGDbJYLDp06NDDLtMqJiZGTZs2zbLzAwCA/650TXe8XdeuXdWtWzcdOXJENWrUkCRt3bpVY8eOVdeuXTO9QADZQ/369XXlyhXt2LHD+tmyYcMG+fv7KzIyUlevXpW7u7skKSIiQvnz51epUqWyrF5/f/8sOzcAAPhvy/BI2oQJEzR06FBNnjxZdevWVd26dTV58mQNGTJE48ePfxA1AsgGSpcurfz58ysiIsLaFhERodatW6t48eLavHmzTXu9evVUokQJTZgwweY4+/fvl4ODg44ePSpJio6OVuvWreXp6Slvb289++yzOnXqlLX/yJEjValSJc2cOVOFChWSp6enevXqpcTERH3wwQfy9/eXn5+f3nvvPZvz3D7d8fjx47JYLFq0aJHq168vd3d3VaxYUVu2bLHZZ8aMGQoMDJS7u7vatGmjSZMmKWfOnJnw7gEAgP+SDIc0BwcHDRkyRH///bcuXryoixcv6u+//9aQIUNs7lMDgIyqV6+e1q5da329du1a1atXT6Ghodb2GzduaMuWLWrQoIG6detms7CRdOu+2Tp16qh48eIyxuipp57S+fPntW7dOq1atUpHjx5V+/btbfY5evSofv75Zy1fvlzz5s3TzJkz1bx5c/31119at26dxo0bp7feektbt25Ns/4333xTgwYN0u7du1WqVCl16NDBOn1z06ZN6tmzp/r376/du3friSeeSBH8AAAApH8x3fF2rOYI4H4lJhltP3Zepy/HKzCoqr4fM1wJCQm6du2afv31V9WtW1eJiYn66KOPJN2aXn3t2jXVr19fbm5uevvtt7V9+3ZVr15dN2/e1Ny5c62j+r/88ov27t2rY8eOKTAwUJI0Z84clStXTpGRkapWrZokKSkpSTNnzpSXl5eCgoJUv359HTx4UMuWLZODg4NKly6tcePGKSIiwjoVMzWDBg1S8+bNJUmjRo1SuXLldOTIEZUpU0ZTp05V06ZNNWjQIElSqVKltHnzZv34448P7L0FAACPpgyPpJ06dUqdOnVS/vz55eTkJEdHR5svAEiv5ftj9Pi4NeowY6v6z9+tOdGeiouL09T5P2vDhg0qVaqU/Pz8FBoaqsjISMXFxSkiIkKFChVSsWLFFBAQoObNm1tXlv3xxx8VHx+vdu3aSbq1oFFgYKA1oElSUFCQcubMabMAUpEiReTl5WV9nS9fPgUFBcnBwcGm7fTp02leT4UKFaz/DggIkCTrPgcPHlT16tVt+t/5GgAAQPoXI2lhYWGKjo7W8OHDFRAQIIvF8iDqAvAft3x/jHrN3SVzW5tzrvxy9Mqj0TO+VcNi7goNDZV0a5GOokWLatOmTVq7dq0aNGhg3efFF19Up06dNHnyZM2aNUvt27e3LjBijEn1M+rOdmdnZ5vtFosl1bZ7rWB7+z7Jx0/eJ7VajDECAAC4U4ZD2saNG7VhwwZVqlTpAZQDIDtITDIatfSAUosoroXKKz56n5YfjdMXE0Zb20NDQ7VixQpt3brVZiXZZs2aycPDQ9OmTdPPP/+s9evXW7cFBQUpOjpaJ06csI6mHThwQLGxsSpbtuwDu77UlClTRtu3b7dp27Fjx0OtAQAAPBoyPN0xMDCQv/4CuC/bj51XTGx8qttcC1XQ9b8OKC7mqLyK/t/0wdDQUM2YMUPx8fGqX7++td3R0VFhYWEaNmyYSpQooZo1a1q3NWrUSBUqVFDHjh21a9cubd++XZ07d1ZoaKiqVq364C4wFX379tWyZcs0adIkHT58WJ999pl+/vlnZiMAAIAUMhzSpkyZoqFDh+r48eMPoBwA2cHpy6kHNElyLVxBJuG6nHIGKMHl/xYnCg0N1eXLl1W8eHGbe8wkqXv37rpx44a6detm0568TH6uXLlUt25dNWrUSMWKFdOCBQsy94LSoXbt2po+fbomTZqkihUravny5Xrttdfk6ur60GsBAAD2zWIyOCyWK1cuXb16VQkJCXJ3d09x38b58+cztcDMdOnSJfn4+Cg2NpaVKYEstOXoOXWYkfZy9pI0r0cN1Szue89+mzZtUr169fTXX38pX758mVHiQ9GjRw/9/vvv2rBhQ1aXAgBAtmPP2SDD96RNmTLlAZQBIDupXjS3AnxcdTI2PtX70iyS/H1cVb1o7jSPc/36dZ04cULDhw/Xs88+a/cBbcKECXriiSfk4eGhn3/+WbNnz9ann36a1WUBAAA7k+GQ1qVLlwdRB4BsxNHBohEtg9Rr7i5ZJJuglnyH1oiWQXJ0SPt+rXnz5ql79+6qVKmS5syZ86DKzTTbt2/XBx98oMuXL6tYsWL66KOP9OKLL2Z1WQAAwM5keLqjJCUmJmrJkiWKioqSxWJRUFCQWrVqZffPSbPnIU0gO1q+P0ajlh6wWUQkwMdVI1oGqUlwQBZWBgAA/uvsORtkeCTtyJEjatasmf7++2+VLl1axhgdOnRIgYGB+umnn1S8ePEHUSeA/6AmwQF6Ishf24+d1+nL8fLzujXF8V4jaAAAAP9lGR5Ja9asmYwx+vrrr5U79637Rc6dO6cXXnhBDg4O+umnnx5IoZnBntMyAAAAgIfHnrNBhkfS1q1bp61bt1oDmiT5+vpq7Nixql27dqYWBwAAAADZTYafk+bi4qLLly+naL9y5Ypy5MiRKUUBAAAAQHaV4ZDWokULvfTSS9q2bZuMMTLGaOvWrerZs6datWr1IGoEAAAAgGwjwyHto48+UvHixVWzZk25urrK1dVVtWvXVokSJfThhx8+iBoBAAAAINvI8D1pOXPm1Pfff68jR44oKipKxhgFBQWpRIkSD6I+AAAAAMhWMhzSkpUoUYJgBgAAAACZLMPTHZ955hmNHTs2Rfv48ePVrl27TCkKAAAAALKrDIe0devWqXnz5inamzRpovXr12dKUQAAAACQXWU4pN1tqX1nZ2ddunQpU4oCAAAAgOwqwyEtODhYCxYsSNE+f/58BQUFZUpRAAAAAJBdZXjhkOHDh+vpp5/W0aNH1aBBA0nS6tWrNW/ePC1cuDDTCwQAAACA7CTDIa1Vq1ZasmSJ3n//fX377bdyc3NThQoV9Msvvyg0NPRB1AgAAAAA2YbFGGOyuoiH5dKlS/Lx8VFsbKy8vb2zuhwAAAAAWcSes0GG70mTpIsXL+qLL77QG2+8ofPnz0uSdu3apb///jtTiwPw6AkPD1fOnDmzugwAAIBHVoZD2t69e1WqVCmNGzdO48eP18WLFyVJixcv1rBhwzK7PuA/6eTJk+rbt6+KFSsmFxcXBQYGqmXLllq9enVWl5YhRYoU0ZQpU2za2rdvr0OHDmXaOY4fPy6LxaLdu3dn2jEBAADsWYZD2oABAxQWFqbDhw/L1dXV2t60aVOekwakw/Hjx1WlShWtWbNGH3zwgfbt26fly5erfv366tOnT1aXd9/c3Nzk5+eX1WUAAAA8sjIc0iIjI/Xyyy+naC9QoIBOnjyZKUUB/2W9e/eWxWLR9u3b9cwzz6hUqVIqV66cBgwYoK1bt0qSoqOj1bp1a3l6esrb21vPPvusTp06ZT3GyJEjValSJc2ZM0dFihSRj4+PnnvuOV2+fNnap169eurXr5+GDBmi3Llzy9/fXyNHjrSpJTY2Vi+99JL8/Pzk7e2tBg0aaM+ePTZ9fvjhB1WtWlWurq7KkyeP2rZtaz3+n3/+qddee00Wi0UWi0VS6tMd73YMSbJYLFqyZIlN/5w5cyo8PFySVLRoUUlS5cqVZbFYVK9evQy939lNWFiYnnrqqawuAwAA3IcMhzRXV9dUH1p98OBB5c2bN1OKAv6rzp8/r+XLl6tPnz7y8PBIsT1nzpwyxuipp57S+fPntW7dOq1atUpHjx5V+/btbfoePXpUS5Ys0Y8//qgff/xR69at09ixY236zJ49Wx4eHtq2bZs++OADjR49WqtWrZIkGWPUvHlznTx5UsuWLdPOnTsVEhKihg0bWu81/emnn9S2bVs1b95cv/76q1avXq2qVatKkhYtWqSCBQtq9OjRiomJUUxMTKrXnNYx0mP79u2SpF9++UUxMTFatGhRuvfNiLCwMFksFvXs2TPFtuRgHRYW9kDO/V+T/EeEO6UWyAEAQEoZXoK/devWGj16tL755htJt/6nGx0draFDh+rpp5/O9AKBR11iktH2Y+d1+nK8zv5xQMYYlSlT5q79f/nlF+3du1fHjh1TYGCgJGnOnDkqV66cIiMjVa1aNUlSUlKSwsPD5eXlJUnq1KmTVq9erffee896rAoVKmjEiBGSpJIlS+rjjz/W6tWr9cQTT2jt2rXat2+fTp8+LRcXF0nShAkTtGTJEn377bd66aWX9N577+m5557TqFGjrMesWLGiJCl37txydHSUl5eX/P3973o9aR0jPZL/+OPr65vmeTJDYGCg5s+fr8mTJ8vNzU2SFB8fr3nz5qlQoUIP9NwAAADJMjySNmHCBJ05c0Z+fn66du2aQkNDVaJECXl5edn8cghAWr4/Ro+PW6MOM7aq//zdemvJPknSr9EX7rpPVFSUAgMDrQFNkoKCgpQzZ05FRUVZ24oUKWINaJIUEBCg06dP2xyrQoUKNq9v77Nz505duXJFvr6+8vT0tH4dO3ZMR48elSTt3r1bDRs2/JdXr0w7xsMSEhKiQoUK2YzWLVq0SIGBgapcubK1bfny5Xr88ceVM2dO+fr6qkWLFtb3TJJu3LihV155RQEBAXJ1dVWRIkU0ZswY6/aRI0eqUKFCcnFxUf78+dWvXz/rtrlz56pq1arW8Pv888+n+L7+9ttvat68uby9veXl5aU6derYnF+69VkdEBAgX19f9enTRzdv3rRuu9cU03vVn9Y02fDwcI0aNUp79uyxToMNDw9XkSJFJElt2rSRxWKxvt6zZ4/q168vLy8veXt7q0qVKtqxY8e9vlUAAPynZXgkzdvbWxs3btSaNWu0a9cuJSUlKSQkRI0aNXoQ9QGPrOX7Y9Rr7i7d/iBCp1z5JVk0ddE61WrYVE2CA1LsZ4yx3t+VVruzs7PNdovFoqSkJJu2tPokJSUpICBAERERKc6VfE9Z8mjS/bjXMSwWi+58XOPtgeJh69q1q2bNmqWOHTtKkmbOnKlu3brZvE9xcXEaMGCAypcvr7i4OL399ttq06aNdu/eLQcHB3300Uf64Ycf9M0336hQoUI6ceKETpw4IUn69ttvNXnyZM2fP1/lypXTyZMnbe4DvHHjht555x2VLl1ap0+f1muvvaawsDAtW7ZMkvT333+rbt26qlevntasWSNvb29t2rRJCQkJ1mOsXbtWAQEBWrt2rY4cOaL27durUqVK6tGjR7reg7TqT54mmzt3bi1btkw+Pj767LPP1LBhQx06dEjt27fX/v37tXz5cv3yyy+SJB8fHzVv3lx+fn6aNWuWmjRpIkdHR0lSx44dVblyZU2bNk2Ojo7avXt3ip9bAACymwyHtGQNGjRQgwYNMrOWe1q/fr3Gjx+vnTt3KiYmRosXL+YGedilxCSjUUsP6M4nxTu6ecm1aIgu7/pJb3/XTk8ENZejw/8Fr4sXLyooKEjR0dE6ceKEdTTtwIEDio2NVdmyZTOtxpCQEJ08eVJOTk7WUY07VahQQatXr1bXrl1T3Z4jRw4lJiameZ57HSNv3rw297MdPnxYV69etTmHpHueJ7N06tRJw4YNsy79v2nTJs2fP98mpN05tfvLL7+Un5+fDhw4oODgYEVHR6tkyZJ6/PHHZbFYVLhwYWvf6Oho+fv7q1GjRnJ2dlahQoVUvXp16/Zu3bpZ/12sWDF99NFHql69uq5cuSJPT0998skn8vHx0fz5861hplSpUjb15MqVSx9//LEcHR1VpkwZNW/eXKtXr053SEur/vRMk/X09JSTk5PN9NTksJ4zZ06b9ujoaA0ePNg6BbhkyZLpqhEAgP+ydE933LZtm37++Webtq+++kpFixaVn5+fXnrpJV2/fj3TC7xdXFycKlasqI8//viBnge4X9uPnVdMbHyq23I/2UsySdo9tY/GTZutw4cPKyoqSh999JFq1qypRo0aqUKFCurYsaN27dql7du3q3PnzgoNDc3Qghv30qhRI9WsWVNPPfWUVqxYoePHj2vz5s166623rNPNRowYoXnz5mnEiBGKiorSvn379MEHH1iPUaRIEa1fv15///23zp49m+p57nWMBg0a6OOPP9auXbu0Y8cO9ezZ02Ykxc/PT25ublq+fLlOnTql2NjYTHsPEpOMthw9p+93/60zl6/LGClPnjxq3ry5Zs+erVmzZql58+bKkyePzX5Hjx7V888/r2LFisnb29u6AmV0dLSkW4uQ7N69W6VLl1a/fv20cuVK677t2rXTtWvXVKxYMfXo0UOLFy+2GQX79ddf1bp1axUuXFheXl7W1SyTj717927VqVMnzdGmcuXKWUeqpNSnwqYlrfrTM002IwYMGKAXX3xRjRo10tixY//VMQAA+K9Jd0gbOXKk9u7da329b98+de/eXY0aNdLQoUO1dOlSm3sWHoSmTZvq3XfftVm+G7BHpy+nHtAkyTmnv/zDPpRr4fKa8t5wBQcH64knntDq1as1bdo06/1CuXLlUt26ddWoUSMVK1ZMCxYsyNQaLRaLli1bprp166pbt24qVaqUnnvuOR0/flz58uWTdGuZ/YULF+qHH35QpUqV1KBBA23bts16jNGjR+v48eMqXrz4XVd3vdcxJk6cqMDAQNWtW1fPP/+8Bg0aJHd3d+t2JycnffTRR/rss8+UP39+tW7dOlOu/877BdcdOqMNh89o+f4YdevWTeHh4Zo9e7bNyFayli1b6ty5c5oxY4a2bdtmvZ4bN25IujVKeezYMb3zzju6du2ann32WT3zzDOSbi1OcvDgQX3yySdyc3NT7969VbduXd28eVNxcXF68skn5enpqblz5yoyMlKLFy+2OXZ6pqDeayrsvaaYplV/8jTZ3bt323wdPHhQgwcPvmdtdxo5cqT1Hrs1a9YoKCjIes0AAGRXFnPn/6nvIiAgQEuXLrX+Jf/NN9/UunXrtHHjRknSwoULNWLECB04cODBVXsbi8Vyz+mO169ftxndu3TpkgIDAxUbGytvb++HUCWyqy1Hz6nDjK337DevRw3VLO77ECrC7VK7X/DsT5OVdD1O+dq+pY87VNRLzR6TdGsEy9HRUU899ZRy5sypiRMnKk+ePFq/fr3q1KkjSdq4caPq1Klz18+kFStWqEmTJjp37pxy585ts+3gwYMqU6aMdu7cKWOMqlatqujoaOtU17lz56pTp0769ddfValSJY0aNUqzZ8/WwYMHUx1NCwsL08WLF20WBnn11Ve1e/du65TNfPnyacSIEerdu7ekW1NMS5UqpVmzZqX6mIHb69+5c6eaNm2qI0eO3HWa7Pvvv6958+Zp3759Nu05cuTQvHnz0lwJuEOHDoqLi9MPP/xw1z4AAGSGS5cuycfHxy6zQbrvSbtw4YL1r+uStG7dOjVp0sT6ulq1atYby+3FmDFjbJb9Bh6W6kVzK8DHVSdj41PclyZJFkn+Pq6qXjR3KlvxIN3tfsHbvbvsoPb/dkCODhabaYPSrfu9fH199fnnnysgIMD6CJLbTZ48WQEBAapUqZIcHBy0cOFC+fv7W1dQTExM1GOPPSZ3d3fNmTNHbm5uKly4sJKSkpQjRw5NnTpVPXv21P79+/XOO+/YHPuVV17R1KlT9dxzz2nYsGHy8fHR1q1bVb16dZUuXTpd70HyFNMaNWooKSlJr7/+uk3gS6v+26fJjhs3TqVLl9Y///yjZcuW6amnnlLVqlVVpEgRHTt2TLt371bBggXl5eUlFxcXFSlSRKtXr1bt2rXl4uIiV1dXDR48WM8884yKFi2qv/76S5GRkTzOBQCQ7aV7umO+fPl07NgxSbem3ezatUs1a9a0br98+bLdrcg1bNgwxcbGWr/sLUTiv8vRwaIRLYMk3Qpkt0t+PaJlkM2iIXg40rpfUJKMpJjYeP1+LiHVv6o5ODho/vz52rlzp4KDg/Xaa69p/PjxNn08PT01btw4Va1aVdWqVdPx48e1bNkyOTg4KGfOnJoxY4Zq165tXVRl6dKl8vX1Vd68eRUeHq6FCxcqKChIY8eO1YQJE2yO7evrqzVr1ujKlSsKDQ1VlSpVNGPGjAx9/t5rimla9adnmuzTTz+tJk2aqH79+sqbN6/mzZtnPe+qVausjzRwdHTUuXPn1LlzZ5UqVUrPPvusmjZtyh/XAADZXrqnO7788svat2+fxo0bpyVLlmj27Nn6559/rCuvff3115oyZYoiIyMfaMHJ0jPd8U72PKSJ/6bl+2M0aukBm1AQ4OOqES2DUl1+Hw/e97v/Vv/5u+/Z78PnKql1pQIPviAAAJAl7DkbpHu6Y/KCHaGhofL09NTs2bOtAU269SyhJ5988oEUCTyqmgQH6Ikgf20/dl6nL8fLz+vWFEdG0LKOn5drpvYDAADIbOkOaXnz5tWGDRsUGxsrT0/PFPdpLFy4UJ6enple4O2uXLmiI0eOWF8n3/OQO3duFSpU6IGeG/i3HB0sLA5iR7hfEAAA2Lt035OWzMfHJ0VAk6TcuXPbjKw9CDt27FDlypVVuXJlSbeer1O5cmW9/fbbD/S8AP47uF8QAADYu3Tfk/ZfYM/zTgE8XNwvCABA9mbP2SDd0x0B4L+E+wUBAIC9IqQByLa4XxAAANijDN+TBgAAAAB4cAhpAAAAAGBHCGn4VywWi5YsWZLpx61Xr55effXVTD/u3RQpUkRTpkx54OcJCwvL0IPXAQAAkH0R0mAjLCxMFotFFotFTk5OKlSokHr16qULFy5kdWnp9rCCFwAAAPAgENKQQpMmTRQTE6Pjx4/riy++0NKlS9W7d++sLgsAAADIFghpSMHFxUX+/v4qWLCgnnzySbVv314rV65M0e/s2bNq06aN3N3dVbJkSf3www8229etW6fq1avLxcVFAQEBGjp0qBISEqzb4+Li1LlzZ3l6eiogIEATJ05McY4bN25oyJAhKlCggDw8PPTYY48pIiIiQ9czcuRIFSpUSC4uLsqfP7/69et3176TJk1S+fLl5eHhocDAQPXu3VtXrlyxbg8PD1fOnDm1YsUKlS1bVp6entZQmywxMVEDBgxQzpw55evrqyFDhigbPY4QAAAA94mQhjT98ccfWr58uZydnVNsGzVqlJ599lnt3btXzZo1U8eOHXX+/HlJ0t9//61mzZqpWrVq2rNnj6ZNm6Yvv/xS7777rnX/wYMHa+3atVq8eLFWrlypiIgI7dy50+YcXbt21aZNmzR//nzt3btX7dq1U5MmTXT48OF01f/tt99q8uTJ+uyzz3T48GEtWbJE5cuXv2t/BwcHffTRR9q/f79mz56tNWvWaMiQITZ9rl69qgkTJmjOnDlav369oqOjNWjQIOv2iRMnaubMmfryyy+1ceNGnT9/XosXL05XvQAAAIBMNhIbG2skmdjY2Kwuxa4kJCaZzUfOmiW//mWatX3OODo6Gg8PD+Pq6mokGUlm0qRJNvtIMm+99Zb19ZUrV4zFYjE///yzMcaYN954w5QuXdokJSVZ+3zyySfG09PTJCYmmsuXL5scOXKY+fPnW7efO3fOuLm5mf79+xtjjDly5IixWCzm77//tjl3w4YNzbBhw+56PYULFzaTJ082xhgzceJEU6pUKXPjxo179k3NN998Y3x9fa2vZ82aZSSZI0eO2FxXvnz5rK8DAgLM2LFjra9v3rxpChYsaFq3bn3X8wAAAODhsudswMOss7nl+2M0aukBxcTGS5LOHjojz6IVNenDqapa0FNffPGFDh06pL59+6bYt0KFCtZ/e3h4yMvLS6dPn5YkRUVFqWbNmrJYLNY+tWvX1pUrV/TXX3/pwoULunHjhmrWrGndnjt3bpUuXdr6eteuXTLGqFSpUjbnvX79unx90/cA4nbt2mnKlCkqVqyYmjRpombNmqlly5Zyckr9R3/t2rV6//33deDAAV26dEkJCQmKj49XXFycPDw8JEnu7u4qXry4dZ+AgADrdcfGxiomJsbmupycnFS1alWmPAIAACBdmO6YjS3fH6Nec3dZA1qyG5Ycemf9Bf3jkFcfffSRrl+/rlGjRqXY/84pkBaLRUlJSZIkY4xNQEtuS+6XnsCSlJQkR0dH7dy5U7t377Z+RUVF6cMPP0zXNQYGBurgwYP65JNP5Obmpt69e6tu3bq6efNmir5//vmnmjVrpuDgYH333XfauXOnPvnkE0my6Z/adRPAAAAAkFkIadlUYpLRqKUHlFa0GLX0gBKTjEaMGKEJEybon3/+Sffxg4KCtHnzZpvwsnnzZnl5ealAgQIqUaKEnJ2dtXXrVuv2Cxcu6NChQ9bXlStXVmJiok6fPq0SJUrYfPn7+6e7Fjc3N7Vq1UofffSRIiIitGXLFu3bty9Fvx07dighIUETJ05UjRo1VKpUqQxdsyT5+PgoICDA5roSEhJS3GsHAAAA3A0hLZvafux8ihG02xlJMbHx2n7svOrVq6dy5crp/fffT/fxe/furRMnTqhv3776/fff9f3332vEiBEaMGCAHBwc5Onpqe7du2vw4MFavXq19u/fr7CwMDk4/N+PZKlSpdSxY0d17txZixYt0rFjxxQZGalx48Zp2bJl6aojPDxcX375pfbv368//vhDc+bMkZubmwoXLpyib/HixZWQkKCpU6da+06fPj3d15ysf//+Gjt2rBYvXqzff/9dvXv31sWLFzN8HAAAAGRPhLRs6vTluwe01PoNGDBAM2bM0IkTJ9K1X4ECBbRs2TJt375dFStWVM+ePdW9e3e99dZb1j7jx49X3bp11apVKzVq1EiPP/64qlSpYnOcWbNmqXPnzho4cKBKly6tVq1aadu2bQoMDExXHTlz5tSMGTNUu3ZtVahQQatXr9bSpUtTvaetUqVKmjRpksaNG6fg4GB9/fXXGjNmTLrOc7uBAweqc+fOCgsLU82aNeXl5aU2bdpk+DgAAADIniwmG91Mc+nSJfn4+Cg2Nlbe3t5ZXU6W2nL0nDrM2HrPfvN61FDN4ulbpAMAAAB4VNhzNmAkLZuqXjS3AnxcZbnLdoukAB9XVS+a+2GWBQAAAGR7hLRsytHBohEtgyQpRVBLfj2iZZAcHe4W4wAAAAA8CIS0bKxJcICmvRAifx9Xm3Z/H1dNeyFETYIDsqgyAAAAIPviYdbZXJPgAD0R5K/tx87r9OV4+XndmuLICBoAAACQNQhpkKODhcVBAAAAADvBdEcAAAAAsCOENAAAAACwI4Q0AAAAALAjhDQA2c7x48dlsVi0e/furC4FAAAgBUIagEdCWFiYLBaLevbsmWJb7969ZbFYFBYWlq5jBQYGKiYmRsHBwZlcJQAAwP0jpAF4ZAQGBmr+/Pm6du2atS0+Pl7z5s1ToUKF0n0cR0dH+fv7y8mJBW4BAID9IaQBeGSEhISoUKFCWrRokbVt0aJFCgwMVOXKla1ty5cv1+OPP66cOXPK19dXLVq00NGjR63b75zuGBERIYvFotWrV6tq1apyd3dXrVq1dPDgQZvzL126VFWqVJGrq6uKFSumUaNGKSEh4cFeNAAAyHYIaQAeKV27dtWsWbOsr2fOnKlu3brZ9ImLi9OAAQMUGRmp1atXy8HBQW3atFFSUlKax37zzTc1ceJE7dixQ05OTjbHXbFihV544QX169dPBw4c0Geffabw8HC99957mXuBAAAg22OuDwC7lJhktP3YeZ2+HC8/L1cZc6u9U6dOGjZsmHU0bNOmTZo/f74iIiKs+z799NM2x/ryyy/l5+enAwcOpHkf2nvvvafQ0FBJ0tChQ9W8eXPFx8fL1dVV7733noYOHaouXbpIkooVK6Z33nlHQ4YM0YgRIzL34gEAQLZGSANgd5bvj9GopQcUExtvbYvbH6OSPhblyZNHzZs31+zZs2WMUfPmzZUnTx6b/Y8eParhw4dr69atOnv2rHUELTo6Os2QVqFCBeu/AwICJEmnT59WoUKFtHPnTkVGRtqMnCUmJio+Pl5Xr16Vu7t7plw7AAAAIQ2AXVm+P0a95u6SuaP92o1E7f4rTsv3x6hbt2565ZVXJEmffPJJimO0bNlSgYGBmjFjhvLnz6+kpCQFBwfrxo0baZ7b2dnZ+m+LxSJJ1oCXlJSkUaNGqW3btin2c3V1zcglAgAApImQBsBuJCYZjVp6IEVAu92opQe0blBja+Bq3LixzfZz584pKipKn332merUqSNJ2rhx433XFhISooMHD6pEiRL3fSwAAIC0ENIA2I3tx87bTHFMTUxsvHZGxyoqKkrSreX0b5crVy75+vrq888/V0BAgKKjozV06ND7ru3tt99WixYtFBgYqHbt2snBwUF79+7Vvn379O6779738QEAAJKxuiMAu3H6ctoB7fZ+3t7e8vb2TrHNwcFB8+fP186dOxUcHKzXXntN48ePv+/aGjdurB9//FGrVq1StWrVVKNGDU2aNEmFCxe+72MDAADczmKMSWtm0X/KpUuX5OPjo9jY2FR/uQOQtbYcPacOM7bes9+8HjVUs7jvQ6gIAAD8V9lzNmAkDYDdqF40twJ8XGW5y3aLpAAfV1UvmvthlgUAAPBQEdIA2A1HB4tGtAySpBRBLfn1iJZBcnS4W4wDAAB49BHSANiVJsEBmvZCiPx9bJe19/dx1bQXQtQkOCCLKoO9CQsLk8ViUc+ePVNs6927tywWi8LCwjLtfCNHjlSlSpUy7XgAANwNqzsCsDtNggP0RJC/th87r9OX4+XndWuKIyNouFNgYKDmz5+vyZMny83NTZIUHx+vefPmqVChQllcHQAA/w4jaQDskqODRTWL+6p1pQKqWdyXgIZUhYSEqFChQlq0aJG1bdGiRQoMDFTlypWtbdevX1e/fv3k5+cnV1dXPf7444qMjLRuj4iIkMVi0erVq1W1alW5u7urVq1aOnjwoCQpPDxco0aN0p49e2SxWGSxWBQeHi5JmjRpksqXLy8PDw8FBgaqd+/eunLlivXY4eHhypkzp1asWKGyZcvK09NTTZo0UUxMjLVPZGSknnjiCeXJk0c+Pj4KDQ3Vrl27HtTbBgCwc4Q0AMAjrWvXrpo1a5b19cyZM9WtWzebPkOGDNF3332n2bNna9euXSpRooQaN26s8+fP2/R78803NXHiRO3YsUNOTk7W47Rv314DBw5UuXLlFBMTo5iYGLVv317Srcc+fPTRR9q/f79mz56tNWvWaMiQITbHvXr1qiZMmKA5c+Zo/fr1io6O1qBBg6zbL1++rC5dumjDhg3aunWrSpYsqWbNmuny5cuZ+l4BAB4NTHcEADwSEpOMzRTY5AfIdOrUScOGDdPx48dlsVi0adMmzZ8/XxEREZKkuLg4TZs2TeHh4WratKkkacaMGVq1apW+/PJLDR482HqO9957T6GhoZKkoUOHqnnz5oqPj5ebm5s8PT3l5OQkf39/m7peffVV67+LFi2qd955R7169dKnn35qbb9586amT5+u4sWLS5JeeeUVjR492rq9QYMGNsf87LPPlCtXLq1bt04tWrS4vzcOAPDIIaQBAOze8v0xGrX0gGJi/++B53H7Y1TSx6I8efKoefPmmj17towxat68ufLkyWPtd/ToUd28eVO1a9e2tjk7O6t69eqKioqyOU+FChWs/w4IuLVIzenTp9O8v23t2rV6//33deDAAV26dEkJCQmKj49XXFycPDw8JEnu7u7WgJZ87NOnT1tfnz59Wm+//bbWrFmjU6dOKTExUVevXlV0dHRG3yoAwH8AIQ0AYNeW749Rr7m7ZO5ov3YjUbv/itPy/THq1q2bXnnlFUnSJ598YtPP/P8hN4vFkqL9zjZnZ2frv5O3JSUl3bW2P//8U82aNVPPnj31zjvvKHfu3Nq4caO6d++umzdvpnrc5GMn1yXdWqnyzJkzmjJligoXLiwXFxfVrFlTN27cuOu5AQD/XdyTBgCwW4lJRqOWHkgR0G43aukBPfFkY924cUM3btxQ48aNbbaXKFFCOXLk0MaNG61tN2/e1I4dO1S2bNl015IjRw4lJibatO3YsUMJCQmaOHGiatSooVKlSumff/5J9zGTbdiwQf369VOzZs1Urlw5ubi46OzZsxk+DgDgv4GRNACA3dp+7LzNFMfUxMTGa2d0rHXqoqOjo812Dw8P9erVS4MHD1bu3LlVqFAhffDBB7p69aq6d++e7lqKFCmiY8eOaffu3SpYsKC8vLxUvHhxJSQkaOrUqWrZsqU2bdqk6dOnZ/g6S5QooTlz5qhq1aq6dOmSBg8ebH2kAAAg+2EkDQBgt05fTjug3d7P29tb3t7eqW4fO3asnn76aXXq1EkhISE6cuSIVqxYoVy5cqW7lqefflpNmjRR/fr1lTdvXs2bN0+VKlXSpEmTNG7cOAUHB+vrr7/WmDFj0n3MZDNnztSFCxdUuXJlderUyfq4AABA9mQxt0+K/4+7dOmSfHx8FBsbe9f/kQMA7MeWo+fUYcbWe/ab16OGahb3fQgVAQD+K+w5GzCSBgCwW9WL5laAj6vu9ihzi6QAH1dVL5r7YZYFAMADRUgDANgtRweLRrQMkqQUQS359YiWQXJ0uFuMAwDg0UNIAwDYtSbBAZr2Qoj8fVxt2v19XDXthRA1CQ7IosoAAHgwWN0RAGD3mgQH6Ikgf20/dl6nL8fLz+vWFEdG0AAA/0WENADAI8HRwcLiIACAbIHpjgAAAABgRwhpAAAAAGBHCGkAAAAAYEcIaQAAAABgRwhpAAAAAGBHCGkAAAAAYEcIaQAAAABgRwhpAAAAAGBHCGkAAAAAYEcIaQCATFGvXj29+uqr6e4fEREhi8WiixcvPrCaAAB4FBHSAADpEhYWpqeeeiqrywAA4D+PkAYAmYQQAwAAMgMhDUCmCgsLk8Vi0dixY23alyxZIovF8lBrsVgsslgs2rp1q0379evX5evrK4vFooiIiEw734cffqjw8PBMO549i4uLU+fOneXp6amAgABNnDgxRZ+5c+eqatWq8vLykr+/v55//nmdPn06Rb+dO3eqatWqcnd3V61atXTw4EGb7dOmTVPx4sWVI0cOlS5dWnPmzHlg1wUAgD0gpAHIdK6urho3bpwuXLiQ1aUoMDBQs2bNsmlbvHixPD09M/1cPj4+ypkzZ6Yf1x4NHjxYa9eu1eLFi7Vy5UpFRERo586dNn1u3Lihd955R3v27NGSJUt07NgxhYWFpTjWm2++qYkTJ2rHjh1ycnJSt27drNsWL16s/v37a+DAgdq/f79efvllde3aVWvXrn3QlwgAQJYhpAFZ4Pjx47JYLNq9e/d9H6tIkSKaMmVKuvs/jMUaGjVqJH9/f40ZMybNfps3b1bdunXl5uamwMBA9evXT3FxcZKkqVOnqnz58ta+ySNxn3zyibWtcePGGjZsWJrn6NKli+bPn69r165Z22bOnKkuXbqk6Pv333+rffv2ypUrl3x9fdW6dWsdP35ckvT777/L3d1d//vf/6z9Fy1aJFdXV+3bt09SyumOSUlJGjdunEqUKCEXFxcVKlRI7733nnX7vn371KBBA7m5ucnX11cvvfSSrly5kub1PGyJSUZbjp7T97v/1pnL12WMdOXKFX355ZeaMGGCnnjiCZUvX16zZ89WYmKizb7dunVT06ZNVaxYMdWoUUMfffSRfv755xTX+N577yk0NFRBQUEaOnSoNm/erPj4eEnShAkTFBYWpt69e6tUqVIaMGCA2rZtqwkTJjy09wAAgIeNkIZH0vTp0+Xl5aWEhARr25UrV+Ts7Kw6derY9N2wYYMsFosOHTp0X+dMT7j57rvv5OjoqOjo6FS3lylTRv369VNgYKBiYmIUHBx8XzVJUmRkpF566aV0969Vq5ZiYmLk4+Nz3+e+G0dHR73//vuaOnWq/vrrr1T77Nu3T40bN1bbtm21d+9eLViwQBs3btQrr7wi6dZKgb/99pvOnj0rSVq3bp3y5MmjdevWSZISEhK0efNmhYaGpllLlSpVVLRoUX333XeSpBMnTmj9+vXq1KmTTb+rV6+qfv368vT01Pr167Vx40Z5enqqSZMmunHjhsqUKaMJEyaod+/e+vPPP/XPP/+oR48eGjt2rE2YvN2wYcM0btw4DR8+XAcOHND//vc/5cuXz3q+Jk2aKFeuXIqMjNTChQv1yy+/WK/fHizfH6PHx61Rhxlb1X/+bq07dEYbDp/RVyu26saNG6pZs6a1b+7cuVW6dGmb/X/99Ve1bt1ahQsXlpeXl+rVqydJKf77qFChgvXfAQEBkmSdFhkVFaXatWvb9K9du7aioqIy7ToBALA3hDQ8kurXr68rV65ox44d1rYNGzbI399fkZGRunr1qrU9IiJC+fPnV6lSpR54Xa1atZKvr69mz56dYtumTZt08OBBde/eXY6OjvL395eTk1OqxzHG2ATQtOTNm1fu7u7prjFHjhzy9/fP1PvDUhttadOmjSpVqqQRI0akus/48eP1/PPP69VXX1XJkiVVq1YtffTRR/rqq68UHx+v4OBg+fr6WkNZRESEBg4caH0dGRmp+Ph4Pf744/esr2vXrpo5c6YkadasWWrWrJny5s1r02f+/PlycHDQF198ofLly6ts2bKaNWuWoqOjrfet9e7dW48//rg6deqkzp07q0qVKurfv3+q57x8+bI+/PBDffDBB+rSpYuKFy+uxx9/XC+++KIk6euvv9a1a9f01VdfKTg4WA0aNNDHH3+sOXPm6NSpU/d+0x+w5ftj1GvuLsXExtu0xyck6d0f7x2Q4uLi9OSTT8rT01Nz585VZGSkFi9eLOnWNMjbOTs7W/+d/HOZlJSUoi2ZMeah398IAMDDREjDI6l06dLKnz+/zaIPERERat26tYoXL67NmzfbtNevX1/SrV8OhwwZogIFCsjDw0OPPfaYzTH+/PNPtWzZUrly5ZKHh4fKlSunZcuW6fjx49Zj5MqVSxaLJdV7a5ydndWpUyeFh4fLGGOzbebMmapSpYoqVqyYYrpj8ijdihUrVLVqVbm4uGjDhg26fPmyOnbsKA8PDwUEBGjy5MkpnkV153RHi8WiL774Qm3atJG7u7tKliypH374web9uH1E8Ny5c+rQoYMKFiwod3d3lS9fXvPmzUv39+Juoy3L98do3Lhxmj17tg4cOJBiv507dyo8PFyenp7Wr8aNGyspKUnHjh2TxWJR3bp1FRERoYsXL+q3335Tz549lZiYqKioKEVERCgkJCRd95a98MIL2rJli/744w+Fh4fb3PN0ez1HjhyRl5eXtZ7cuXMrPj5eR48etfabOXOm9u7dq127dik8PPyuYSEqKkrXr19Xw4YN77q9YsWK8vDwsLbVrl1bSUlJKRbOeNgSk4xGLT0gc5ftzrkCZHF00ubNW6xtFy5csBmt/v3333X27FmNHTtWderUUZkyZVJdNOReypYtq40bN9q0bd68WWXLls3wsQAAeFQQ0vDIqlevns3iAWvXrlW9evUUGhpqbb9x44a2bNliDVhdu3bVpk2bNH/+fO3du1ft2rVTkyZNdPjwYUlSnz59dP36da1fv1779u3TuHHj5OnpqcDAQOt0uYMHDyomJkYffvhhqnV1795df/zxh3XER7o1qvDNN9+oe/fuaV7TkCFDNGbMGEVFRalChQoaMGCANm3apB9++EGrVq3Shg0btGvXrnu+N6NGjdKzzz6rvXv3qlmzZurYsaPOnz+fat/4+HhVqVJFP/74o/bv36+XXnpJnTp10rZt2+55nrRGW3rN3aWruUuqcePGeuONN1Lsm5SUpJdfflm7d++2fu3Zs0eHDx9W8eLFJd36HkdERGjDhg2qWLGicubMqbp162rdunWKiIiwTp+7F19fX7Vo0ULdu3dXfHy8mjZtmmo9VapUsaln9+7dOnTokJ5//nlrvz179iguLk5xcXE6efLkXc/p5uaWZk1pjQZl9SjR9mPnU3xPb2fJ4SaP8k/o1YGDtHr1au3fv19hYWFycPi//6UUKlRIOXLk0NSpU/XHH3/ohx9+0DvvvJPhWgYPHqzw8HBNnz5dhw8f1qRJk7Ro0SINGjToX10bAACPAkIaHln16tXTpk2blJCQoMuXL+vXX39V3bp1FRoaah0d27p1q65du6b69evr6NGjmjdvnhYuXKg6deqoePHiGjRokB5//HHr6n/R0dGqXbu2ypcvr2LFiqlFixaqW7euHB0dlTt3bkmSn5+f/P3973pPV1BQkB577DGbFQW/+eYbJSYmqkOHDmle0+jRo/XEE09YlxufPXu2JkyYoIYNGyo4OFizZs1KsThDasLCwtShQweVKFFC77//vuLi4rR9+/ZU+xYoUECDBg1SpUqVVKxYMfXt21eNGzfWwoUL0zzHvUZbJGnU0gN67/0xWrp0qc3opiSFhITot99+U4kSJVJ85ciRQ9L/3Zf27bffWgNZaGiofvnll3Tdj3a7bt26KSIiQp07d5ajo2OK7SEhITp8+LD8/PxS1JP8vT5//rzCwsL05ptvqmvXrurYsaPNgiS3K1mypNzc3LR69epUtwcFBWn37t3WhVKkW1NiHRwcHsrU3LScvnz3gJYsV/1uKlO5ulq1aqVGjRrp8ccfV5UqVazb8+bNq/DwcC1cuFBBQUEaO3bsv1rs46mnntKHH36o8ePHq1y5cvrss880a9asdAd0AAAeRanfEAPYqcQko+3Hzuv05XjlLFZJcXFxioyM1IULF1SqVCn5+fkpNDRUnTp1UlxcnCIiIlSoUCEVK1ZMCxculDEmxS/Ayc/MkqR+/fqpV69eWrlypRo1aqSnn37aZlGD9OrevbteffVVffzxx/Ly8tLMmTPVtm3bey7PXrVqVeu///jjD928eVPVq1e3tvn4+KRYnCE1t9fs4eEhLy+vu041S0xM1NixY7VgwQL9/fffun79uq5fv24zDS819xptMZJiYuN1zbOAOnbsqKlTp9psf/3111WjRg316dNHPXr0kIeHh6KiorRq1Spr3+T70r7++mt9//33km4Ft4EDB0pSuu5HS9akSROdOXNG3t7eqW7v2LGjxo8fr9atW2v06NEqWLCgoqOjtWjRIg0ePFgFCxZUz549FRgYqLfeeks3btxQSEiIBg0aZLPiZDJXV1e9/vrrGjJkiHLkyKHatWvrzJkz+u2339S9e3d17NhRI0aMUJcuXTRy5EidOXNGffv2VadOnayLi2QVPy/XVNvzNH/N+m+HHG4a8+Hnqlnc19o2ePBgm/4dOnRI8YeJ26cB16tXL8W04EqVKqVo69Wrl3r16pWxiwAA4BHGSBoemvtd+v3Oe58GrzqtHD559dn8H7R27VrrqIq/v7+KFi2qTZs2ae3atWrQoIGk/1uI4Omnn7aZzhYVFWWduvjiiy/qjz/+UKdOnbRv3z5VrVo1RbhIj+eee04Wi0ULFizQkSNHtHHjxntOdZRkE4ySf1FNbdGEe7l9IYbkY9y+EMPtJk6cqMmTJ2vIkCFas2aNdu/ercaNG6dY3OFO6RltSe73zjvvpKi7QoUKWrdunQ4fPqw6deqocuXKGj58uHV1v+S6k7+vyat2VqhQQT4+PqpcufJdA1dqLBaL8uTJYx2lu5O7u7vWr1+vQoUKqW3btipbtqy6deuma9euydvbW1999ZWWLVumOXPmyMnJSe7u7vr666/1xRdfaNmyZakec/jw4Ro4cKDefvttlS1bVu3bt7eGZXd3d61YsULnz59XtWrV9Mwzz6hhw4b6+OOP031ND0r1orkV4OOqu026tEgK8HFV9aK5H2ZZAABkG4ykZTOnT5/W8OHD9fPPP+vUqVPKlSuXKlasqJEjR9osp32/6tWrp0qVKmXo+V13c3tIsTi7yNEzt1wKBMmrSks5FwzWgh9WKNAjSe++/X/3PYWGhmrFihXaunWrunbtKkmqXLmypFtLn5coUeKu5wsMDFTPnj3Vs2dPDRs2TDNmzFDfvn2tv9w///zzd/2lPJmXl5fatWunWbNm6Y8//lCxYsUyPD2rePHicnZ21vbt2xUYGChJunTpkg4fPpyhaX73smHDBrVu3VovvPCCpFth9vDhw/dcmCE9oy3J/QoX9rU+9+p21apV08qVK9M8z7fffmvz2mKx6Ny5c2nukyytQJszZ84U2/39/VNdmVOSOnfurM6dO9u0ValSRdevX7e+Dg8Pt9nu4OCgN998U2+++WaqxyxfvrzWrFmT1iVkCUcHi0a0DFKvubtkkWymtCb/1ziiZZAcHVhhEQCAB4GQls08/fTTunnzpmbPnq1ixYrp1KlTWr169V0XlbAXxZ4erBv+FWQSb+jm+b91ZfdynfxqgDzKN9L1vw7oSFKCHq9T19o/NDRUvXr1Unx8vHXRkOTpkCtXrtSiRYtUuXJlnT17VmvWrFH58uXVrFkzvfrqq2ratKlKlSqlCxcuaM2aNdawUrhwYUnSyZMndebMGbm5uaW5smD37t1Vp04dHThwQIMGDcrwYhBeXl7q0qWLBg8erNy5c8vPz08jRoyQg4NDpi4sUaJECX333XfavHmzcuXKpUmTJunkyZP3DGnJoy0nY+NTvS/NIsmf0ZZHVpPgAE17IUSjlh6wmdbq7+OqES2D1CQ4II29AQDA/Xjkpjt++umnKlq0qFxdXVWlShVt2LAhq0t6ZFy8eFEbN27UuHHjVL9+fRUuXFjVq1fXsGHD1Lx5c2u/6OhotW7dWp6envL29tazzz5r89ymsLAwPfXUUzbHfvXVV60jRWFhYVq3bp0+/PBDWSwWWSwWHT9+3Np3586dqlq1qtzd3VWrVq10LTd+OSmHHD1zycknn9yKhihvmzfkUa6e4qLWySRcl2POAO39+7J1KfkXX3xRly9fVr58+ayjUNKtpfvLlCmjgQMHqnTp0mrcuLHeeust/frrr5JujTS2adNGxYoVU9WqVXX+/Hl98MEHkqQZM2ZIuvWAXj8/P3l5eVkXKHn99ddVqlQpubu7q1ixYho+fLgee+wxlS5dWpcuXVKXLl3S/X263aRJk1SzZk21aNFCjRo1Uu3atVW2bFm5uqY+ivVvDB8+XCEhIWrcuLHq1asnf3//FN/f1CSPtkhKMS2O0Zb/hibBAdr4egPN61FDHz5XSfN61NDG1xsQ0AAAeMAeqZG0BQsW6NVXX9Wnn36q2rVr67PPPlPTpk114MABFSpUKKvLs3vJz35asmSJatSoIRcXlxR9jDF66qmn5OHhoXXr1ikhIUG9e/dW+/btbZ4nlpYPP/xQhw4dUnBwsEaPHi3p1kpvyUHtzTff1MSJE5U3b1717NlT3bp106ZNmzJ8Pd5Vn1Lc/jXK0+p1eZSto3/Ox6pKlSp6/fXX/1979x2f0/k+cPzzZO/IEEkIITFCkESonZgxare1SSm1SqzSql1FK7XaWlVRVKg92tRKjIYixAwlRZQQK0Mq8zm/P/LL+XokiBYJrvfr9fx+nvvc55zrOU+/4sp939eNlZUV27dvZ/jw4fzxxx+89dZbQM70szp16jBnzhxCQ0Pp378/69ato127dvzzzz/s3buXli1bMnnyZBISEvjggw+YOHEiISEhjBo1ipiYGJKTk9XKjbkVHy0tLQkJCcHZ2ZlTp07Rr18/LC0tOXfuXL6xu7q6PrWAQu51V61apb5PTU1l8uTJ9O/fX217OAGG/Kf4PbwO8NF72drasmnTpsc85SeT0ZbXn76eRqc4iBBCCCFeAuUVUqtWLWXAgAE6bZUqVVLGjh1boPOTkpIUQElKSnoR4b0S1q1bp9jY2CgmJiZK3bp1lU8++UQ5ceKEenzHjh2Kvr6+EhcXp/Tu3VsBlKCgIAVQDh8+rCiKojRq1Eh59D+dYcOGKX5+fup7Pz8/ZdiwYTp9wsPDFUDZtWuX2rZ9+3YFUB48ePDYmMlZEqMU7zBOKTNmm/oqPXKDAijF/AOVMmO2KZEXb+c5t1WrVsrIkSPzxPXtt98q1tbWyp49e9RjixcvVmxsbJT79+/rxKenp6fcuHFDURRF6d27t9KuXbvHxprryy+/VGrUqPHUfk9z7Ngx5aefflIuXryoREVFKe3atVOsra2VW7du/edrP09Z2Vol8uJtZdPxv5XIi7eVrGxtYYckhBBCCPFERTk3eGVG0jIyMoiKimLs2LE67c2bN8+z/1Ku3FLiuZKTk19ojEXVw2Xrnb38ufr3NSJ/P8DBgwcJCwvjyy+/5PvvvycwMJCYmBhcXFzUKYImJiaEhIRgbW1NTEwMNWvW/M/xPFwePreSX0JCwjOPhiq51Q/R4GRtQo3S1kybNi3fUvIZGRlq4Y/169dz8+ZNDhw4oFPePiYmhurVq+tUWKxXrx5arZbz588/sSz6unXrmDNnDhcvXuT+/ftkZWU9U+XBJ5k1axbnz5/HyMhIneJrb2//XK79vMhoixBCCCHE8/PKrEm7ffs22dnZef6hXKJECW7cuJHvOdOnT8fa2lp9Pbw26U3xaNn6rksO0XRuJNlOnkyYMIHIyEgCAwOZOHEikJP4PFyUomnTpjg6OpKWlqa251e04urVq0RHR2NqaoqLiwsXL14kMzMTgPnz51O1alW1744dO9BoNHz77bfqtXr06MEnn3zy1M+Te+eslNvc2vA5AIm/r4YdXzJh/GdqKfl69epRu3Zt3Nzc2LJli7o32vXr17l79y6ZmZn4+/vTqVMn9dparZarV69Srlw5TE1NqV69us40QHd3d06fPq0Tz+nTp9FoNHTp0oWWLVuybds2jh8/zrhx455awr4gvL29iYqK4v79+9y9e5edO3fqPEshhBBCCPH6eWWStFz57Rn1uEp3n3zyCUlJSerr6tWrLyPEIiPsdDwDVx7Ls+HwjaQ0Bq48RtjpeAAqV65Mamqq+ue4uDj1Wenr6zNw4EDS09PV9VfW1tY61zt16hSbNm3C3t6ekydPsmbNGpKTk9XS4v7+/pw5c4akpCQADhw4gL29PXv37lWvERUV9dSy8gP8yuFobYI2M42bqz8lK/EGekYmfB2yjnLO9nzzzTe0adOGHj16YGtry6FDh4iPj6devXps27aNo0ePcuHCBRo2bMiePXswNzfn1q1b6vX//PNPLl26xOzZszlz5gzDhw/ngw8+QE9Pj4oVK9KnTx9iY2PJzs5Wz/nhhx8oV64cZcqUYdy4cfj6+lK+fHmuXLlS8C9KCCGEEEKIh7wySZq9vT36+vp5Rs0SEhIeOw3N2NgYKysrndebIlurMHnrWZ3S6NkPkrmx+lNSzoSTkXCJT5bvZs2atXz55Ze0a9cOyBk5q1atGt27d+fOnTvcu3ePH3/8EUtLSzZs2ACgjuT8+OOPXLhwgR49eqCvr0+pUqUoX748devWxd/fn3PnznH+/HkcHR2xtbUlOjoayEnSRo4cqZOkpaenU79+/Sd+prJWGlZ1caN+4m4M0pNQUhJYvvR7grq1ZtmyZaSlpbF9+3YiIyNJTExUN2+2tLTE09OTuLg49PX1KVu2LI0aNeLAgQNcuHCBoKAgUlNT2bNnD7a2tqxYsYJ//vmHMmXKYGpqSpkyZShRogTvv/8+SUlJHD16lPPnzxMfH8+KFSt4++23iYuLIzQ0lNjYWObNm8fGjRuf0zcphBBCCCHeNBpFecJur0XMW2+9RY0aNfjuu+/UtsqVK9OuXTumT5/+1POTk5OxtrYmKSnptU/YDsbeoeuSQzptSlYmib+vIu3ScTITb4A2CxcXF3p168Knn36Kqakp2VqFLb+fZMb4j4k6sAeNBjp06EC3bt145513OHnyJH/++ScdOnSgRIkSpKWloa+vr1YPNDU1BSA7O5u0tDRMTExIS0sjICAAU1NTNm3ahIGBAbdu3cLd3Z3FixfTqVMnqlevriZxj3p4pNTExAQjIyNSUlIwNjZGX19fPZaamkq1atX466+/yMrKwsnJiQYNGpCUlMSmTZtISUnBycmJ7Oxs3nnnHVq0aIGHhwctW7akadOm/PTTT5iampKenq4meBqNBh8fH44ePQpAixYtOHPmDImJidy/fx9TU1Nu377NpEmT+OGHH0hPT6d169bUrl2bSZMm6VRVFEIIIYQQRUdRzg1emcIhACNGjKBnz574+vpSp04dFi9eTFxcHAMGDCjs0IqchJS0PG0aA0Ns/ALBL1Btm9vFi3ZeJYGc6ZFqKfXaQzG5k41R9gP6TJhLC08nAgIC+PTTTwkMzDk/d1TTw8OD7t27M3To0Dz3LF26NEZGRsyfP5/FixezZcsWpkyZQrFixWjYsCEJCQk0b94cLy+vx36W3CmtGzdupH379gwcOJBjx47plKbPVbx4caytrQkMDCQxMZHly5erxywtLUlMTCQiIoIdO3YwYcIE9PT0OH/+POfPn+enn37i119/pWTJkjrXfHirgsGDB9OzZ08SEhLo3LkzJUqUwMzMjC+//FLdTy1XUFDQYz+TEEIIIYQQj/NKJWmdO3fmzp07TJkyhfj4eDw9Pfnll18oU6ZMYYdW5DhYFmyz49x+uevXHh1WTcvSMnDlMRb08GHGjBl4eXmpRThy+fj4cObMGdzd3R97H39/f4YNG8a6devUTa/9/PzYtWsXkZGRDBs2rMCfzcfHhzVr1uDg4PDMv/UwMDCgadOmNG3alIkTJ2JtbY2NjQ1xcXEYGxsTFxf3xLVxrVq1wtzcnAULFvDrr7+yb98+neO5yeG/3XdMCCGEEEKIV2ZNWq5BgwZx+fJl0tPTiYqKomHDhoUdUpFUq6wtTtYm5F9SJadKopO1CbXK2ua7fu1Rk7eepXIVT7p37878+fN1jo0ZM4aDBw8yePBgoqOjuXDhAlu2bOGjjz5S+3h6emJnZ8eqVavUJM3f359Nmzbx4MGDp65He1j37t2xt7enXbt27N+/n0uXLrF3716GDRvG33//ne85kZGR6Onp4eHhQXR0NFeuXOHHH39Uy/hbWloyatQohg8fzvLly4mNjeX48eN8++23OqNx+vr6BAYG8sknn+Du7k6dOnUKHLcQQgghhBAF8colaaJg9PU0TGxTGSBPopb7fmKbyujraTh86W6eCpAPU4D4pDQOX7rL1KlTeXQZY7Vq1di7dy8XLlygQYMGeHt7M378eHUPNMhZ25U7QtWgQQP1PGtra7y9vZ84Ipa7PszAIGfg18zMjH379lG6dGk6duyIh4cHffr04cGDB4+9zg8//ECnTp34888/8ff3x8PDg4ULF/LZZ5+pfaZOncqECROYPn06Hh4eBAQEsHXrVsqWLatzrb59+5KRkUGfPn0eG7MQQgghhBD/1is13VE8mxaeTizo4fO/dWb/z9HahIltKtPC8/83ks5n/RqAfevhOu8TUtKo41WGtLS8/WvWrMmOHTueGM+6det03ms0Gu7cufPUz5GQkJATt6Pj/z6Do6POCNejQkJC1D+npqaydu1ajhw5gr6+PpUrV2bChAkAREREMGXKFDWe7t27c/DgQXVfsmvXrnHt2jWda//0008AjB8/nhkzZuDt7c3mzZt1NsHOFRUVRcuWLRk2bBjjxo0jLCyMzz//nNOnT6Ovr0+dOnWYO3cubm5uT30OQgghhBDizSBJ2muuhacTzSo7cvjSXRJS0nCwzJniqK/3v/G1Z12/9rIoisKVK1eYNWsWJUqUwNPT819dZ82aNVSsWJGKFSvSo0cPPvroI8aPH5/v/nppaWnUqFGDMWPGYGVlxfbt2+nZsyflypXDy8uLqKgoNcGbN28ederUYf/+/XlGFyEnAWzfvj3Tp09n4MCBQE7COGLECKpWrUpqaioTJkygQ4cOREdHo6cnA9tCCCGEEEKStDeCvp6GOm52jz2eu37tRlJavuvSNOSMvtUqa/vCYnxUYGAgy5cvR19fH09PT0JDQzExMWHTpk106NAh36TocZYuXUqPHj2AnBL69+/fZ/fu3TRt2jRP35IlSzJq1Cj1/UcffURYWBg///wzMTEx9O3bV723g4MDVatWVfeNe9jmzZvp2bMnixYtomvXrmp7p06d8sTm4ODA2bNn/3USKoQQQgghXi/yq3vxTOvXXiYTExMsLS0JDw9Xi40URLZW4WDsHTZHXyN05yEOHz5Mly5dgJx1bZ07d+aHH37I/9zsbKZNm0a1atWws7PDwsKCHTt2EBcXR2BgIBkZGTRp0gSAL7/8kiVLlnDv3j2da/zxxx906tSJ5cuX6yRoALGxsXTr1o1y5cphZWWlrneLi4sr8OcTQgghhBCvNxlJE0DB16+9TE2bNuXixYtMnz49zx5kuSIjIxk7dixHjhzB3t4en4bNia/QgYQHGu7tDSH11G6ys7JwLllSTTizs7PR19fn22+/5dy5cwC4ubmRlZWFnZ0dd+/e5ZtvvqFq1aqYm5vTr18/9uzZg4mJCeXKlWPOnDns3r0bFxcX5s+fz7hx4+jQoQPh4eH89ddfGBgYYGNjw/fff0/r1q0xMjJS423Tpg0uLi4sWbIEZ2dntFotnp6eZGRkvOjHKYQQQgghXhEykiZULTydqHBuBaWjvmVuFy9W96vNgTGNCyVBg5xy91988QXz58/Pt7T+qVOnCAgIoGPHjpw8eZLh078lbPdezq6bC4BZpYZkp97Dqva7OPaeyzc/71SLl7i4uLBq1Sr++ecfAH755RcOHTpEVlYWGRkZtGvXjurVq+Pq6kpkZCQajYZDhw6xcOFCxo4dC0DXrl05fvw4RkZGxMXFERISQvv27fHy8kKj0XD06FE6d+5MZmYmAHfu3CEmJobPPvuMJk2a4OHhkWcUTgghhBBCCEnShA6NBmzNjWjnVZI6bnYFnuJ4+fJlNBoN0dHRz3S/SZMm4eXlpTNF8WDsHXKXnHXo0AEvLy8mTpyoc96cOXP46quv6NatG0FBQcRd/ZuRPdth3bAnqWf2oGRlkJ10U/1QRsVdWX5Oy6E//qBmzZp069aNCRMmsGHDBgAqVqyIh4cHHTp0IC0tjYULFxITE0ObNm3IyMjAx8cHLy8vjI2NqVatGgC3bt1iw4YN3Lp1i6FDh1K3bl0sLCxwdHRk9OjRODo6cu7cObp27UpWVhY2NjbY2dmxePFiLl68yJ49exgxYsQzPS8hhBBCCPH6kyTtNRAYGIhGo2HAgAF5jg0aNAiNRkNgYOAzXzc9PZ2hQ4fi4OCAiYkJ9evX58iRI+rxGjVqEBwcrHNOjRo1SE5OBqB58+ZoNBrOnz8PwMqVK/H19cXS0hJbW1s0Gg3e3t58+s0q6s/cQ9clhxgWGk3XJYf45XQ8Cck50y5nzpzJ8uXLOXv2rM69oqKiCAkJwcLCgrfffhsMjLm18QtQtGQl3uT+yR0Y2Jbkn/ORKMD1xAf8uPInunfvTqdOnbh37566ibavry/W1tYsXboURVEYP348/v7+aLVaLCwsMDU1BcDKyoqrV6+qz/azzz4jODiY1NRU6tevz5o1a9i2bRvjx48nPj6ePXv2cOrUKbp3746iKISGhhIVFYWnpyfDhw/nq6++eubvRQghhBBCvN4kSXtNuLi4EBoayoMHD9S2hg0bsnTpUkqXLv2vrvnxxx+zfv16li5dyrFjx3B3dycgIIC7d+8C4O/vT0REBIBa8dDKyooDBw4AqNUKTUxySvdnZGQwdepUTpw4QYMGDTAzM6Nv/wEE9vkgz2baDzKyif47ia3Hr9CwYUMCAgL49NNPdfpotVo+/PBDoqOjmR36G8595uPc5xuc+y/GwMYRh3cmUqLzNLLuXiP9xkXSr8VwM/4aXbp0wcfHB0VROHnyJL6+vsybN4/IyEiio6Oxt7dnxowZ3Lx5k5YtW1K8eHE2bdoEgIeHBxs3bgTg559/5vz58/j6+tKlSxdatmzJ/v37iYmJYdy4cWRkZODk5MT58+dZs2YN+vr6NG3alLNnz5KWlsaJEyfw8/NDURTat2//r74jIYQQQgjx+pEkrRBpNJonvvIb/XrcqJmPjw/6+vqYmZmp5/Xo0QN3d3e8vb3VfmFhYdSvX59ixYphZ2dH69Zv8/Oeo+o0w5SU+2zevJkff/yR+fPnc+vWLeLi4qhduzYtWrTA1NSUpUuXAmBmZsa2bdtISkoiJiYGgNatWxMREUF2djbbt29Ho9Hg7u5OxYoVSUlJoWXLljg6OhIeHo6ra1nuJNwg/do5/v6mJ1fnduXakgEkrJ9Cxq3LPPgrinca1eTtt9uwY8cONm/erJawP3XqFOfOnePQoUO4u7uTnXKH64v7o29qhaGNM6ln9xI3pzOZt6+gMTDixoqR3N7yJdV9a1OiRAn1We7YsYOhQ4fSqlUrrl69SteuXbl9+zbjxo3j7bffplixYsTFxXH9+nX1GR48eFDn2f/++++UKVOGcePG4evrS/ny5bly5cp/+49DCCGEEEK8sSRJK0Tx8fHqa86cOVhZWem0zZ07N9/z8hs1y87O5sGDB+qoFcDatWvp16+fzrm5mykfOXKEKYtCOfjXXbp3eZehq4/Rdckhws8nAPDJJ5+gKAp79uyhQ4cOdOnShRUrVlCrVi01Ictdf3bx4kX++OMPAGrWrMnevXvRarXcvn2bmjVr4ujoyPjx4xk7diy+vr64uLiQkpLC2Zic6YtKdiYlun6BXevhZN27zoNLx1HSUzEu6QGWxTlz/k/MzMxwdnZWR+y2bt0KwMmTJxk8eDAGqTlxP4iN4u7OhTnXzUwn+fBGLH3bomdsTvb9u5joaXWeh7m5OStWrCAmJobjx4+TmpqKsbExgwYNQk9Pj6+//poKFSrQq1cvTpw4wf79+xk3bpzONdzd3YmLiyM0NJTY2FjmzZunjrYJIYQQQgjxzJQ3SFJSkgIoSUlJhR1KHsuWLVOsra112rZs2aL4+PgoxsbGStmyZZVJkyYpPXv2VNq1a6dUrVpVAZQlS5YoLi4uikajUYyMjBSNRqN06tRJuXz5sgIogFK3bl3Fzs5OMTQ0VExMTBRDQ0OlmK29YlahrlLqo1UKoOhb2Kn9AaW4o7MCKFeuXFEmTJigmJubq8eMjY2V0NBQxdDQUClevLhiZWWlHvPz81OMjIyUmQtXKIDSqEXbnOvr6yuAYmlpqRgbGysajUap5FUz5zyNnqIxNFH0zIopGkNjBX1DxaxyI8WkTHUFUDoEDlTs7OyUc+fOKUZGRgqgdO7cWQGUlStXKs2aNVNMTEwUQDGwc1GKNeyl2LUKUgDFuf8SxWVYqIK+oWJgaKg4ODioz7d3796Kv7+/4uvrqxgbGyvly5dXfv75Z6VMmTLK7NmzlYSEBAVQtm7dqtSvX18xMjJSKlSooISFhSmAsnHjRvVao0ePVuzs7BQLCwulc+fOyuzZs/N8n0IIIYQQougoyrmBjKQVUb/99hs9evRg6NChnD17lkWLFhESEsLJkydRFGjU5j0Axo2fiKurK8WKFeOtt94C4Ny5cyxbtgwrKysAYmJiKF++PNnZ2Tg7O2NhYUFqpsI/sUf4+7tAALLv38WqznsYOroD8I+BFYaGhgQHB/Pll1+i1WpxcnLCxMSEMmXK0KVLF8zMzLh9+zY2NjZq3MXLVcbAzoWJX80DIHznL6DRI1ubM4KVkpJCRkZGToGOrP/fG0yjwan3bEq8Nzkn1dNmU7zNSCxrtAE9fQyUbKpVq0bFihVJT0+nWLFi6jq7KlWqsGPHDn799VcAVm/ZQaUWvXIua2iMoY0TJUvY82v0FdauWcOtW7d0nrO1tTVHjhwhLS2NX3/9lQ0bNqCnp8eECRPUjab19PTYv38/6enpnD9/noCAgDzryL788ktu375NSkoKoaGhBAUFkZiY+F//MxBCCCGEEG8gSdIKwaPl5rO1Sp4+06ZNY+zYsfTu3Zty5crRrFkzpk6dSsy58+y/cIsNKeUAeODsw+m7kJiUxIoVK1AUhYsXL7J8+XLs7OyAnGIXJiYmWFhYkJaWlrM3l6U9zoHzMLLPLSqiYFm9BQZWDjnXvXOdDt37EBISQkZGBn379sXFxYWMjAwOHToE5KxJMzU1JS4uTo37d8UD/ZKepMXmVIHUM7bAyNEdNP/7T83AwABbW1su/ZkzbRKNHoZ2LhiVcEPfwhYULZl3r4GioAEcrUzQaHS3AlCUvM8MoGllR+IX9cVHLw5TY2Odvd40Gs1jz4Ocjabv3LnDkiVL+OOPP9QpnLLRtBBCCCGEeJkMCjuAN03Y6Xgmbz2rU83QydqEutmJOv2ioqI4cuQI06ZNQ6vkJCXZ2dlkZqSjl5GJlZk1ANmpiaTdvYbGrBgxKUYYGBig1WrJyMjA3t4eyKm4aGtrS0JCglrGXslIQ9+6OBm3cxMsDdcW9lHvr32QTJvAIRhm3mfVqlV88803FC9eHD09PUJCQgCwsLDAxsZGpzS+kpVBRsKlh66TRMaDZFD+txYsMzOTmTNnYmlpyZ07dyA7k7iv38k5PzMdgKx78RjZuaBoszEzM+XkyZOkp6dz+fJlEhMT1TL4+Tly5AgbNmzg8P7d1HGzK8jXom40vWjRIho0aACgVqkUQgghhBDiZZKRtJco7HQ8A1cey1Nu/kZSGssPXiHroRE1rVZLt4EjKT/gO2x6zMa25xyKB87HtHwdnVGptKunyEqMx8CqOJO35iRLNWrUICYmRh190tPTw9DQkOPHj2NmZgZA1r3rXF/8IWRnAmBUuhoYGoO+IQAaIzOMs9P47rvvAChTpgx3794lOzubkSNHAjml9U+cOKFTSOPW5pnomVmDvlFOg6KAviEaI1O1z7Bhw6hQoQKpqano6en9f4z6mJavjYF1CTTG5pTxrEG3cplYWVnx5ZdfcufOHcqVK8d7772HkZER4eHhOXFq8m62Xbx4cYyNjZ/puynsjaYDAwNfuTL8j25gHhERgUajkWmeQgghhBD/kSRpL0m2VmHy1rPkN9kuty0tM1ud+liukidrdx3mnoEdhjbO6kvP2Ew3MdFmg6KgZ1aM+KQ0FEBfX19dj/YwIyOj/20+nZ1J9v07alJmYGaFc+A8ijXsCeQkdleO78XCwgIDAwP09PQ4evQoY8eOVacMlipVCgMDA/z9/f/3OVNukZ16D4z+V2USbRZKxv9XotRocHV1BXKmEWq1WkxMTFi/djXZfx0iK+kGpgYazCKCmTNxBFZWVnh7e6Ovr098fDynTp1Cq9WSlpaT6LZq1SrPhtqurq7s2LFDfT9p0iRKly7Nu+++C8DQoUPzPBs9PT1CQ0PZunUr5cuXp3v37jobTW/atCnfhPBZPZrY/FcZGRl8+eWXVK9eHTMzM+zt7alXrx7Lli0jMzPzudyjoOrWrUt8fDzW1tYv9b5CCCGEEK8bSdJeksOX7uYZQXuUVsnpl61V0Hp14v6ZPSQeWEXGrStk3r5Kasw+Mm7G6pxj03QApYasoESn8TkN+WSBq1atokPHTgyfMJ2LSTkdSpZ1A40e+lY5UyKz/0ki/WYsxiXKoWdmTXbafTTkJHxZWVncvHmTffv2qeu0IGd0bd68eaSmpgJgYFMSNBqUrEw0alEQPUxKV8XIqSJo9LC0subw4cMAODk5AWBqaoqTYwnq1K4NgKGBPiOGD+f06dPUrl2bO3fu8ODBA/744w912mezZs0wNDRk4sSJjB8/nsuXL6MoCsWKFQOgVq1aJCYmsm7dOmbPns2iRYuIjY3ljz/+oGrVqgCEhISom1QDNG3alPbt22NiYkJaWhrVqlV7rhtNP++1bRkZGQQEBDBjxgz69+9PZGQkhw8fZvDgwcyfP58zZ87862v/mwTPyMgIR0fH55LMCiGEEEK8ySRJe0kSUp6coD3c7/CluzwoURWHThNIuxzNjR9HEL9iJMlHNqExNNHpr2dojJ6x2f8a8vn38a6zN/h0eywLQn7i6wk5UxXjr12jy5ivMCtWHGMXTzJuxnJny5fcDP0M5UEKZcuWJSYmhsqVKwOQlZVFUFAQe/bsUUdKXFxc2LBhA7179wYgO/lmTiXHpJvomf7/SJ6ikHY5moz48zkFQdLT1IIm1atXV2MMCAhg//79QM5ea23atCE1NZU7d+5w5coVzM3N1bViFSpU4NChQ7z33nv079+fIUOG6Ix6PSwuLg5HR0eaNm1K6dKlqVWrVp694x7VtGlTHB0dmT59+hP7rV+/nipVqmBsbIyrq2u+I3qff/45gYGBWFtb069fP7VipLe3NxqNRmcUEmDWrFk4OTlhZ2fH4MGDn5gszZkzh3379rF7924GDx6Ml5cX5cqVo1u3bvzxxx+UL18eyLuB+dtvv01s7P+S/dzRvbVr1+Lv74+JiQkrV65Eq9UyZcoUSpUqhbGxMV5eXoSFhT02nkenO4aEhFCsWDF+++03PDw8sLCwoEWLFsTHx6vnHDlyhGbNmmFvb4+1tTV+fn4cO3bsic9dCCGEEOJ1J0naS+JgafLE4xZVm1I6aA0OliZqQmdargaOPb6i9Mj1lB6+FqdeX+PUcxYOHT8DoMyYbZhVqAPk5GZO1iakp2eoBS+io6P59dR1Rm+JJdWmPI7dZlB6+M+YezbBuIwXh5SKuNqZ065JPTYeOk/kxdtkZWtp27YNdevWZe3atbRr1w5zc3Pq1q2Lvr4+jRs35vvvvwcgPT2d+/fvqyNpPk07YGhfGkO7UmSn5Ja61x3ay8zMxM3NDYCkpCQgpyy/iYmJmhB+8cUX/PPPP7z11ltq5UhFUdSRqOvXr/Puu++yePFivv76a9asWcPZs2cpVaoUgwYN0qng+O677/LgwQPKlStHv3792LhxI1lZWU/8LvT19fniiy+YP38+f//9d759oqKieO+99+jSpQunTp1i0qRJjB8/Xi2qkuurr77C09OTqKgoxo8fr44i7tq1i/j4eDZs2KD2DQ8PJzY2lvDwcJYvX05ISEie6z1s1apVNG3aFG9v7zzHDA0NMTc3B3Q3MN+9ezd6enp06NABrVZ3Y+8xY8YwdOhQYmJiCAgIYO7cuQQHBzNr1ixOnjxJQEAAbdu25cKFC098fg/7559/mDVrFitWrGDfvn3ExcUxatQo9XhKSgq9e/dm//79HDp0iPLly9OqVStSUlIKfA8hhBBCiNeNJGkvSa2ytjhZm+Q30AX8L8mqVdb2qQldfucCTGxTGX29/93hSevgcl2+k4qjlTHtvEpSx81OPf/SpUtUrFgRf39/Hjx4wMWLF8nIyGD37t389ddfACxfvpyO/UdRPnAmAOdv5PzDWpuaiJ6JJaUGr8DIuRLFfVvh4eWLkZERJiY5n+2ff/5RS/nPnj2bBQsW8OeffwI5Cca5c+fIzMzkxo0bAPzwww/qCJifnx+zZ8/GzMwMPT09PvjgAwwNDVm2bBl79uzJ2WLg/7m4uHD+/Hm+/fZbTE1NGTRoEA0bNnzqdL4OHTrg5eXFxIkT8z3+9ddf06RJE8aPH0+FChUIDAzMd0SvcePGjBo1Cnd3d9zd3SlevDgAdnZ2ODo6Ymtrq/a1sbHhm2++oVKlSrz99tu0bt2a3bt3PzbGCxcuUKlSpSd+DoBOnTrRsWNHypcvj5eXF0uXLuXUqVM6VTkBgoKC6NixI2XLlsXZ2ZlZs2YxZswYunTpQsWKFZk5cyZeXl7MmTPnqffMlZmZycKFC/H19cXHx4chQ4bofKbGjRvTo0cPPDw88PDwYNGiRfzzzz/s3bu3wPcQQgghhHjdSJL2kujraZjYJmek6NFE7dEk62kJ3aMcrU1Y0MOHFp5OOu1PWwenABlZWm4kp+vs3XY3NYMLFy7Qo0cPmjZtSqVKlbh58yaLFy9m//79LF26FIC3mrZhyV+WJBsU0/08RqZo01NpVPwf3OxMcdXc4sLpaPT19dWpjufOncPUNKfiY6lSpWjfvr06IqTVaildujQajUYtgHLlyhUiIiKAnFGsXEFBQaSkpFChQgV1L7nckb1cpqamtG3blnnz5hEREcHBgwc5deqUevzhz34rJZ3cgbiZM2eyfPnyPMkM5GwQXq9ePZ22kJAQzp07R3Z2ttrm6+ur/vny5cvqdMf8VKlSBX19ffW9k5MTCQkJj+2vKEqB1n/FxsbSrVs3ypUrh5WVlRrDw/vbPRprcnIy169fz/MZ69WrR0xMzFPvmcvMzEwdOYW8nykhIYEBAwZQoUIFrK2tsba25v79+3liE0IIIYR4k8g+aS9RC08nFvTwybNPmqO1CRPbVFaTrNyEbuDKY2jQnTCY+0/yoKYVcLU3w8EyZ/Tt4RG0XAVdBxd3J5X6M/eoMd28cJ20W7dxqN4IPT09Nm7ciL+/P4MGDcLd3Z2+ffsyZswYjt41RrHPez0D21Jkpyby04wRaLLSsbGxwdjYmDJlyqgJVFJSEjY2Nty/f189r0SJEjn3v3kTHx8fKlWqpO6Htnr1ambNmkXbtm2Jj49n6tSpdO7cmR9++IHg4GCsrKywtLQkKytL3ScOchKn7Oxs3nrrLczMzFixYgWmpqaUKVMGyLtv3e0/b2GU/YCw0/G0aNiQgIAAPv30U95++20AnJ2duX37NpBTKGPIkCFq4pmf3CmHkDOqd/jwYWrVqpVvX0NDQ533Go0mz5TEh1WoUKFACVObNm1wcXFhyZIlODs7o9Vq8fT0zFPI5OFYH47hYQVNDHPl95keno4aGBjIrVu3mDNnDmXKlMHY2Jg6derIBuJCCCGEeKNJkvaStfB0olllRw5fuktCStpjk6yCJnRP8rhpk/ath//vet1mEA/w0D2MSriRduUE3Rp700NPk5MoKgqGhoYcOnSIEydOAJBZuiZ6gIF1CcqM2UbigVUAaPT0MHJ0y1k79/Nw/r7yFwcOHKB27dpq+X0fHx9sbGxYtmyZet/+/fuzefNmNQlwcHDAz8+PhQsX8s033+Dv70+7du1ISkoiNDSUqVOnkpmZSYMGDfjyyy+xtbXlwIED9O3bVx3NKlasGDNmzGDEiBFkZ2dTtWpVtm7dip2dnbpv3aPTQdOytAxceYwFPXyYMWMG1atXZ+fOnUBOsli2bFl69+7NkSNHqFOnDocOHcLW1pb09HQcHBx0RsMepq+vT8mSJQF0Rtv+rW7duvHpp59y/PjxPOvSsrKySE9PJy0t7V9t0m1lZYWzszMHDhygYcOGantkZORjk8x/Y//+/Xz33Xe0atUKgKtXr6pJsBBCCCHEm0qStEKgr6ehjtvjR19yFTShe5zcaZM3/n//tEdpAI0mp/R/LkWbzf0ze7Bp1BfTst7YWxjzY9+30NfT0KlTJ1atWoWnp+cT75ubBKZfi+HO33EsXbqU2v9fXv/y5csA3Lp1i/Xr16PVatWk7PLly1haWtK8eXP1WsbGxjojL5BT+j88PJz169fTpUsXIiIi1E2x165dC8DAgQMBaN++fb4l9AuyXm/y1rMcGNMYJycnrl+/DuSshwMIDg7G19eXy5cvM3jwYFq0aEFKSgrNmjWjT58+/Pzzzzx48IDIyEiCgoLUz1e2bFmMjY0JCwujVKlSHD16lMmTJxMVFYWhoSFjx47l888/x8Dg6f/TDAoKYvv27TRp0oSpU6dSv359LC0tOXr0KDNnzmTp0qVUq1ZN3aTbycmJuLg4xo4d+9RrA4wePZqJEyfi5uaGl5cXy5YtIzo6mlWrVhXo/IJwd3dnxYoV+Pr6kpyczOjRo9VpsEIIIYQQbypZk1bE5SZ0jxb2KOi5T1oHp6CboAE8uHgYbdp9LKo3x7C4K0mmTvxj7oynpyfvvPOOuh7tabLv3yNh4zSavd2BgIAAbty4wY0bN7h1K6fq46BBg7h69SofffQR586dY/PmzUycOJERI0aoCdfTuLm5kZWVxfz58/nrr79YsWIFCxcuLNC5BVmvF5+Uxq7jscTHx+cZHfPx8eHnn3/G3Nyc0NBQxo8fT7FixQgPD8fX15fjx49jaWnJunXrOHfunM65H3/8MYsWLcLJyYm2bdtSs2ZN2rZtS/Xq1Vm6dCmff/55gT6DsbExO3fuVK9Xu3Ztatasybx58xg6dCienp7qJt1RUVF4enoyfPjwx25X8KihQ4cycuRIRo4cSdWqVQkLC2PLli1qaf/n4YcffuDevXt4e3vTs2dPhg4dioODw3O7vhBCCCHEq0ijPDpM8RpLTk7G2tqapKQktSDFm+DRdVeQU0mypacjP/x+WadvwrrJoCg4vDtJbZvbxYt2XiU5duwYNWrUIDg4mJEjR+I7fhO3MwzU0ajEA6v458IhnN+fT1rcSW6u/jRPLGXKlFFH0/bu3cvo0aM5ceIEtra29O7dW2cUyd/fP081wfbt21OsWDG1NP3s2bP56quvSExMpGHDhnTv3p1evXpx7949dWPr/GyOvsaw0OinPru2TveZH9SFjRs35jsiN3v2bEaMGMHNmzepVasWDRo0YMWKFUDOFFFHR0cmT57MgAED1JG048eP4+Xlxbhx41i/fj0xMTHqaOJ3333HmDFjSEpKKnCyKoQQQgghnl1Rzg1kuuMb4HHTJg9fupsnSXN4J2/J+dy1bT4+PurUwxEjRqhrunJH5YrV706x+t3RAKalq/HrqetPXDvn5+en7huWn9xqjg/btGmTzvvhw4czfPhwnbaePXs+9pqPfqan+TnqGgDHrtylfT7Hc59HbpJVrVo19ZhGo8HR0fGxFRpjYmKoU6eOTiGOevXqcf/+ff7++29Kly5doBiFEEIIIcTrRX5V/4bIb9rks+zdlp/c4iaO1roJz+O2BChKCrrNgYGNE6Bh/oa9hJ2Oz3P83Llz2NjYYG+fU+byWSo05lcp8dGkTwghhBBCvHlkJO0NVpBS/49ukP2o/1rcpLA86bPr9DO1wsTVi5Rj25m4oTPNKjuqn+3GjRusWrWKXr16/aukqnLlyqxfv14nWYuMjMTS0lKtAimEEEIIId48MpL2hnseo2H/pbhJYXrcZ3+UbbMBKNmZnFjyMYvWbOPq1auEhYXRrFkzSpYsybRp0/7V/Z9H8RQhxPMXERGBRqMhMTGxsEN5qlcpViGEEAUn/xIUtPB04sCYxqzuV5u5XbxY3a82B8Y0LtLTFZ+X3M8+pJH7Y/sY2pbEqfccDIo58dnQD3Bzc6N///40atSIgwcPYmub/3TQpylZsiS//PILhw8fpnr16gwYMIC+ffvy2Wef/duPI4R4xMKFC9WN7nPdv38fQ0NDde/AXPv370ej0eDs7Ex8fDzW1tYvO9xnVrdu3VcmViGEEAUn1R2FAA7G3qHrkkNP7be6X+0C7XEnhCgazp8/T6VKlTh48KC6X+Ovv/5K//79uXXrFnfv3sXMzAyAqVOnsnDhQq5du1aYIQshhHhJinJuICNpQvD0QiJPK6IihCiaKlasiLOzs0612IiICNq1a4ebmxuRkZE67Y0aNcozhfDKlSu0adMGGxsbzM3NqVKlCr/88ot63pkzZ2jdujVWVlZYWlrSoEEDYmNjAdBqtUyZMoVSpUphbGyMl5cXYWFh6rmXL19Go9GwYcMGGjVqhJmZGdWrV+fgwYNqnyfd/9FYQ0JCKFasGL/99hseHh5YWFjQokUL4uPzFj4SQghRdEmSJgRP3/gbnl5ERQhRNPn7+xMeHq6+Dw8Px9/fHz8/P7U9IyODgwcP0qhRozznDx48mPT0dPbt28epU6eYOXMmFhYWAFy7do2GDRtiYmLCnj17iIqKok+fPur0yrlz5xIcHMysWbM4efIkAQEBtG3blgsXLujcY9y4cYwaNYro6GgqVKhA165d1Ws86f75+eeff5g1axYrVqxg3759xMXFMWrUqP/2EIUQQrxUUt1RiP+XW0jk0Y2/Ha1NmNim8huxRk+I15G/vz/Dhw8nKyuLBw8ecPz4cRo2bEh2djbz5s0D4NChQzx48IBGjRoRFxenc35cXBydOnWiatWqAJQrV0499u2332JtbU1oaKi6BUeFChXU47NmzWLMmDF06dIFgJkzZxIeHs6cOXP49ttv1X6jRo2idevWAEyePJkqVapw8eJFKlWq9Nj7h4SEMGTIkDyfNzMzk4ULF+Lm5gbAkCFDmDJlyn94gkIIIV42SdKEeMiruqWAEK8Kf39/vLy8mDNnzgu7R7ZW0fnfcEM/f1JTUzly5Aj37t2jQoUKODg44OfnR8+ePUlNTSUiIoLSpUtTrly5PEna0KFDGThwIDt27KBp06Z06tRJ3bg+OjqaBg0a5NkjEXLWOly/fp1jx47ptNerV49du3ah0Wi4dOkSkJO89e3bFwAnp5xfCCUkJFCpUqUn3j8/ZmZmaoKWe72EhIR/8SSFEEIUFpnuKMQjXtUtBYQoLIGBgWg0GgYMGJDn2KBBg9BoNAQGBgKwYcMGpk6d+sJiCTsdT/2Ze+i65BDDQqPpuuQQgevjsC/hRHh4OOHh4fj5+QHg6OhI2bJl+f333wkPD6dx48b5XtPd3Z2srCw6derEqVOn8PX1Zf78+QCYmpo+Nab8Nq1/tO3h97l/1mq1AHzwwQf89ddf9OzZM8/98/NowqjRaHiDaoQJIcRrQZI0IYQQ/5mLiwuhoaE8ePBAbUtLS2P16tWULl1abbO1tcXS0vKFxBB2Op6BK4/pTFcGuJGUxgP7Sqzb9hsRERH4+/urx/z8/Pjtt984dOhQvuvRHtanTx82bNjAyJEjWbJkCQDVqlVj//79ZGZm5ulvZWWFkZFRnmqRkZGRlCpVCoB169YB8Oeff6LRaNBoNPz0008ArF27lqpVq2Jubk7dunU5efIkP/74o879c9WqVQsLCwuCg4MlIRNCiNeAJGlCCCH+Mx8fH0qXLs2GDRvUtg0bNuDi4oK3t7fa5u/vT1BQkPre1dWVL774gj59+mBpaUnp0qVZvHixerwg1Q8B9h/4nffaBHAluCN/fxfI3V2L0GbkJGvK//+f4wf3c/ToUQYPHsw777wD5CRpS5YsIS0tjeHDh2NiYsJHH32kc//c5M3GxgaNRsP333+Ph4cHYWFh/PLLL1y+fBlzc3Pq16/P7t27WbFiBefPnwdykteoqCjWrFnD+fPnGTt2LNHR0bz99tsA6v8vV64c8fHxxMfH06FDBwD09PSYN28e7733HkOGDCEsLIz333+fPXv24OHhAeQkwgCLFi1i37593LlzRydRFkII8WqSJE0IIcRz8f7777Ns2TL1/Q8//ECfPn2eel5wcDC+vr4cP36cQYMGMXDgQM6dO6fT50nVD0+dOkWLFgEYlKuN0/vzsW87hvS/z3J350IA0uMvkHo2AlAoWbosO3bsoGHDhkBOkpaSkoK+vj4rV67k2LFjlCxZEoB79+7h4uJCy5YtATAyMsLOzo4mTZrw3XffkZqaypgxY9i8eTO+vr4cOnSI5s2bs3jxYk5dv8/m6GtY2jrg7e3NyJEjqVq1KmFhYWzZsgVnZ2cATExMADAwMMDR0RFHR0d1CuU777xDo0aNsLCwYMmSJfz999+sX7+eihUr8t133wGQnZ0NgLe3Nz4+PjRp0kRn424hhBCvJknShBBCPLNsrcLB2Dtsjr7GrZR0FAV69uzJgQMHuHz5MleuXOH333+nR48eT71Wq1atGDRoEO7u7owZMwZ7e3udfc3gf9UPK1SowOTJk7ly5QoXL14E4KuvvqJ+i/ZY1WyHoW1JTEp5YNO0P6ln9qBkZZCdfAuNkSkuQWv5dvN+vL29GTp0KJAzOmZoaMiPP/5Iy5YtqVy5Mlu3bsXZ2Zl169ahr6/Pxx9/DMDNmze5ffs2oaGh2NnZ0alTJzp27EibNm2IjIwkPj4erVZLsk9vRv12g2Gh0cTcSOGKfkm+DztCRkYG0dHRtGjRQv1crq6uTJw4UWdtW7FixVAUBUVRaNasGRs2bODmzZvo6+ujKAoLFizAzs4OyCkSoigKxYoVA6Bjx455nm/79u1lCqQQQrxipLqjEEKIZxJ2Ol5nq4rbf97CKPsBR29k0rp1a5YvX46iKLRu3Rp7e/unXu/hSoUajQZHR8c81Qgf7vNo9cOoqCguXLhIFusfOkMBRUtW4k1MXL0wsHbg2qIPWHApgPvvtqNDhw6YmZkRGxtLZmYm9erVU880NDSkVq1axMTEPDHu2NhYxo8fz6FDh7h9+zaZWTmjWjeu/42pW06MesZm3E9OZuDKYyzo4aNu5ZGYmIiVldVjr33lyhVatWrFgAEDmDp1Kra2thw4cIC+ffvqrH+TIiFCCPF6kiRNCCFEgeUW53g0DUjL0jJw5THeb9KeZV9NANDZB+xJ8ks0cisb5tfn0eqHWq2WDz/szwHjmjmjeg+dZ2BVHI2+Ic6BczG7cw5P21tMmDCBSZMmceTIETWhKUgFxke1adMGFxcXlixZQglHJ7ovOcjJuR+gZP9vuqGhbSke/BUFwOStZ2lW2RF9PQ1HjhyhYsWKQM40ytxpi7mOHj1KVlYWwcHB6OnlTHpZu3btE+MRQgjx+pDpjkIIIQokW6sweevZPAnaw365V4KMjAwyMjIICAh4KXH5+Phw9uxZpgc2w9DGGSMbZwz//6XRN0QDaPT0+Xp4T2Z99RUnT57k8uXL7NmzB3d3d4yMjDhw4IB6vczMTI4ePaoW5zAyMgLQSaTu3LlDTEwMn332GU2aNCHFpAQ3b9/JE5ulT2uyEm9we8cCrlw4y7o9h/n2229ZunQpo0ePBnKmPF66dIno6Ghu375Neno6bm5uZGVlMX/+fP766y9WrFjBwoULX+BTFEIIUZRIkiaEEKJADl+6m6e8/cMU4EZKJsu3/05MTAz6+vovJa4xY8Zw8OBBti74nFG+Rlhn3uafC3+ohUOM46NpoTmGY9ZNrly5wo8//ohWq6VixYqYm5szcOBARo8eTVhYGGfPnqVfv378888/6ubSZcqUQaPRsG3bNm7dusX9+/exsbHBzs6OxYsXc/HiRXbt3s29Pd/nic3AugQlus8kKzGem2sm0KdDM0JCQggJCeHdd98FoFOnTrRo0YJGjRpRvHhxVq9ejZeXF19//TUzZ87E09OTVatWMX369JfyPIuSkJAQdb3dy+Tq6vpCN1wXQoinkemOQgghCiQh5fEJ2sNSMXzieqvnrVq1auzdu5dx48bx448dURQFJxdXmjd9m8H9apNxzYqJE8bTeNFs0tLSKF++PKtXr6ZKlSoAzJgxA61WS8+ePUlJScHX15fffvsNGxsbAEqWLMnkyZMZO3Ys77//Pr169SIkJITQ0FCGDh2Kp6cnLmXdsfHvw83Vn+SJz9jRnRLvTQFgdb/a1HGz0z1ubKzul/aw4cOHM3z4cJ22nj17qn8ODAxUNwnP9WiRkMDAQJYvXw7kVJB0cXGhY8eOTJ48GXNz84I+4jfOkSNH5PkIIQqVRnmDVhgnJydjbW1NUlLSS/0HhBBCvA4Oxt6h65JDT+2XXyLyusvWKtSfuYcbSWn5TgfVAI7WJhwY0xh9vSevdXueAgMDuXnzJsuWLSMzM5P9+/fzwQcf0Lt3bxYsWPDS4vi3QkJCCAoKIjExsbBDEUK8hopybiDTHYUQQhRIrbK2OFmb8LgUQwM4WZtQq6ztywyrSNDX0zCxTWWAPM8n9/3ENpVfaoKWy9jYGEdHR1xcXOjWrRvdu3dn06ZNKIrCl19+Sbly5TA1NaV69eo6I3oRERFoNBp2796Nr68vZmZm1K1bV92oG2DSpEl4eXmxYsUKXF1dsba2pkuXLqSkpKh91q1bR9WqVTE1NcXOzo6mTZuSmprKvn37MDQ05MaNGzrxjhw5Ut3H7mHnz59Ho9Hk2UPv66+/xtXVFUVRyM7Opm/fvpQtWxZTU1MqVqzI3LlzdfoHBgbSvn17Zs2ahZOTE3Z2dgwePFinauaj0x2//vprqlatirm5OS4uLgwaNIj79+8/2xchhBDPQJI0IYQQBVKUE5GioIWnEwt6+OBobaLT7mhtolN+v7CZmpqSmZnJZ599xrJly1iwYAFnzpxh+PDh9OjRg7179+r0HzduHMHBwRw9ehQDA4M8G5THxsayadMmtm3bxrZt29i7dy8zZswAID4+nq5du9KnTx9iYmKIiIigY8ecKakNGzakXLlyrFixQr1WVlYWK1eu5P33388Td8WKFalRowarVq3Saf/pp5/o1q2bWhW0VKlSrF27lrNnzzJhwgQ+/fTTPJUxw8PDiY2NJTw8nOXLl6vrBB9HT0+PefPmcfr0aZYvX86ePXvU/fOEEOKFUN4gSUlJCqAkJSUVdihCCPHK+vXUdaX2F7uUMmO2qa/aX+xSfj11vbBDKxKysrVK5MXbyqbjfyuRF28rWdnaQrt/q45dlLZt26nH/vjjD8XOzk555513FBMTEyUyMlLn3L59+ypdu3ZVFEVRwsPDFUDZtWuXenz79u0KoDx48EBRFEWZOHGiYmZmpiQnJ6t9Ro8erbz11luKoihKVFSUAiiXL1/ON9aZM2cqHh4e6vtNmzYpFhYWyv379xVFUZRly5Yp1tbW6vGvv/5aKVeunPr+/PnzCqCcOXPmsc9j0KBBSqdOndT3vXv3VsqUKaNkZWWpbe+++67SuXNn9X2ZMmWU2bNnP/aaa9euVezs7B57XAjxaijKuYEUDhFCCPFMWng60ayyI4cv3SUhJQ0Hy5wpjm/qCNqj9PU0hbYmL7+NxlPPhmNqZo6izSYzM5N27doxatQo1q1bR7NmzXTOz8jIwNvbW6ftcRuJly5dGsiZGmhpaanTJ3cz8urVq9OkSROqVq1KQEAAzZs355133lGLsgQGBvLZZ59x6NAhateuzQ8//MB777332KIdXbp0YfTo0Wr/VatW4eXlReXKldU+Cxcu5Pvvv+fKlSs8ePCAjIwMvLy8dK5TpUoVneqjTk5OnDp16rHPNTw8nC+++IKzZ8+SnJxMVlYWaWlppKamSoERIcQLIdMdhRBCPLPcRKSdV0nquNlJglYE5G40/ug2CSYu1bDrOYdFW/aTlpbGhg0b1GPbt28nOjpafZ09ezZPpcknbST+6PHcPrnH9fX12blzJ7/++iuVK1dm/vz5VKxYkUuXLgHg4OBAmzZtWLZsGQkJCfzyyy95plM+zMnJiUaNGvHTTz8BsHr1anr06KEeX7t2LcOHD6dPnz7s2LGD6Oho3n//fTIyMh77mR6N+VFXrlyhVatWeHp6sn79eqKiotSN2h9exyaEEM+TjKQJIYQQr7gnbTSuMTLB0MaZhVHJ9Gia82O/cuXKGBsbExcXh5+f3wuNTaPRUK9ePerVq8eECRMoU6YMGzduZMSIEQB88MEHdOnShVKlSuHm5ka9evWeeL3u3bszZswYunbtSmxsLF26dFGP7d+/n7p16zJo0CC1LTY29j/Ff/ToUbKysggODkZPL+d324+ucRNCiOdNkjQhhBDiFVeQjcbjk9I4fOkuddzssLS0ZNSoUQwfPhytVkv9+vVJTk4mMjISCwsLevfu/Vzi+uOPP9i9ezfNmzfHwcGBP/74g1u3buHh4aH2CQgIwNrams8//5wpU6Y89ZodO3Zk4MCBDBw4kEaNGlGyZEn1mLu7Oz/++CO//fYbZcuWZcWKFRw5coSyZcv+68/g5uZGVlYW8+fPp02bNvz+++8sXLjwX19PCCEKQqY7CiGEEK+4gm40/nC/qVOnMmHCBKZPn46HhwcBAQFs3br1PyU0j7KysmLfvn20atWKChUq8NlnnxEcHEzLli3VPnp6egQGBpKdnU2vXr0KdM02bdpw4sQJunfvrnNswIABdOzYkc6dO/PWW29x584dnVG1f8PLy4uvv/6amTNn4unpyapVq5g+ffp/uqYQQjyNbGYthBBCvOJe9Y3G+/Xrx82bN9myZUthhyKEeIMU5dxApjsKIYQQr7jcjcZvJKXlvy6NnP3aitpG40lJSRw5coRVq1axefPmwg5HCCGKDJnuKIQQb4CrV6/St29fnJ2dMTIyokyZMgwbNow7d+4UdmjiOXhVNxpv164dbdu25cMPP8yzHYAQQrzJZLqjEEK85v766y/q1KlDhQoV+Pzzzylbtixnzpxh9OjRZGRkcOjQIWxt846wZGRkYGRkVAgRi3/r0X3SAJysTZjYpjItPJ0KMTIhhCh6inJuICNpQgjxmhs8eDBGRkbs2LEDPz8/SpcuTcuWLdm1axfXrl1j3LhxQM6mxJ9//jmBgYFYW1vTr18/ACIjI2nYsCGmpqa4uLgwdOhQUlNT1evHx8fTunVrTE1NKVu2LD/99BOurq7MmTNH7RMXF0e7du2wsLDAysqK9957j5s3b6rHJ02ahJeXFytWrMDV1RVra2u6dOlCSkrKy3lIr4kWnk4cGNOY1f1qM7eLF6v71ebAmMaSoAkhxCtGkjQhhHiN3b17l99++41BgwZhamqqc8zR0ZHu3buzZs0acidVfPXVV3h6ehIVFcX48eM5deoUAQEBdOzYkZMnT7JmzRoOHDjAkCFD1Ov06tWL69evExERwfr161m8eDEJCQnqcUVRaN++PXfv3mXv3r3s3LmT2NhYOnfurBNPbGwsmzZtYtu2bWzbto29e/cyY8aMF/h0Xk+y0bgQoijI/eVbYfH39ycoKKjQ7v9fSeEQIYR4DWVrFQ5fusuByEgURaFixUr59vPw8ODevXvcunULgMaNGzNq1Cj1eK9evejWrZv6g658+fLMmzcPPz8/FixYwOXLl9m1axdHjhzB19cXgO+//57y5cur19i1axcnT57k0qVLuLi4ALBixQqqVKnCkSNHqFmzJgBarZaQkBAsLS0B6NmzJ7t372batGnP9+EIIYR4qhs3bjBt2jS2b9/OtWvXcHBwwMvLi6CgIJo0aVLY4b32JEkTQojXzMPrktKvXwDgk42nMKtQO8+0t9wRNI0mZ7QlN9HKFRUVxcWLF1m1apXOOVqtlkuXLvHnn39iYGCAj4+Petzd3R0bGxv1fUxMDC4uLmqCBlC5cmWKFStGTEyMmqS5urqqCRqAk5OTzoicEEKIl+Py5cvUq1ePYsWK8eWXX1KtWjUyMzP57bffGDx4MOfOnXspcWRmZmJoaPhS7lXUyHRHIYR4jYSdjmfgymNq4QgDGydAQ0JcLANXHiPsdLxO/3PnzmFjY4O9vT0A5ubmOse1Wi0ffvgh0dHR6uvEiRNcuHABNzc3Hld76uF2RVHUJPDRPg+3P/qDWKPRoNVqC/7hhRBCPBeDBg1Co9Fw+PBh3nnnHSpUqECVKlUYMWIEhw7l7Mn4tLXGj9JqtUyZMoVSpUphbGyMl5cXYWFh6vHLly+j0WhYu3Yt/v7+mJiYsHLlSu7cuUPXrl0pVaoUZmZmVK1aldWrV+tcOzU1lV69emFhYYGTkxPBwcF57n/v3j169eqFjY0NZmZmtGzZktjY2Of0xJ4/SdKEEOI1ka1VmLz1rM4+WfqmVpi4epFybDvazHQmbz1Ltjanx40bN1i1ahWdO3fON4kC8PHx4cyZM7i7u+d5GRkZUalSJbKysjh+/Lh6zsWLF0lMTFTfV65cmbi4OK5evaq2nT17lqSkJDw8PJ7rMxBCCPHf3L17l7CwMAYPHpznF3cAxYoVK/Ba44fNnTuX4OBgZs2axcmTJwkICKBt27ZcuHBBp9+YMWMYOnQoMTExBAQEkJaWRo0aNdi2bRunT5+mf//+9OzZkz/++EM9Z/To0YSHh7Nx40Z27NhBREQEUVFROtcNDAzk6NGjbNmyhYMHD6IoCu+8885/fFovjkx3FEKI18ThS3d1Sq/nsm02gBsrR3Nz7QTSG/Zk6+/FMUm9zujRoylZsuQT13yNGTOG2rVrM3jwYPr164e5uTkxMTHs3LmT+fPnU6lSJZo2bUr//v1ZsGABhoaGjBw5ElNTUzXxa9q0KdWqVaN79+7MmTOHrKwsBg0ahJ+fX57plUIIIV6+3HXMCSlp3P7rLIqiUKlS/muZoeBrjR82a9YsxowZQ5cuXQCYOXMm4eHhzJkzh2+//VbtFxQURMeOHXXOfXit9EcffURYWBg///wzb731Fvfv32fp0qX8+OOP6n6Ly5cvp1SpUuo5Fy5cYMuWLfz+++/UrVsXgFWrVulMwy9qZCRNCCFeEwkpeRM0AEPbkjj1noNBMSdub57Ju4196d+/P40aNeLgwYP57pGWq1q1auzdu5cLFy7QoEEDvL29GT9+PE5O/1vb9uOPP1KiRAkaNmxIhw4d6NevH5aWlpiYmAA50xY3bdqEjY0NDRs2pGnTppQrV441a9Y83wcghBDimYWdjqf+zD10XXKIYaHRfLbpFADH4+499pynrTV+VHJyMtevX6devXo67fXq1cvT/9Ff3mVnZzNt2jSqVauGnZ0dFhYW7Nixg7i4OCCnMnBGRgZ16tRRz7G1taVixYo68RoYGPDWW2+pbXZ2dri7uz/2MxY2GUkTQojXhIOlyWOPGVg7YN86CIDV/WpTx80uT5/Lly/ne27NmjXZsWPHY6/t5OTEL7/8or7/+++/SUhI0PnhV7p0aTZv3vzYa0yaNIlJkybptAUFBb3S5ZOFEKKoy13H/PA0eQMbZ0DD/A17qdukZb77LBZ0rfGjHj2WX/9Hp1gGBwcze/Zs5syZQ9WqVTE3NycoKIiMjAz1Gk9TkD5FjYykCSHEa6JWWVucrE143I9HDeBkbUKtso8fOfs39uzZw5YtW7h06RKRkZF06dIFV1dXGjZs+FzvI4QQ4vnJbx0zgL6pJSZlfUg5tp0J66PUdcy5EhMTn3mtsZWVFc7Ozhw4cECnPTIy8qlrk/fv30+7du3o0aMH1atXp1y5cjrr2Nzd3TE0NFQLmkBOkZA///xTfV+5cmWysrJ01rHduXOHixcvPvHehUmSNCGEeE3o62mY2KYyQJ5ELff9xDaVn/vmxpmZmXz66adUqVKFDh06ULx4cSIiIt7YsslCCPEqeNw6ZgDb5gNB0RI9fzAzFyznwoULxMTEMG/ePOrUqaOz1vjYsWMcPnyYXr16PXGt8ejRo5k5cyZr1qzh/PnzjB07lujoaIYNG/bEON3d3dm5cyeRkZHExMTw4YcfcuPGDfW4hYUFffv2ZfTo0ezevZvTp08TGBiInt7/0pzy5cvTrl07+vXrx4EDBzhx4gQ9evTQmbpf1Mh0RyGEeI208HRiQQ8fdZ+0XI7WJkxsUznfaSv/VUBAAAEBAc/9ukIIIV6cx61jBjAs5ohj4FySD65hzrTxTB6RQPHixalRowYLFixQ1xp/9NFHNGzYED09PVq0aMH8+fMfe82hQ4eSnJzMyJEjSUhIoHLlymzZsoXy5cs/Mc7x48dz6dIlAgICMDMzo3///rRv356kpCS1z1dffcX9+/dp27YtlpaWjBw5Uuc4wLJlyxg2bBhvv/02GRkZNGzYkHXr1uns81mUaJRXcZLmv5ScnIy1tTVJSUlYWVkVdjhCCPHCPFypy8EyZ4rj8x5BE0II8eo6GHuHrksOPbXf49Yxvw6Kcm4gI2lCCPEa0tfTvLY/VIUQQvx3ueuYbySl5VmXBjnT5B1fwDpmUTCyJk0IIYQQQog3TGGtYxYFI0maEEIIIYQQb6DcdcyO1rpbuDham7Cgh88LWccsCuaVme44bdo0tm/fTnR0NEZGRiQmJhZ2SEIIIYQQQrzSWng60ayyo6xjLmJemSQtIyODd999lzp16rB06dLCDkcIIYQQQojXgqxjLnpemSRt8uTJAISEhBRuIEIIIYQQQgjxAr0ySdq/kZ6eTnp6uvo+OTm5EKMRQgghhBBCiKd7rQuHTJ8+HWtra/Xl4uJS2CEJIYQQQgghxBMVapI2adIkNBrNE19Hjx7919f/5JNPSEpKUl9Xr159jtELIYQQQgghxPNXqNMdhwwZQpcuXZ7Yx9XV9V9f39jYGGNj4399vhBCCCGEEEK8bIWapNnb22Nvb1+YIQghhBBCCCFEkfLKFA6Ji4vj7t27xMXFkZ2dTXR0NADu7u5YWFgUbnBCCCGEEEII8Zy8MoVDJkyYgLe3NxMnTuT+/ft4e3vj7e39n9asCSGEEEKI15u/vz9BQUEF6hsREYFGoyExMfGxfSZNmoSXl9dziU2Ix3llkrSQkBAURcnz8vf3L+zQhBBCCCHESxQYGIhGo2HAgAF5jg0aNAiNRkNgYCAAGzZsYOrUqc/t3qNGjWL37t3P7XpC5OeVSdKEEEIIIYTI5eLiQmhoKA8ePFDb0tLSWL16NaVLl1bbbG1tsbS0fG73tbCwwM7O7rldT4j8SJImhBBCCCFeOT4+PpQuXZoNGzaobRs2bMDFxQVvb2+17dHpjunp6Xz88ce4uLhgbGxM+fLlWbp0qc61o6Ki8PX1xczMjLp163L+/Hn12KPTHbOyshg6dCjFihXDzs6OMWPG0Lt3b9q3b6/2CQsLo379+mqft99+m9jYWPX45cuX0Wg0bNiwgUaNGmFmZkb16tU5ePDgc3hS4lUkSZoQQgghhHglvf/++yxbtkx9/8MPP9CnT58nntOrVy9CQ0OZN28eMTExLFy4ME8RunHjxhEcHMzRo0cxMDB44jVnzpzJqlWrWLZsGb///jvJycls2rRJp09qaiojRozgyJEj7N69Gz09PTp06IBWq81z31GjRhEdHU2FChXo2rUrWVlZBXwa4nXyylR3FEIIIYQQ4mE9e/bkk08+UUeifv/9d0JDQ4mIiMi3/59//snatWvZuXMnTZs2BaBcuXJ5+k2bNg0/Pz8Axo4dS+vWrUlLS8PExCRP3/nz5/PJJ5/QoUMHAL755ht++eUXnT6dOnXSeb906VIcHBw4e/Ysnp6eavuoUaNo3bo1AJMnT6ZKlSpcvHiRSpUqFfCJiNeFJGlCCCGEEKJIy9YqHL50l4SUNBwsTVCUnHZ7e3tat27N8uXLURSF1q1bP3EP3ujoaPT19dUE7HGqVaum/tnJyQmAhIQEnbVuAElJSdy8eZNatWqpbfr6+tSoUUNnlCw2Npbx48dz6NAhbt++rR6Li4vTSdIed19J0t48kqQJIYQQQogiK+x0PJO3niU+KU1tSz0dT3lrDQB9+vRhyJAhAHz77bdPvJapqWmB7mloaKj+WaPJuc+jUxMfltsnl5KbRf6/Nm3a4OLiwpIlS3B2dkar1eLp6UlGRsZ/uq94fcmaNCGEEEIIUSSFnY5n4MpjOgkawIOMbKL/TiLsdDwtWrQgIyODjIwMAgICnni9qlWrotVq2bt373OJz9ramhIlSnD48GG1LTs7m+PHj6vv79y5Q0xMDJ999hlNmjTBw8ODe/fuPZf7i9eXjKQJIYQQQogiJ1urMHnrWZQn9Jm89SzNKjsSExMD5Ew1fBJXV1d69+5Nnz59mDdvHtWrV+fKlSskJCTw3nvv/as4P/roI6ZPn467uzuVKlVi/vz53Lt3Tx0Js7Gxwc7OjsWLF+Pk5ERcXBxjx479V/cSbw4ZSRNCCCGEEEXO4Ut384ygPSo+KY3Dl+5iZWWFlZVVga67YMECPDw86NixI5UqVaJfv36sWrVKp6w+5JTaL1GihE45//yMGTOGrl270qtXL+rUqYOFhQUBAQFqkRE9PT1CQ0OJiorC09OT4cOH89VXX+lco379+gWKXbw5NMqjk2ZfY8nJyVhbW5OUlFTg/yELIYQQQoiXb3P0NYaFRud7LPv+PZIOruFB7BH45x6OJRzw8vIiKCiIJk2aPPXaISEhBAUFkZiYCMD9+/dJT09XN6mOiYmhcuXKbNy4kdq1a2NjY4OxsXGB4tZqtXh4ePDee+8xderUAp1z69YtzM3NMTMzK1B/8XwU5dxApjsKIYQQQogix8Eyb7l7gKykm9xYORo9YwuK+b/PN0Pa4+lkwW+//cbgwYM5d+7cM9/LwsJCZ6+03I2m27Vrl6coyKOuXLnCjh078PPzIz09nW+++YZLly7RrVs3MjMzdYqBPE7x4sWfOWbxepPpjkIIIYQQosipVdYWJ2sTHk2R7uz4DtDg1Otr3N9qyjuNa1GlShVGjBjBoUOHAPj666+pWrUq5ubmuLi4MGjQIO7fv//Ye02aNEmd7jhp0iTatGkD5ExVfLjK4pQpUyhVqhTGxsZ4eXkRFhaGnp4eISEh+Pr6Uq1aNSIiIqhcuTLe3t6sXLmSwMBA2rdvz6xZs3BycsLOzo7BgweTmZmp3t/V1ZU5c+ao7581fvH6kSRNCCGEEEIUOfp6Gia2qQygJmrZD1JI++sYlj6t0TMyYWKbyujr/S+NK1asGJCTXM2bN4/Tp0+zfPly9uzZw8cff1yg+44aNYply5YBEB8fT3x8PABz584lODiYWbNmcfLkSQICAmjbti1paWn8/vvvnDx5EoCMjAwmTJhATEyMWm0yPDyc2NhYwsPDWb58OSEhIYSEhDw2hv8Sv3g9SJImhBBCCCGKpBaeTnzbzQcbcyMAsu5dBxQcXMqxoIcPLTyd8j0vKCiIRo0aUbZsWRo3bszUqVNZu3Ztge5pYWGhJnuOjo44OjoCMGvWLMaMGUOXLl2oWLEiM2fOxMvLS2cELPfeHTt2pGzZsjg7OwM5FR6/+eYbKlWqxNtvv03r1q3ZvXv3Y2P4L/GL14OsSRNCCCGEEEVS2Ol4pm4/y91U3U2f3/N1eWyCBjkjV1988QVnz54lOTmZrKws0tLSSE1Nxdzc/JnjSE5O5vr169SrV0+nvV69epw4cUKnzdfXN8/5VapU0dkewMnJiVOnTr20+MWrR0bShBBCCCFEkZPfRtYGNs6Ahm827iXsdHy+5125coVWrVrh6enJ+vXriYqK4ttvvwXQWQf2bzxaRERRlDxt+SVRjxYP0Wg0aLXafO/xIuMXrw5J0oQQQgghRJHyuI2s9U0tMSnrQ8qx7UxYH0W2VrdHYmIiR48eJSsri+DgYGrXrk2FChW4fv36f4rHysoKZ2dnDhw4oNMeGRmJh4fHf7r2o15E/OLVI0maEEIIIYQoUp60kbVt84GgaImeP5iZC5Zz4cIFYmJimDdvHnXq1MHNzY2srCzmz5/PX3/9xYoVK1i4cOF/jmn06NHMnDmTNWvWcP78ecaOHUt0dDTDhg37z9d+2IuKX7xaJEkTQgghhBBFSkJK/gkagGExRxwD52JSpipzpo3H09OTZs2asXv3bhYsWICXlxdff/01M2fOxNPTk1WrVjF9+vT/HNPQoUMZOXIkI0eOpGrVqoSFhbFlyxbKly//n6/9sBcVv3h5QkJC1OIz/5ZGUZRHR5JfW0V5V3EhhBBCCJHjYOwdui459NR+q/vVpo6b3UuISDxvgYGBLF++nOnTpzN27Fi1fdOmTXTo0IGXkaIcO3aMGjVq8P3339O3b1+1XavVUr9+fUqUKMHGjRuf+bohISEEBQWRmJj4r2OTkTQhhBBCCFGkPG4j61wawMnahFplbV9mWOI5MzExYebMmdy7d69Q7u/u7g7kTGXN3Q8PIDg4mIsXL7Jo0aJnvubzKu4iSZoQQgghhChS8tvIOlfu+0c3shavnqZNm+Lo6PjU6ZyRkZE0bNgQU1NTXFxcGDp0KKmpqQDMnz+fqlWrqn03bdqERqNRK2ICBAQE8Mknnzz2+lWrVqVfv34AnDt3jgkTJrB48WLs7e2ZMmUKpUqVwtjYGC8vL8LCwtTzLl++jEajYe3atfj7+2NiYsLKlSvzXP/OnTvUqlVL3fy8ICRJE0II8cbK/QEbHR392D7PY22BEOLZtfB0YkEPHxytTXTaHa1NnriRtXh16Ovr88UXXzB//nz+/vvvfPucOnWKgIAAOnbsyMmTJ1mzZg0HDhxgyJAhAPj7+3PmzBlu374NwN69e7G3t2fv3r0AZGVlERkZiZ+f32Pj+O6779i/fz9LliwhMDCQzp070759e+bOnUtwcDCzZs3i5MmTBAQE0LZtWy5cuKBz/pgxYxg6dCgxMTEEBAToHPv7779p0KABlSpVYsOGDZiY6P73/FjKGyQpKUkBlKSkpMIORQghRD4WLFigWFhYKJmZmWpbSkqKYmBgoNSvX1+n7759+xRAOX/+/L++36VLlxRAOX78+GP7/PPPP8rNmzf/9T0ep0yZMsrs2bOf+3WFeN1kZWuVyIu3lU3H/1YiL95WsrK1hR2SeA569+6ttGvXTlEURaldu7bSp08fRVEUZePGjcrDKUrPnj2V/v3765y7f/9+RU9PT3nw4IGi1WoVe3t7Zd26dYqiKIqXl5cyffp0xcHBQVEURYmMjFQMDAyUlJSUPDE8nBv88MMPip6enuLi4qIkJiYqiqIozs7OyrRp03TOqVmzpjJo0CBFUf73M2TOnDk6fZYtW6ZYW1sr58+fV0qXLq189NFHilb7bP/dykiaEEKIIqNRo0bcv3+fo0ePqm379+/H0dGRI0eO8M8//6jtERERODs7U6FChRcak6mpKQ4ODi/0HkKIx9PX01DHzY52XiWp42YnUxxfYdlahYOxd9gcfY1bKenk1gaZOXMmy5cv5+zZs3nOiYqKIiQkBAsLC/UVEBCAVqvl0qVLaDQaGjZsSEREBImJiZw5c4YBAwaQnZ1NTEwMERER+Pj4YGFh8cTY3n//fZycnBg6dCjW1tYkJydz/fp16tWrp9OvXr16xMTE6LT5+vrmud6DBw+oX78+7du3Z968eXk2PX8aSdKEEEIUGRUrVsTZ2ZmIiAi1LSIignbt2uHm5kZkZKROe6NGjVi5ciW+vr5YWlri6OhIt27dSEhIUPvdu3eP7t27U7x4cUxNTSlfvjzLli3Tue9ff/1Fo0aNMDMzo3r16hw8eFA99uh0x0mTJuHl5cWKFStwdXXF2tqaLl26kJKSovZJSUmhe/fumJub4+TkxOzZs/H39ycoKAjImZ5z5coVhg8fjkaj0fnhvX79eqpUqYKxsTGurq4EBwfrxOrq6soXX3xBnz59sLS0pHTp0ixevPhfPW8hhHhZwk7HU3/mHrouOcSw0Gj2/nmL/RduEXY6noYNGxIQEMCnn36a5zytVsuHH35IdHS0+jpx4gQXLlzAzc0NyPk7NSIigv3791O9enWKFStGw4YN2bt3LxEREfj7+xcoRgMDAwwMDHTaHk2uFEXJ02Zubp7nWsbGxjRt2pTt27c/dirnk0iSJoQQokjx9/cnPDxcfR8eHo6/vz9+fn5qe0ZGBgcPHqRRo0ZkZGQwdepUTpw4waZNm7h06RKBgYHq+ePHj+fs2bP8+uuvxMTEsGDBAuzt7XXuOW7cOEaNGkV0dDQVKlSga9euZGVlPTbG2NhYNm3axLZt29i2bRt79+5lxowZ6vERI0bw+++/s2XLFnbu3Mn+/fs5duyYenzDhg2UKlWKKVOmEB8fr1YVi4qK4r333qNLly6cOnWKSZMmMX78eEJCQnTuHxwcjK+vL8ePH2fQoEEMHDiQc+fOPfOzFkKIlyHsdDwDVx7Ls0F5WpaWgSuPEXY6nhkzZrB161adX8YB+Pj4cObMGdzd3fO8jIyMgP+tS1u3bp2akPn5+bFr166nrkd7HCsrK5ydnTlw4IBOe2RkJB4eHk89X09PjxUrVlCjRg0aN27M9evXny2AZ5oc+YqTNWlCCFH0LV68WDE3N1cyMzOV5ORkxcDAQLl586YSGhqq1K1bV1EURdm7d68CKLGxsXnOP3z4sAKo6w/atGmjvP/++/neK3c9wffff6+2nTlzRgGUmJgYRVH+t7Yg18SJExUzMzMlOTlZbRs9erTy1ltvKYqiKMnJyYqhoaHy888/q8cTExMVMzMzZdiwYWpbfmvSunXrpjRr1kynbfTo0UrlypV1zuvRo4f6XqvVKg4ODsqCBQvy/YxCCFGYsrK1Su0vdillxmzTeZl7NlFMy9dWXMdsU2p/sUvJytYqPXv2VExMTHTWpJ04cUIxNTVVBg0apBw/flz5888/lc2bNytDhgxR++SuS9PX11e2bdumKIqiREdHK/r6+oq+vv5j/+3/aG7w6N/Ls2fPVqysrJTQ0FDl3LlzypgxYxRDQ0Plzz//VBTl8euaH/65kZmZqbzzzjtKxYoVlfj4+AI/NxlJE0IIUageXqNwMPYODf38SU1N5ciRI+zfv58KFSrg4OCAn58fR44cITU1lYiICEqXLk25cuU4fvw47dq1o0yZMlhaWqq/RY2LiwNg4MCBhIaG4uXlxccff5znt7QA1apVU//s5JRTMe7hKZOPcnV1xdLSUuec3P5//fUXmZmZ1KpVSz1ubW1NxYoVn/osYmJi8l3/cOHCBbKzs/ONV6PR4Ojo+MR4hRCisBy+dDfPCNrDFCA+KY3Dl+4yderUPJtYV6tWjb1793LhwgUaNGiAt7c348ePV/+uhpy/B3NHyxo0aKCeZ21tjbe3N1ZWVv8q9qFDhzJy5EhGjhxJ1apVCQsLY8uWLZQvX77A1zAwMGD16tVUqVKFxo0bF/jvaoOndxFCCCFejLDT8UzeelbnB7iTtQn2JZwIDw/n3r176g9eR0dHypYty++//054eDiNGzcmNTWV5s2b07x5c1auXEnx4sWJi4sjICCAjIwMAFq2bMmVK1fYvn07u3btokmTJgwePJhZs2ap9zQ0NFT/nLvWQKvVPjbuh/vnnpPbP/cfGPmtY3gaJZ+1Dvmd96T7CyFEUZKQkn+CZt96eJ5+dbzK5LuPWM2aNdmxY8cT77Nu3Tqd9xqNhjt37jxTrJcvX9Z5r6enx4QJE5gwYUK+/V1dXfP9OzowMFBn2r2BgQHr169/plhkJE0IIUSheNwahRtJaTywr8S6bb/lWfDt5+fHb7/9xqFDh2jUqBHnzp3j9u3bzJgxQ92HJr/fUhYvXpzAwEBWrlzJnDlzXmihDTc3NwwNDTl8+LDalpycnGdfHSMjI53RMYDKlSvnu/6hQoUK6Ovrv7CYhRDiRXGwLNi+YAXt96aQkTQhhBAvXbZWYfLWs+Q3tqQAJqWrcWLXQvSUbJ0F335+fgwcOJC0tDQaNWqEiYkJRkZGzJ8/nwEDBnD69GmmTp2qc70JEyZQo0YNqlSpQnp6Otu2bSvQou9/y9LSkt69ezN69GhsbW1xcHBg4sSJ6Onp6YySubq6sm/fPrp06YKxsTH29vaMHDmSmjVrMnXqVDp37szBgwf55ptv+O67715YvEII8SLVKmuLk7UJN5LS8v07X0POBuW1ytq+7NCKNBlJE0II8dI9bY2CSZlqaDPTKVmmLCVKlFDb/fz8SElJwc3NDRcXF4oXL05ISAg///wzlStXZsaMGTrTGCFnxOqTTz6hWrVqNGzYEH19fUJDQ1/YZwP4+uuvqVOnDm+//TZNmzalXr16eHh4YGLyv98UT5kyhcuXL+Pm5kbx4sWBnCpma9euJTQ0FE9PTyZMmMCUKVN0ps0IIcSrRF9Pw8Q2lYGchOxhue8ntqks+989QqMUZJL8ayI5ORlra2uSkpL+9QJCIYQQ/93m6GsMC41+ar+5Xbxo51XyxQf0gqWmplKyZEmCg4Pp27dvYYcjhBAv3ePWIE9sU5kWnk5POPPFKcq5gUx3FEII8dK97msUjh8/zrlz56hVqxZJSUlMmTIFgHbt2hVyZEIIUThaeDrRrLIjhy/dJSElDQfLnCmOMoKWP0nShBBCvHRvwhqFWbNmcf78eYyMjKhRowb79+/Ps4m2EEK8SfT1NNRxsyvsMF4JkqQJIYR46XLXKAxceQwN6CRqr8MaBW9vb6Kiogo7DCGEEK8oKRwihBCiULTwdGJBDx8crXWnNDpam7Cgh0+hrVEQQgghCpuMpAkhhCg0skZBCCGEyEuSNCGEEIVK1igIIYQQumS6oxBCCCGEEEIUIZKkCSGEEEIIIUQRIkmaEEIIIYQQQhQhkqQJIYQQQgghRBEiSZoQQgghhBBCFCGSpAkhhBBCCCFEESJJmhBCCCGEEEIUIZKkCSGEEEIIIUQRIkmaEEIIIYQQQhQhkqQJIYQQQgghRBEiSZoQQgghhBBCFCGSpAkhhBBCCCFEESJJmhBCCCGEEEIUIZKkCSGEEEIIIUQRIkmaEEIIIYQQQhQhkqQJIYQQQgghRBEiSZoQQgghhBBCFCGSpAkhhBBCCCFEESJJmhBCCCGEEEIUIZKkCSGEEEIIIUQRYlDYAbxMiqIAkJycXMiRCCGEEEIIIQpTbk6QmyMUJW9UkpaSkgKAi4tLIUcihBBCCCGEKApSUlKwtrYu7DB0aJSimDq+IFqtluvXr2NpaYlGoynscJ6r5ORkXFxcuHr1KlZWVoUdjniIfDdFl3w3RZd8N0WXfDdFl3w3RZd8N0WToiikpKTg7OyMnl7RWgX2Ro2k6enpUapUqcIO44WysrKS//EXUfLdFF3y3RRd8t0UXfLdFF3y3RRd8t0UPUVtBC1X0UoZhRBCCCGEEOINJ0maEEIIIYQQQhQhkqS9JoyNjZk4cSLGxsaFHYp4hHw3RZd8N0WXfDdFl3w3RZd8N0WXfDfiWb1RhUOEEEIIIYQQoqiTkTQhhBBCCCGEKEIkSRNCCCGEEEKIIkSSNCGEEEIIIYQoQiRJE0IIIYQQQogiRJK018zly5fp27cvZcuWxdTUFDc3NyZOnEhGRkZhhyaAadOmUbduXczMzChWrFhhh/NG++677yhbtiwmJibUqFGD/fv3F3ZIAti3bx9t2rTB2dkZjUbDpk2bCjskAUyfPp2aNWtiaWmJg4MD7du35/z584UdlgAWLFhAtWrV1E2S69Spw6+//lrYYYl8TJ8+HY1GQ1BQUGGHIl4BkqS9Zs6dO4dWq2XRokWcOXOG2bNns3DhQj799NPCDk0AGRkZvPvuuwwcOLCwQ3mjrVmzhqCgIMaNG8fx48dp0KABLVu2JC4urrBDe+OlpqZSvXp1vvnmm8IORTxk7969DB48mEOHDrFz506ysrJo3rw5qamphR3aG69UqVLMmDGDo0ePcvToURo3bky7du04c+ZMYYcmHnLkyBEWL15MtWrVCjsU8YqQEvxvgK+++ooFCxbw119/FXYo4v+FhIQQFBREYmJiYYfyRnrrrbfw8fFhwYIFapuHhwft27dn+vTphRiZeJhGo2Hjxo20b9++sEMRj7h16xYODg7s3buXhg0bFnY44hG2trZ89dVX9O3bt7BDEcD9+/fx8fHhu+++4/PPP8fLy4s5c+YUdliiiJORtDdAUlIStra2hR2GEEVCRkYGUVFRNG/eXKe9efPmREZGFlJUQrxakpKSAORnSxGTnZ1NaGgoqamp1KlTp7DDEf9v8ODBtG7dmqZNmxZ2KOIVYlDYAYgXKzY2lvnz5xMcHFzYoQhRJNy+fZvs7GxKlCih016iRAlu3LhRSFEJ8epQFIURI0ZQv359PD09CzscAZw6dYo6deqQlpaGhYUFGzdupHLlyoUdlgBCQ0M5duwYR44cKexQxCtGRtJeEZMmTUKj0TzxdfToUZ1zrl+/TosWLXj33Xf54IMPCiny19+/+W5E4dNoNDrvFUXJ0yaEyGvIkCGcPHmS1atXF3Yo4v9VrFiR6OhoDh06xMCBA+nduzdnz54t7LDeeFevXmXYsGGsXLkSExOTwg5HvGJkJO0VMWTIELp06fLEPq6uruqfr1+/TqNGjahTpw6LFy9+wdG92Z71uxGFy97eHn19/TyjZgkJCXlG14QQuj766CO2bNnCvn37KFWqVGGHI/6fkZER7u7uAPj6+nLkyBHmzp3LokWLCjmyN1tUVBQJCQnUqFFDbcvOzmbfvn188803pKeno6+vX4gRiqJMkrRXhL29Pfb29gXqe+3aNRo1akSNGjVYtmwZenoyYPoiPct3IwqfkZERNWrUYOfOnXTo0EFt37lzJ+3atSvEyIQouhRF4aOPPmLjxo1ERERQtmzZwg5JPIGiKKSnpxd2GG+8Jk2acOrUKZ22999/n0qVKjFmzBhJ0MQTSZL2mrl+/Tr+/v6ULl2aWbNmcevWLfWYo6NjIUYmAOLi4rh79y5xcXFkZ2cTHR0NgLu7OxYWFoUb3BtkxIgR9OzZE19fX3W0OS4ujgEDBhR2aG+8+/fvc/HiRfX9pUuXiI6OxtbWltKlSxdiZG+2wYMH89NPP7F582YsLS3VkWhra2tMTU0LObo326effkrLli1xcXEhJSWF0NBQIiIiCAsLK+zQ3niWlpZ51m2am5tjZ2cn6znFU0mS9prZsWMHFy9e5OLFi3mmoshuC4VvwoQJLF++XH3v7e0NQHh4OP7+/oUU1Zunc+fO3LlzhylTphAfH4+npye//PILZcqUKezQ3nhHjx6lUaNG6vsRI0YA0Lt3b0JCQgopKpG7XcWjf08tW7aMwMDAlx+QUN28eZOePXsSHx+PtbU11apVIywsjGbNmhV2aEKI/0D2SRNCCCGEEEKIIkQWKwkhhBBCCCFEESJJmhBCCCGEEEIUIZKkCSGEEEIIIUQRIkmaEEIIIYQQQhQhkqQJIYQQQgghRBEiSZoQQgghhBBCFCGSpAkhhBBCCCFEESJJmhBCCCGEEEIUIZKkCSGEeGb+/v4EBQUVdhhCCCHEa0mSNCGEEPkKDAxEo9HkeV28eJENGzYwderU/3R9jUbDpk2bnk+wb7DLly+j0WiIjo4u7FCEEEI8JwaFHYAQQoiiq0WLFixbtkynrXjx4ujr6z/xvIyMDIyMjF5kaEIIIcRrS0bShBBCPJaxsTGOjo46L319/TzTHV1dXfn8888JDAzE2tqafv36kZGRwZAhQ3BycsLExARXV1emT5+u9gfo0KEDGo1GfZ+fv//+my5dumBra4u5uTm+vr788ccf6vEFCxbg5uaGkZERFStWZMWKFTrnazQaFi1axNtvv42ZmRkeHh4cPHiQixcv4u/vj7m5OXXq1CE2NlY9Z9KkSXh5ebFo0SJcXFwwMzPj3XffJTExUe2j1WqZMmUKpUqVwtjYGC8vL8LCwtTjuSNcGzZsoFGjRpiZmVG9enUOHjyoE19kZCQNGzbE1NQUFxcXhg4dSmpqqs6z/eKLL+jTpw+WlpaULl2axYsXq8fLli0LgLe3NxqNBn9//8c+SyGEEK8GSdKEEEI8F1999RWenp5ERUUxfvx45s2bx5YtW1i7di3nz59n5cqVajJ25MgRAJYtW0Z8fLz6/lH379/Hz8+P69evs2XLFk6cOMHHH3+MVqsFYOPGjQwbNoyRI0dy+vRpPvzwQ95//33Cw8N1rjN16lR69epFdHQ0lSpVolu3bnz44Yd88sknHD16FIAhQ4bonHPx4kXWrl3L1q1bCQsLIzo6msGDB6vH586dS3BwMLNmzeLkyZMEBATQtm1bLly4oHOdcePGMWrUKKKjo6lQoQJdu3YlKysLgFOnThEQEEDHjh05efIka9as4cCBA3liCQ4OxtfXl+PHjzNo0CAGDhzIuXPnADh8+DAAu3btIj4+ng0bNhTsCxNCCFF0KUIIIUQ+evfurejr6yvm5ubq65133lEURVH8/PyUYcOGqX3LlCmjtG/fXuf8jz76SGncuLGi1WrzvT6gbNy48YkxLFq0SLG0tFTu3LmT7/G6desq/fr102l79913lVatWunc57PPPlPfHzx4UAGUpUuXqm2rV69WTExM1PcTJ05U9PX1latXr6ptv/76q6Knp6fEx8criqIozs7OyrRp03TuXbNmTWXQoEGKoijKpUuXFED5/vvv1eNnzpxRACUmJkZRFEXp2bOn0r9/f51r7N+/X9HT01MePHigKErOs+3Ro4d6XKvVKg4ODsqCBQt07nP8+PF8n5EQQohXj4ykCSGEeKxGjRoRHR2tvubNm/fYvr6+vjrvAwMDiY6OpmLFigwdOpQdO3Y88/2jo6Px9vbG1tY23+MxMTHUq1dPp61evXrExMTotFWrVk39c4kSJQCoWrWqTltaWhrJyclqW+nSpSlVqpT6vk6dOmi1Ws6fP09ycjLXr19/5ns7OTkBkJCQAEBUVBQhISFYWFior4CAALRaLZcuXcr3GhqNBkdHR/UaQgghXj9SOEQIIcRjmZub4+7uXuC+D/Px8eHSpUv8+uuv7Nq1i/fee4+mTZuybt26At/f1NT0qX00Go3Oe0VR8rQZGhrm6Z9fW+40yifd5+Fr/9t7595Hq9Xy4YcfMnTo0Dz3K126dL7XyL3Ok2IVQgjxapORNCGEEC+MlZUVnTt3ZsmSJaxZs4b169dz9+5dICfxyM7OfuL51apVIzo6Wj3nUR4eHhw4cECnLTIyEg8Pj/8ce1xcHNevX1ffHzx4ED09PSpUqICVlRXOzs7/+d4+Pj6cOXMGd3f3PK+CVsfM7fe0ZymEEOLVISNpQgghXojZs2fj5OSEl5cXenp6/Pzzzzg6OlKsWDEgp2rh7t27qVevHsbGxtjY2OS5RteuXfniiy9o374906dPx8nJiePHj+Ps7EydOnUYPXo07733Hj4+PjRp0oStW7eyYcMGdu3a9Z/jNzExoXfv3syaNYvk5GSGDh3Ke++9h6OjIwCjR49m4sSJuLm54eXlxbJly4iOjmbVqlUFvseYMWOoXbs2gwcPpl+/fpibmxMTE8POnTuZP39+ga7h4OCAqakpYWFhlCpVChMTE6ytrf/VZxZCCFE0yEiaEEKIF8LCwoKZM2fi6+tLzZo1uXz5Mr/88gt6ejk/eoKDg9m5cycuLi54e3vnew0jIyN27NiBg4MDrVq1omrVqsyYMUPdp619+/bMnTuXr776iipVqrBo0SKWLVv2XMrQu7u707FjR1q1akXz5s3x9PTku+++U48PHTqUkSNHMnLkSKpWrUpYWBhbtmyhfPnyBb5HtWrV2Lt3LxcuXKBBgwZ4e3szfvx4de1aQRgYGDBv3jwWLVqEs7Mz7dq1e6bPKYQQoujRKIqiFHYQQgghRFEyadIkNm3aRHR0dGGHIoQQ4g0kI2lCCCGEEEIIUYRIkiaEEEIIIYQQRYhMdxRCCCGEEEKIIkRG0oQQQgghhBCiCJEkTQghhBBCCCGKEEnShBBCCCGEEKIIkSRNCCGEEEIIIYoQSdKEEEIIIYQQogiRJE0IIYQQQgghihBJ0oQQQgghhBCiCJEkTQghhBBCCCGKkP8D9Die0H23kS8AAAAASUVORK5CYII=",
      "text/plain": [
       "<Figure size 1000x800 with 1 Axes>"
      ]
     },
     "metadata": {},
     "output_type": "display_data"
    }
   ],
   "source": [
    "x = state_pca_x[:, 0]\n",
    "y = state_pca_x[:, 1]\n",
    "state = state_summary_index\n",
    "pc_var = 100 * state_pca.explained_variance_ratio_.cumsum()[1]\n",
    "plt.subplots(figsize=(10,8))\n",
    "plt.scatter(x=x, y=y)\n",
    "plt.xlabel('First component')\n",
    "plt.ylabel('Second component')\n",
    "plt.title(f'Ski states summary PCA, {pc_var:.1f}% variance explained')\n",
    "for s, x, y in zip(state, x, y):\n",
    "    plt.annotate(s, (x, y))"
   ]
  },
  {
   "cell_type": "markdown",
   "metadata": {},
   "source": [
    "#### 3.5.3.3 Average ticket price by state<a id='3.5.3.3_Average_ticket_price_by_state'></a>"
   ]
  },
  {
   "cell_type": "markdown",
   "metadata": {},
   "source": [
    "Here, all point markers for the states are the same size and colour. You've visualized relationships between the states based on features such as the total skiable terrain area, but your ultimate interest lies in ticket prices. You know ticket prices for resorts in each state, so it might be interesting to see if there's any pattern there."
   ]
  },
  {
   "cell_type": "code",
   "execution_count": 66,
   "metadata": {},
   "outputs": [
    {
     "data": {
      "text/plain": [
       "state\n",
       "Alaska         57.333333\n",
       "Arizona        83.500000\n",
       "California     81.416667\n",
       "Colorado       90.714286\n",
       "Connecticut    56.800000\n",
       "Name: AdultWeekend, dtype: float64"
      ]
     },
     "execution_count": 66,
     "metadata": {},
     "output_type": "execute_result"
    }
   ],
   "source": [
    "#Code task 8#\n",
    "#Calculate the average 'AdultWeekend' ticket price by state\n",
    "state_avg_price = ski_data.groupby('state')['AdultWeekend'].mean()\n",
    "state_avg_price.head()"
   ]
  },
  {
   "cell_type": "code",
   "execution_count": 68,
   "metadata": {},
   "outputs": [
    {
     "data": {
      "image/png": "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",
      "text/plain": [
       "<Figure size 640x480 with 1 Axes>"
      ]
     },
     "metadata": {},
     "output_type": "display_data"
    }
   ],
   "source": [
    "state_avg_price.hist(bins=30)\n",
    "plt.title('Distribution of state averaged prices')\n",
    "plt.xlabel('Mean state adult weekend ticket price')\n",
    "plt.ylabel('count');"
   ]
  },
  {
   "cell_type": "markdown",
   "metadata": {},
   "source": [
    "#### 3.5.3.4 Adding average ticket price to scatter plot<a id='3.5.3.4_Adding_average_ticket_price_to_scatter_plot'></a>"
   ]
  },
  {
   "cell_type": "markdown",
   "metadata": {},
   "source": [
    "At this point you have several objects floating around. You have just calculated average ticket price by state from our ski resort data, but you've been looking at principle components generated from other state summary data. We extracted indexes and column names from a dataframe and the first two principle components from an array. It's becoming a bit hard to keep track of them all. You'll create a new DataFrame to do this."
   ]
  },
  {
   "cell_type": "code",
   "execution_count": 70,
   "metadata": {},
   "outputs": [
    {
     "data": {
      "text/html": [
       "<div>\n",
       "<style scoped>\n",
       "    .dataframe tbody tr th:only-of-type {\n",
       "        vertical-align: middle;\n",
       "    }\n",
       "\n",
       "    .dataframe tbody tr th {\n",
       "        vertical-align: top;\n",
       "    }\n",
       "\n",
       "    .dataframe thead th {\n",
       "        text-align: right;\n",
       "    }\n",
       "</style>\n",
       "<table border=\"1\" class=\"dataframe\">\n",
       "  <thead>\n",
       "    <tr style=\"text-align: right;\">\n",
       "      <th></th>\n",
       "      <th>PC1</th>\n",
       "      <th>PC2</th>\n",
       "    </tr>\n",
       "    <tr>\n",
       "      <th>state</th>\n",
       "      <th></th>\n",
       "      <th></th>\n",
       "    </tr>\n",
       "  </thead>\n",
       "  <tbody>\n",
       "    <tr>\n",
       "      <th>Alaska</th>\n",
       "      <td>-1.336533</td>\n",
       "      <td>-0.182208</td>\n",
       "    </tr>\n",
       "    <tr>\n",
       "      <th>Arizona</th>\n",
       "      <td>-1.839049</td>\n",
       "      <td>-0.387959</td>\n",
       "    </tr>\n",
       "    <tr>\n",
       "      <th>California</th>\n",
       "      <td>3.537857</td>\n",
       "      <td>-1.282509</td>\n",
       "    </tr>\n",
       "    <tr>\n",
       "      <th>Colorado</th>\n",
       "      <td>4.402210</td>\n",
       "      <td>-0.898855</td>\n",
       "    </tr>\n",
       "    <tr>\n",
       "      <th>Connecticut</th>\n",
       "      <td>-0.988027</td>\n",
       "      <td>1.020218</td>\n",
       "    </tr>\n",
       "  </tbody>\n",
       "</table>\n",
       "</div>"
      ],
      "text/plain": [
       "                  PC1       PC2\n",
       "state                          \n",
       "Alaska      -1.336533 -0.182208\n",
       "Arizona     -1.839049 -0.387959\n",
       "California   3.537857 -1.282509\n",
       "Colorado     4.402210 -0.898855\n",
       "Connecticut -0.988027  1.020218"
      ]
     },
     "execution_count": 70,
     "metadata": {},
     "output_type": "execute_result"
    }
   ],
   "source": [
    "#Code task 9#\n",
    "#Create a dataframe containing the values of the first two PCA components\n",
    "#Remember the first component was given by state_pca_x[:, 0],\n",
    "#and the second by state_pca_x[:, 1]\n",
    "#Call these 'PC1' and 'PC2', respectively and set the dataframe index to `state_summary_index`\n",
    "pca_df = pd.DataFrame({'PC1': state_pca_x[:, 0], 'PC2': state_pca_x[:, 1]}, index=state_summary_index)\n",
    "pca_df.head()"
   ]
  },
  {
   "cell_type": "markdown",
   "metadata": {},
   "source": [
    "That worked, and you have state as an index."
   ]
  },
  {
   "cell_type": "code",
   "execution_count": 72,
   "metadata": {},
   "outputs": [
    {
     "data": {
      "text/plain": [
       "state\n",
       "Alaska         57.333333\n",
       "Arizona        83.500000\n",
       "California     81.416667\n",
       "Colorado       90.714286\n",
       "Connecticut    56.800000\n",
       "Name: AdultWeekend, dtype: float64"
      ]
     },
     "execution_count": 72,
     "metadata": {},
     "output_type": "execute_result"
    }
   ],
   "source": [
    "# our average state prices also have state as an index\n",
    "state_avg_price.head()"
   ]
  },
  {
   "cell_type": "code",
   "execution_count": 35,
   "metadata": {},
   "outputs": [
    {
     "data": {
      "text/html": [
       "<div>\n",
       "<style scoped>\n",
       "    .dataframe tbody tr th:only-of-type {\n",
       "        vertical-align: middle;\n",
       "    }\n",
       "\n",
       "    .dataframe tbody tr th {\n",
       "        vertical-align: top;\n",
       "    }\n",
       "\n",
       "    .dataframe thead th {\n",
       "        text-align: right;\n",
       "    }\n",
       "</style>\n",
       "<table border=\"1\" class=\"dataframe\">\n",
       "  <thead>\n",
       "    <tr style=\"text-align: right;\">\n",
       "      <th></th>\n",
       "      <th>AdultWeekend</th>\n",
       "    </tr>\n",
       "    <tr>\n",
       "      <th>state</th>\n",
       "      <th></th>\n",
       "    </tr>\n",
       "  </thead>\n",
       "  <tbody>\n",
       "    <tr>\n",
       "      <th>Alaska</th>\n",
       "      <td>57.333333</td>\n",
       "    </tr>\n",
       "    <tr>\n",
       "      <th>Arizona</th>\n",
       "      <td>83.500000</td>\n",
       "    </tr>\n",
       "    <tr>\n",
       "      <th>California</th>\n",
       "      <td>81.416667</td>\n",
       "    </tr>\n",
       "    <tr>\n",
       "      <th>Colorado</th>\n",
       "      <td>90.714286</td>\n",
       "    </tr>\n",
       "    <tr>\n",
       "      <th>Connecticut</th>\n",
       "      <td>56.800000</td>\n",
       "    </tr>\n",
       "  </tbody>\n",
       "</table>\n",
       "</div>"
      ],
      "text/plain": [
       "             AdultWeekend\n",
       "state                    \n",
       "Alaska          57.333333\n",
       "Arizona         83.500000\n",
       "California      81.416667\n",
       "Colorado        90.714286\n",
       "Connecticut     56.800000"
      ]
     },
     "execution_count": 35,
     "metadata": {},
     "output_type": "execute_result"
    }
   ],
   "source": [
    "# we can also cast it to a dataframe using Series' to_frame() method:\n",
    "state_avg_price.to_frame().head()"
   ]
  },
  {
   "cell_type": "markdown",
   "metadata": {},
   "source": [
    "Now you can concatenate both parts on axis 1 and using the indexes."
   ]
  },
  {
   "cell_type": "code",
   "execution_count": 74,
   "metadata": {},
   "outputs": [
    {
     "data": {
      "text/html": [
       "<div>\n",
       "<style scoped>\n",
       "    .dataframe tbody tr th:only-of-type {\n",
       "        vertical-align: middle;\n",
       "    }\n",
       "\n",
       "    .dataframe tbody tr th {\n",
       "        vertical-align: top;\n",
       "    }\n",
       "\n",
       "    .dataframe thead th {\n",
       "        text-align: right;\n",
       "    }\n",
       "</style>\n",
       "<table border=\"1\" class=\"dataframe\">\n",
       "  <thead>\n",
       "    <tr style=\"text-align: right;\">\n",
       "      <th></th>\n",
       "      <th>PC1</th>\n",
       "      <th>PC2</th>\n",
       "      <th>AdultWeekend</th>\n",
       "    </tr>\n",
       "    <tr>\n",
       "      <th>state</th>\n",
       "      <th></th>\n",
       "      <th></th>\n",
       "      <th></th>\n",
       "    </tr>\n",
       "  </thead>\n",
       "  <tbody>\n",
       "    <tr>\n",
       "      <th>Alaska</th>\n",
       "      <td>-1.336533</td>\n",
       "      <td>-0.182208</td>\n",
       "      <td>57.333333</td>\n",
       "    </tr>\n",
       "    <tr>\n",
       "      <th>Arizona</th>\n",
       "      <td>-1.839049</td>\n",
       "      <td>-0.387959</td>\n",
       "      <td>83.500000</td>\n",
       "    </tr>\n",
       "    <tr>\n",
       "      <th>California</th>\n",
       "      <td>3.537857</td>\n",
       "      <td>-1.282509</td>\n",
       "      <td>81.416667</td>\n",
       "    </tr>\n",
       "    <tr>\n",
       "      <th>Colorado</th>\n",
       "      <td>4.402210</td>\n",
       "      <td>-0.898855</td>\n",
       "      <td>90.714286</td>\n",
       "    </tr>\n",
       "    <tr>\n",
       "      <th>Connecticut</th>\n",
       "      <td>-0.988027</td>\n",
       "      <td>1.020218</td>\n",
       "      <td>56.800000</td>\n",
       "    </tr>\n",
       "  </tbody>\n",
       "</table>\n",
       "</div>"
      ],
      "text/plain": [
       "                  PC1       PC2  AdultWeekend\n",
       "state                                        \n",
       "Alaska      -1.336533 -0.182208     57.333333\n",
       "Arizona     -1.839049 -0.387959     83.500000\n",
       "California   3.537857 -1.282509     81.416667\n",
       "Colorado     4.402210 -0.898855     90.714286\n",
       "Connecticut -0.988027  1.020218     56.800000"
      ]
     },
     "execution_count": 74,
     "metadata": {},
     "output_type": "execute_result"
    }
   ],
   "source": [
    "#Code task 10#\n",
    "#Use pd.concat to concatenate `pca_df` and `state_avg_price` along axis 1\n",
    "# remember, pd.concat will align on index\n",
    "pca_df = pd.concat([pca_df, state_avg_price], axis=1)\n",
    "pca_df.head()"
   ]
  },
  {
   "cell_type": "markdown",
   "metadata": {},
   "source": [
    "You saw some range in average ticket price histogram above, but it may be hard to pick out differences if you're thinking of using the value for point size. You'll add another column where you seperate these prices into quartiles; that might show something."
   ]
  },
  {
   "cell_type": "code",
   "execution_count": 76,
   "metadata": {},
   "outputs": [
    {
     "data": {
      "text/html": [
       "<div>\n",
       "<style scoped>\n",
       "    .dataframe tbody tr th:only-of-type {\n",
       "        vertical-align: middle;\n",
       "    }\n",
       "\n",
       "    .dataframe tbody tr th {\n",
       "        vertical-align: top;\n",
       "    }\n",
       "\n",
       "    .dataframe thead th {\n",
       "        text-align: right;\n",
       "    }\n",
       "</style>\n",
       "<table border=\"1\" class=\"dataframe\">\n",
       "  <thead>\n",
       "    <tr style=\"text-align: right;\">\n",
       "      <th></th>\n",
       "      <th>PC1</th>\n",
       "      <th>PC2</th>\n",
       "      <th>AdultWeekend</th>\n",
       "      <th>Quartile</th>\n",
       "    </tr>\n",
       "    <tr>\n",
       "      <th>state</th>\n",
       "      <th></th>\n",
       "      <th></th>\n",
       "      <th></th>\n",
       "      <th></th>\n",
       "    </tr>\n",
       "  </thead>\n",
       "  <tbody>\n",
       "    <tr>\n",
       "      <th>Alaska</th>\n",
       "      <td>-1.336533</td>\n",
       "      <td>-0.182208</td>\n",
       "      <td>57.333333</td>\n",
       "      <td>(53.1, 60.4]</td>\n",
       "    </tr>\n",
       "    <tr>\n",
       "      <th>Arizona</th>\n",
       "      <td>-1.839049</td>\n",
       "      <td>-0.387959</td>\n",
       "      <td>83.500000</td>\n",
       "      <td>(78.4, 93.0]</td>\n",
       "    </tr>\n",
       "    <tr>\n",
       "      <th>California</th>\n",
       "      <td>3.537857</td>\n",
       "      <td>-1.282509</td>\n",
       "      <td>81.416667</td>\n",
       "      <td>(78.4, 93.0]</td>\n",
       "    </tr>\n",
       "    <tr>\n",
       "      <th>Colorado</th>\n",
       "      <td>4.402210</td>\n",
       "      <td>-0.898855</td>\n",
       "      <td>90.714286</td>\n",
       "      <td>(78.4, 93.0]</td>\n",
       "    </tr>\n",
       "    <tr>\n",
       "      <th>Connecticut</th>\n",
       "      <td>-0.988027</td>\n",
       "      <td>1.020218</td>\n",
       "      <td>56.800000</td>\n",
       "      <td>(53.1, 60.4]</td>\n",
       "    </tr>\n",
       "  </tbody>\n",
       "</table>\n",
       "</div>"
      ],
      "text/plain": [
       "                  PC1       PC2  AdultWeekend      Quartile\n",
       "state                                                      \n",
       "Alaska      -1.336533 -0.182208     57.333333  (53.1, 60.4]\n",
       "Arizona     -1.839049 -0.387959     83.500000  (78.4, 93.0]\n",
       "California   3.537857 -1.282509     81.416667  (78.4, 93.0]\n",
       "Colorado     4.402210 -0.898855     90.714286  (78.4, 93.0]\n",
       "Connecticut -0.988027  1.020218     56.800000  (53.1, 60.4]"
      ]
     },
     "execution_count": 76,
     "metadata": {},
     "output_type": "execute_result"
    }
   ],
   "source": [
    "pca_df['Quartile'] = pd.qcut(pca_df.AdultWeekend, q=4, precision=1)\n",
    "pca_df.head()"
   ]
  },
  {
   "cell_type": "code",
   "execution_count": 80,
   "metadata": {},
   "outputs": [
    {
     "data": {
      "text/plain": [
       "PC1              float64\n",
       "PC2              float64\n",
       "AdultWeekend     float64\n",
       "Quartile        category\n",
       "dtype: object"
      ]
     },
     "execution_count": 80,
     "metadata": {},
     "output_type": "execute_result"
    }
   ],
   "source": [
    "# Note that Quartile is a new data type: category\n",
    "# This will affect how we handle it later on\n",
    "pca_df.dtypes"
   ]
  },
  {
   "cell_type": "markdown",
   "metadata": {},
   "source": [
    "This looks great. But, let's have a healthy paranoia about it. You've just created a whole new DataFrame by combining information. Do we have any missing values? It's a narrow DataFrame, only four columns, so you'll just print out any rows that have any null values, expecting an empty DataFrame."
   ]
  },
  {
   "cell_type": "code",
   "execution_count": 82,
   "metadata": {},
   "outputs": [
    {
     "data": {
      "text/html": [
       "<div>\n",
       "<style scoped>\n",
       "    .dataframe tbody tr th:only-of-type {\n",
       "        vertical-align: middle;\n",
       "    }\n",
       "\n",
       "    .dataframe tbody tr th {\n",
       "        vertical-align: top;\n",
       "    }\n",
       "\n",
       "    .dataframe thead th {\n",
       "        text-align: right;\n",
       "    }\n",
       "</style>\n",
       "<table border=\"1\" class=\"dataframe\">\n",
       "  <thead>\n",
       "    <tr style=\"text-align: right;\">\n",
       "      <th></th>\n",
       "      <th>PC1</th>\n",
       "      <th>PC2</th>\n",
       "      <th>AdultWeekend</th>\n",
       "      <th>Quartile</th>\n",
       "    </tr>\n",
       "    <tr>\n",
       "      <th>state</th>\n",
       "      <th></th>\n",
       "      <th></th>\n",
       "      <th></th>\n",
       "      <th></th>\n",
       "    </tr>\n",
       "  </thead>\n",
       "  <tbody>\n",
       "    <tr>\n",
       "      <th>Rhode Island</th>\n",
       "      <td>-1.843646</td>\n",
       "      <td>0.761339</td>\n",
       "      <td>NaN</td>\n",
       "      <td>NaN</td>\n",
       "    </tr>\n",
       "  </tbody>\n",
       "</table>\n",
       "</div>"
      ],
      "text/plain": [
       "                   PC1       PC2  AdultWeekend Quartile\n",
       "state                                                  \n",
       "Rhode Island -1.843646  0.761339           NaN      NaN"
      ]
     },
     "execution_count": 82,
     "metadata": {},
     "output_type": "execute_result"
    }
   ],
   "source": [
    "pca_df[pca_df.isnull().any(axis=1)]"
   ]
  },
  {
   "cell_type": "markdown",
   "metadata": {},
   "source": [
    "Ah, Rhode Island. How has this happened? Recall you created the original ski resort state summary dataset in the previous step before removing resorts with missing prices. This made sense because you wanted to capture all the other available information. However, Rhode Island only had one resort and its price was missing. You have two choices here. If you're interested in looking for any pattern with price, drop this row. But you are also generally interested in any clusters or trends, then you'd like to see Rhode Island even if the ticket price is unknown. So, replace these missing values to make it easier to handle/display them."
   ]
  },
  {
   "cell_type": "markdown",
   "metadata": {},
   "source": [
    "Because `Quartile` is a category type, there's an extra step here. Add the category (the string 'NA') that you're going to use as a replacement."
   ]
  },
  {
   "cell_type": "code",
   "execution_count": 84,
   "metadata": {},
   "outputs": [
    {
     "name": "stderr",
     "output_type": "stream",
     "text": [
      "/var/folders/ns/ldg2lqpn3gv6lxm55vph6x540000gn/T/ipykernel_1692/2495745839.py:1: FutureWarning: A value is trying to be set on a copy of a DataFrame or Series through chained assignment using an inplace method.\n",
      "The behavior will change in pandas 3.0. This inplace method will never work because the intermediate object on which we are setting values always behaves as a copy.\n",
      "\n",
      "For example, when doing 'df[col].method(value, inplace=True)', try using 'df.method({col: value}, inplace=True)' or df[col] = df[col].method(value) instead, to perform the operation inplace on the original object.\n",
      "\n",
      "\n",
      "  pca_df['AdultWeekend'].fillna(pca_df.AdultWeekend.mean(), inplace=True)\n",
      "/var/folders/ns/ldg2lqpn3gv6lxm55vph6x540000gn/T/ipykernel_1692/2495745839.py:3: FutureWarning: A value is trying to be set on a copy of a DataFrame or Series through chained assignment using an inplace method.\n",
      "The behavior will change in pandas 3.0. This inplace method will never work because the intermediate object on which we are setting values always behaves as a copy.\n",
      "\n",
      "For example, when doing 'df[col].method(value, inplace=True)', try using 'df.method({col: value}, inplace=True)' or df[col] = df[col].method(value) instead, to perform the operation inplace on the original object.\n",
      "\n",
      "\n",
      "  pca_df['Quartile'].fillna('NA', inplace=True)\n"
     ]
    },
    {
     "data": {
      "text/plain": [
       "PC1             -1.843646\n",
       "PC2              0.761339\n",
       "AdultWeekend    64.124388\n",
       "Quartile               NA\n",
       "Name: Rhode Island, dtype: object"
      ]
     },
     "execution_count": 84,
     "metadata": {},
     "output_type": "execute_result"
    }
   ],
   "source": [
    "pca_df['AdultWeekend'].fillna(pca_df.AdultWeekend.mean(), inplace=True)\n",
    "pca_df['Quartile'] = pca_df['Quartile'].cat.add_categories('NA')\n",
    "pca_df['Quartile'].fillna('NA', inplace=True)\n",
    "pca_df.loc['Rhode Island']"
   ]
  },
  {
   "cell_type": "markdown",
   "metadata": {},
   "source": [
    "Note, in the above Quartile has the string value 'NA' that you inserted. This is different to `numpy`'s NaN type.\n",
    "\n",
    "You now have enough information to recreate the scatterplot, now adding marker size for ticket price and colour for the discrete quartile."
   ]
  },
  {
   "cell_type": "markdown",
   "metadata": {},
   "source": [
    "Notice in the code below how you're iterating over each quartile and plotting the points in the same quartile group as one. This gives a list of quartiles for an informative legend with points coloured by quartile and sized by ticket price (higher prices are represented by larger point markers)."
   ]
  },
  {
   "cell_type": "code",
   "execution_count": 86,
   "metadata": {},
   "outputs": [
    {
     "data": {
      "image/png": "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",
      "text/plain": [
       "<Figure size 1000x800 with 1 Axes>"
      ]
     },
     "metadata": {},
     "output_type": "display_data"
    }
   ],
   "source": [
    "x = pca_df.PC1\n",
    "y = pca_df.PC2\n",
    "price = pca_df.AdultWeekend\n",
    "quartiles = pca_df.Quartile\n",
    "state = pca_df.index\n",
    "pc_var = 100 * state_pca.explained_variance_ratio_.cumsum()[1]\n",
    "fig, ax = plt.subplots(figsize=(10,8))\n",
    "for q in quartiles.cat.categories:\n",
    "    im = quartiles == q\n",
    "    ax.scatter(x=x[im], y=y[im], s=price[im], label=q)\n",
    "ax.set_xlabel('First component')\n",
    "ax.set_ylabel('Second component')\n",
    "plt.legend()\n",
    "ax.set_title(f'Ski states summary PCA, {pc_var:.1f}% variance explained')\n",
    "for s, x, y in zip(state, x, y):\n",
    "    plt.annotate(s, (x, y))"
   ]
  },
  {
   "cell_type": "markdown",
   "metadata": {},
   "source": [
    "Now, you see the same distribution of states as before, but with additional information about the average price. There isn't an obvious pattern. The red points representing the upper quartile of price can be seen to the left, the right, and up top. There's also a spread of the other quartiles as well. In this representation of the ski summaries for each state, which accounts for some 77% of the variance, you simply do not seeing a pattern with price."
   ]
  },
  {
   "cell_type": "markdown",
   "metadata": {},
   "source": [
    "The above scatterplot was created using matplotlib. This is powerful, but took quite a bit of effort to set up. You have to iterate over the categories, plotting each separately, to get a colour legend. You can also tell that the points in the legend have different sizes as well as colours. As it happens, the size and the colour will be a 1:1 mapping here, so it happily works for us here. If we were using size and colour to display fundamentally different aesthetics, you'd have a lot more work to do. So matplotlib is powerful, but not ideally suited to when we want to visually explore multiple features as here (and intelligent use of colour, point size, and even shape can be incredibly useful for EDA).\n",
    "\n",
    "Fortunately, there's another option: seaborn. You saw seaborn in action in the previous notebook, when you wanted to distinguish between weekend and weekday ticket prices in the boxplot. After melting the dataframe to have ticket price as a single column with the ticket type represented in a new column, you asked seaborn to create separate boxes for each type."
   ]
  },
  {
   "cell_type": "code",
   "execution_count": 88,
   "metadata": {},
   "outputs": [
    {
     "data": {
      "image/png": "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",
      "text/plain": [
       "<Figure size 1200x1000 with 1 Axes>"
      ]
     },
     "metadata": {},
     "output_type": "display_data"
    }
   ],
   "source": [
    "#Code task 11#\n",
    "#Create a seaborn scatterplot by calling `sns.scatterplot`\n",
    "#Specify the dataframe pca_df as the source of the data,\n",
    "#specify 'PC1' for x and 'PC2' for y,\n",
    "#specify 'AdultWeekend' for the pointsize (scatterplot's `size` argument),\n",
    "#specify 'Quartile' for `hue`\n",
    "#specify pca_df.Quartile.cat.categories for `hue_order` - what happens with/without this?\n",
    "x = pca_df.PC1\n",
    "y = pca_df.PC2\n",
    "state = pca_df.index\n",
    "plt.subplots(figsize=(12, 10))\n",
    "# Note the argument below to make sure we get the colours in the ascending\n",
    "# order we intuitively expect!\n",
    "sns.scatterplot(x='PC1', y='PC2', size='AdultWeekend', hue='Quartile', \n",
    "                hue_order=pca_df.Quartile.cat.categories, data=pca_df)\n",
    "#and we can still annotate with the state labels\n",
    "for s, x, y in zip(state, x, y):\n",
    "    plt.annotate(s, (x, y))   \n",
    "plt.title(f'Ski states summary PCA, {pc_var:.1f}% variance explained');"
   ]
  },
  {
   "cell_type": "markdown",
   "metadata": {},
   "source": [
    "Seaborn does more! You should always care about your output. What if you want the ordering of the colours in the legend to align intuitively with the ordering of the quartiles? Add a `hue_order` argument! Seaborn has thrown in a few nice other things:\n",
    "\n",
    "* the aesthetics are separated in the legend\n",
    "* it defaults to marker sizes that provide more contrast (smaller to larger)\n",
    "* when starting with a DataFrame, you have less work to do to visualize patterns in the data\n",
    "\n",
    "The last point is important. Less work means less chance of mixing up objects and jumping to erroneous conclusions. This also emphasizes the importance of getting data into a suitable DataFrame. In the previous notebook, you `melt`ed the data to make it longer, but with fewer columns, in order to get a single column of price with a new column representing a categorical feature you'd want to use. A **key skill** is being able to wrangle data into a form most suited to the particular use case."
   ]
  },
  {
   "cell_type": "markdown",
   "metadata": {},
   "source": [
    "Having gained a good visualization of the state summary data, you can discuss and follow up on your findings."
   ]
  },
  {
   "cell_type": "markdown",
   "metadata": {},
   "source": [
    "In the first two components, there is a spread of states across the first component. It looks like Vermont and New Hampshire might be off on their own a little in the second dimension, although they're really no more extreme than New York and Colorado are in the first dimension. But if you were curious, could you get an idea what it is that pushes Vermont and New Hampshire up?\n",
    "\n",
    "The `components_` attribute of the fitted PCA object tell us how important (and in what direction) each feature contributes to each score (or coordinate on the plot). **NB we were sensible and scaled our original features (to zero mean and unit variance)**. You may not always be interested in interpreting the coefficients of the PCA transformation in this way, although it's more likely you will when using PCA for EDA as opposed to a preprocessing step as part of a machine learning pipeline. The attribute is actually a numpy ndarray, and so has been stripped of helpful index and column names. Fortunately, you thought ahead and saved these. This is how we were able to annotate the scatter plots above. It also means you can construct a DataFrame of `components_` with the feature names for context:"
   ]
  },
  {
   "cell_type": "code",
   "execution_count": 90,
   "metadata": {},
   "outputs": [
    {
     "data": {
      "text/html": [
       "<div>\n",
       "<style scoped>\n",
       "    .dataframe tbody tr th:only-of-type {\n",
       "        vertical-align: middle;\n",
       "    }\n",
       "\n",
       "    .dataframe tbody tr th {\n",
       "        vertical-align: top;\n",
       "    }\n",
       "\n",
       "    .dataframe thead th {\n",
       "        text-align: right;\n",
       "    }\n",
       "</style>\n",
       "<table border=\"1\" class=\"dataframe\">\n",
       "  <thead>\n",
       "    <tr style=\"text-align: right;\">\n",
       "      <th></th>\n",
       "      <th>resorts_per_state</th>\n",
       "      <th>state_total_skiable_area_ac</th>\n",
       "      <th>state_total_days_open</th>\n",
       "      <th>state_total_terrain_parks</th>\n",
       "      <th>state_total_nightskiing_ac</th>\n",
       "      <th>resorts_per_100kcapita</th>\n",
       "      <th>resorts_per_100ksq_mile</th>\n",
       "    </tr>\n",
       "  </thead>\n",
       "  <tbody>\n",
       "    <tr>\n",
       "      <th>0</th>\n",
       "      <td>0.486079</td>\n",
       "      <td>0.318224</td>\n",
       "      <td>0.489997</td>\n",
       "      <td>0.488420</td>\n",
       "      <td>0.334398</td>\n",
       "      <td>0.187154</td>\n",
       "      <td>0.192250</td>\n",
       "    </tr>\n",
       "    <tr>\n",
       "      <th>1</th>\n",
       "      <td>-0.085092</td>\n",
       "      <td>-0.142204</td>\n",
       "      <td>-0.045071</td>\n",
       "      <td>-0.041939</td>\n",
       "      <td>-0.351064</td>\n",
       "      <td>0.662458</td>\n",
       "      <td>0.637691</td>\n",
       "    </tr>\n",
       "    <tr>\n",
       "      <th>2</th>\n",
       "      <td>-0.177937</td>\n",
       "      <td>0.714835</td>\n",
       "      <td>0.115200</td>\n",
       "      <td>0.005509</td>\n",
       "      <td>-0.511255</td>\n",
       "      <td>0.220359</td>\n",
       "      <td>-0.366207</td>\n",
       "    </tr>\n",
       "    <tr>\n",
       "      <th>3</th>\n",
       "      <td>0.056163</td>\n",
       "      <td>-0.118347</td>\n",
       "      <td>-0.162625</td>\n",
       "      <td>-0.177072</td>\n",
       "      <td>0.438912</td>\n",
       "      <td>0.685417</td>\n",
       "      <td>-0.512443</td>\n",
       "    </tr>\n",
       "    <tr>\n",
       "      <th>4</th>\n",
       "      <td>-0.209186</td>\n",
       "      <td>0.573462</td>\n",
       "      <td>-0.250521</td>\n",
       "      <td>-0.388608</td>\n",
       "      <td>0.499801</td>\n",
       "      <td>-0.065077</td>\n",
       "      <td>0.399461</td>\n",
       "    </tr>\n",
       "    <tr>\n",
       "      <th>5</th>\n",
       "      <td>0.818390</td>\n",
       "      <td>0.092319</td>\n",
       "      <td>-0.238198</td>\n",
       "      <td>-0.448118</td>\n",
       "      <td>-0.246196</td>\n",
       "      <td>-0.058911</td>\n",
       "      <td>0.009146</td>\n",
       "    </tr>\n",
       "    <tr>\n",
       "      <th>6</th>\n",
       "      <td>-0.090273</td>\n",
       "      <td>-0.127021</td>\n",
       "      <td>0.773728</td>\n",
       "      <td>-0.613576</td>\n",
       "      <td>0.022185</td>\n",
       "      <td>-0.007887</td>\n",
       "      <td>-0.005631</td>\n",
       "    </tr>\n",
       "  </tbody>\n",
       "</table>\n",
       "</div>"
      ],
      "text/plain": [
       "   resorts_per_state  state_total_skiable_area_ac  state_total_days_open  \\\n",
       "0           0.486079                     0.318224               0.489997   \n",
       "1          -0.085092                    -0.142204              -0.045071   \n",
       "2          -0.177937                     0.714835               0.115200   \n",
       "3           0.056163                    -0.118347              -0.162625   \n",
       "4          -0.209186                     0.573462              -0.250521   \n",
       "5           0.818390                     0.092319              -0.238198   \n",
       "6          -0.090273                    -0.127021               0.773728   \n",
       "\n",
       "   state_total_terrain_parks  state_total_nightskiing_ac  \\\n",
       "0                   0.488420                    0.334398   \n",
       "1                  -0.041939                   -0.351064   \n",
       "2                   0.005509                   -0.511255   \n",
       "3                  -0.177072                    0.438912   \n",
       "4                  -0.388608                    0.499801   \n",
       "5                  -0.448118                   -0.246196   \n",
       "6                  -0.613576                    0.022185   \n",
       "\n",
       "   resorts_per_100kcapita  resorts_per_100ksq_mile  \n",
       "0                0.187154                 0.192250  \n",
       "1                0.662458                 0.637691  \n",
       "2                0.220359                -0.366207  \n",
       "3                0.685417                -0.512443  \n",
       "4               -0.065077                 0.399461  \n",
       "5               -0.058911                 0.009146  \n",
       "6               -0.007887                -0.005631  "
      ]
     },
     "execution_count": 90,
     "metadata": {},
     "output_type": "execute_result"
    }
   ],
   "source": [
    "pd.DataFrame(state_pca.components_, columns=state_summary_columns)"
   ]
  },
  {
   "cell_type": "markdown",
   "metadata": {},
   "source": [
    "For the row associated with the second component, are there any large values?"
   ]
  },
  {
   "cell_type": "markdown",
   "metadata": {},
   "source": [
    "It looks like `resorts_per_100kcapita` and `resorts_per_100ksq_mile` might count for quite a lot, in a positive sense. Be aware that sign matters; a large negative coefficient multiplying a large negative feature will actually produce a large positive PCA score."
   ]
  },
  {
   "cell_type": "code",
   "execution_count": 92,
   "metadata": {},
   "outputs": [
    {
     "data": {
      "text/html": [
       "<div>\n",
       "<style scoped>\n",
       "    .dataframe tbody tr th:only-of-type {\n",
       "        vertical-align: middle;\n",
       "    }\n",
       "\n",
       "    .dataframe tbody tr th {\n",
       "        vertical-align: top;\n",
       "    }\n",
       "\n",
       "    .dataframe thead th {\n",
       "        text-align: right;\n",
       "    }\n",
       "</style>\n",
       "<table border=\"1\" class=\"dataframe\">\n",
       "  <thead>\n",
       "    <tr style=\"text-align: right;\">\n",
       "      <th></th>\n",
       "      <th>17</th>\n",
       "      <th>29</th>\n",
       "    </tr>\n",
       "  </thead>\n",
       "  <tbody>\n",
       "    <tr>\n",
       "      <th>state</th>\n",
       "      <td>New Hampshire</td>\n",
       "      <td>Vermont</td>\n",
       "    </tr>\n",
       "    <tr>\n",
       "      <th>resorts_per_state</th>\n",
       "      <td>16</td>\n",
       "      <td>15</td>\n",
       "    </tr>\n",
       "    <tr>\n",
       "      <th>state_total_skiable_area_ac</th>\n",
       "      <td>3427.0</td>\n",
       "      <td>7239.0</td>\n",
       "    </tr>\n",
       "    <tr>\n",
       "      <th>state_total_days_open</th>\n",
       "      <td>1847.0</td>\n",
       "      <td>1777.0</td>\n",
       "    </tr>\n",
       "    <tr>\n",
       "      <th>state_total_terrain_parks</th>\n",
       "      <td>43.0</td>\n",
       "      <td>50.0</td>\n",
       "    </tr>\n",
       "    <tr>\n",
       "      <th>state_total_nightskiing_ac</th>\n",
       "      <td>376.0</td>\n",
       "      <td>50.0</td>\n",
       "    </tr>\n",
       "    <tr>\n",
       "      <th>resorts_per_100kcapita</th>\n",
       "      <td>1.176721</td>\n",
       "      <td>2.403889</td>\n",
       "    </tr>\n",
       "    <tr>\n",
       "      <th>resorts_per_100ksq_mile</th>\n",
       "      <td>171.141299</td>\n",
       "      <td>155.990017</td>\n",
       "    </tr>\n",
       "  </tbody>\n",
       "</table>\n",
       "</div>"
      ],
      "text/plain": [
       "                                        17          29\n",
       "state                        New Hampshire     Vermont\n",
       "resorts_per_state                       16          15\n",
       "state_total_skiable_area_ac         3427.0      7239.0\n",
       "state_total_days_open               1847.0      1777.0\n",
       "state_total_terrain_parks             43.0        50.0\n",
       "state_total_nightskiing_ac           376.0        50.0\n",
       "resorts_per_100kcapita            1.176721    2.403889\n",
       "resorts_per_100ksq_mile         171.141299  155.990017"
      ]
     },
     "execution_count": 92,
     "metadata": {},
     "output_type": "execute_result"
    }
   ],
   "source": [
    "state_summary[state_summary.state.isin(['New Hampshire', 'Vermont'])].T"
   ]
  },
  {
   "cell_type": "code",
   "execution_count": 94,
   "metadata": {},
   "outputs": [
    {
     "data": {
      "text/html": [
       "<div>\n",
       "<style scoped>\n",
       "    .dataframe tbody tr th:only-of-type {\n",
       "        vertical-align: middle;\n",
       "    }\n",
       "\n",
       "    .dataframe tbody tr th {\n",
       "        vertical-align: top;\n",
       "    }\n",
       "\n",
       "    .dataframe thead th {\n",
       "        text-align: right;\n",
       "    }\n",
       "</style>\n",
       "<table border=\"1\" class=\"dataframe\">\n",
       "  <thead>\n",
       "    <tr style=\"text-align: right;\">\n",
       "      <th></th>\n",
       "      <th>17</th>\n",
       "      <th>29</th>\n",
       "    </tr>\n",
       "  </thead>\n",
       "  <tbody>\n",
       "    <tr>\n",
       "      <th>resorts_per_state</th>\n",
       "      <td>0.839478</td>\n",
       "      <td>0.712833</td>\n",
       "    </tr>\n",
       "    <tr>\n",
       "      <th>state_total_skiable_area_ac</th>\n",
       "      <td>-0.277128</td>\n",
       "      <td>0.104681</td>\n",
       "    </tr>\n",
       "    <tr>\n",
       "      <th>state_total_days_open</th>\n",
       "      <td>1.118608</td>\n",
       "      <td>1.034363</td>\n",
       "    </tr>\n",
       "    <tr>\n",
       "      <th>state_total_terrain_parks</th>\n",
       "      <td>0.921793</td>\n",
       "      <td>1.233725</td>\n",
       "    </tr>\n",
       "    <tr>\n",
       "      <th>state_total_nightskiing_ac</th>\n",
       "      <td>-0.245050</td>\n",
       "      <td>-0.747570</td>\n",
       "    </tr>\n",
       "    <tr>\n",
       "      <th>resorts_per_100kcapita</th>\n",
       "      <td>1.711066</td>\n",
       "      <td>4.226572</td>\n",
       "    </tr>\n",
       "    <tr>\n",
       "      <th>resorts_per_100ksq_mile</th>\n",
       "      <td>3.483281</td>\n",
       "      <td>3.112841</td>\n",
       "    </tr>\n",
       "  </tbody>\n",
       "</table>\n",
       "</div>"
      ],
      "text/plain": [
       "                                   17        29\n",
       "resorts_per_state            0.839478  0.712833\n",
       "state_total_skiable_area_ac -0.277128  0.104681\n",
       "state_total_days_open        1.118608  1.034363\n",
       "state_total_terrain_parks    0.921793  1.233725\n",
       "state_total_nightskiing_ac  -0.245050 -0.747570\n",
       "resorts_per_100kcapita       1.711066  4.226572\n",
       "resorts_per_100ksq_mile      3.483281  3.112841"
      ]
     },
     "execution_count": 94,
     "metadata": {},
     "output_type": "execute_result"
    }
   ],
   "source": [
    "state_summary_scaled_df[state_summary.state.isin(['New Hampshire', 'Vermont'])].T"
   ]
  },
  {
   "cell_type": "markdown",
   "metadata": {},
   "source": [
    "So, yes, both states have particularly large values of `resorts_per_100ksq_mile` in absolute terms, and these put them more than 3 standard deviations from the mean. Vermont also has a notably large value for `resorts_per_100kcapita`. New York, then, does not seem to be a stand-out for density of ski resorts either in terms of state size or population count."
   ]
  },
  {
   "cell_type": "markdown",
   "metadata": {},
   "source": [
    "### 3.5.4 Conclusion On How To Handle State Label<a id='3.5.4_Conclusion_On_How_To_Handle_State_Label'></a>"
   ]
  },
  {
   "cell_type": "markdown",
   "metadata": {},
   "source": [
    "You can offer some justification for treating all states equally, and work towards building a pricing model that considers all states together, without treating any one particularly specially. You haven't seen any clear grouping yet, but you have captured potentially relevant state data in features most likely to be relevant to your business use case. This answers a big question!"
   ]
  },
  {
   "cell_type": "markdown",
   "metadata": {},
   "source": [
    "### 3.5.5 Ski Resort Numeric Data<a id='3.5.5_Ski_Resort_Numeric_Data'></a>"
   ]
  },
  {
   "cell_type": "code",
   "execution_count": null,
   "metadata": {},
   "outputs": [],
   "source": []
  },
  {
   "cell_type": "markdown",
   "metadata": {},
   "source": [
    "After what may feel a detour, return to examining the ski resort data. It's worth noting, the previous EDA was valuable because it's given us some potentially useful features, as well as validating an approach for how to subsequently handle the state labels in your modeling."
   ]
  },
  {
   "cell_type": "code",
   "execution_count": 98,
   "metadata": {},
   "outputs": [
    {
     "data": {
      "text/html": [
       "<div>\n",
       "<style scoped>\n",
       "    .dataframe tbody tr th:only-of-type {\n",
       "        vertical-align: middle;\n",
       "    }\n",
       "\n",
       "    .dataframe tbody tr th {\n",
       "        vertical-align: top;\n",
       "    }\n",
       "\n",
       "    .dataframe thead th {\n",
       "        text-align: right;\n",
       "    }\n",
       "</style>\n",
       "<table border=\"1\" class=\"dataframe\">\n",
       "  <thead>\n",
       "    <tr style=\"text-align: right;\">\n",
       "      <th></th>\n",
       "      <th>0</th>\n",
       "      <th>1</th>\n",
       "      <th>2</th>\n",
       "      <th>3</th>\n",
       "      <th>4</th>\n",
       "    </tr>\n",
       "  </thead>\n",
       "  <tbody>\n",
       "    <tr>\n",
       "      <th>Name</th>\n",
       "      <td>Alyeska Resort</td>\n",
       "      <td>Eaglecrest Ski Area</td>\n",
       "      <td>Hilltop Ski Area</td>\n",
       "      <td>Arizona Snowbowl</td>\n",
       "      <td>Sunrise Park Resort</td>\n",
       "    </tr>\n",
       "    <tr>\n",
       "      <th>Region</th>\n",
       "      <td>Alaska</td>\n",
       "      <td>Alaska</td>\n",
       "      <td>Alaska</td>\n",
       "      <td>Arizona</td>\n",
       "      <td>Arizona</td>\n",
       "    </tr>\n",
       "    <tr>\n",
       "      <th>state</th>\n",
       "      <td>Alaska</td>\n",
       "      <td>Alaska</td>\n",
       "      <td>Alaska</td>\n",
       "      <td>Arizona</td>\n",
       "      <td>Arizona</td>\n",
       "    </tr>\n",
       "    <tr>\n",
       "      <th>summit_elev</th>\n",
       "      <td>3939</td>\n",
       "      <td>2600</td>\n",
       "      <td>2090</td>\n",
       "      <td>11500</td>\n",
       "      <td>11100</td>\n",
       "    </tr>\n",
       "    <tr>\n",
       "      <th>vertical_drop</th>\n",
       "      <td>2500</td>\n",
       "      <td>1540</td>\n",
       "      <td>294</td>\n",
       "      <td>2300</td>\n",
       "      <td>1800</td>\n",
       "    </tr>\n",
       "    <tr>\n",
       "      <th>base_elev</th>\n",
       "      <td>250</td>\n",
       "      <td>1200</td>\n",
       "      <td>1796</td>\n",
       "      <td>9200</td>\n",
       "      <td>9200</td>\n",
       "    </tr>\n",
       "    <tr>\n",
       "      <th>trams</th>\n",
       "      <td>1</td>\n",
       "      <td>0</td>\n",
       "      <td>0</td>\n",
       "      <td>0</td>\n",
       "      <td>0</td>\n",
       "    </tr>\n",
       "    <tr>\n",
       "      <th>fastSixes</th>\n",
       "      <td>0</td>\n",
       "      <td>0</td>\n",
       "      <td>0</td>\n",
       "      <td>1</td>\n",
       "      <td>0</td>\n",
       "    </tr>\n",
       "    <tr>\n",
       "      <th>fastQuads</th>\n",
       "      <td>2</td>\n",
       "      <td>0</td>\n",
       "      <td>0</td>\n",
       "      <td>0</td>\n",
       "      <td>1</td>\n",
       "    </tr>\n",
       "    <tr>\n",
       "      <th>quad</th>\n",
       "      <td>2</td>\n",
       "      <td>0</td>\n",
       "      <td>0</td>\n",
       "      <td>2</td>\n",
       "      <td>2</td>\n",
       "    </tr>\n",
       "    <tr>\n",
       "      <th>triple</th>\n",
       "      <td>0</td>\n",
       "      <td>0</td>\n",
       "      <td>1</td>\n",
       "      <td>2</td>\n",
       "      <td>3</td>\n",
       "    </tr>\n",
       "    <tr>\n",
       "      <th>double</th>\n",
       "      <td>0</td>\n",
       "      <td>4</td>\n",
       "      <td>0</td>\n",
       "      <td>1</td>\n",
       "      <td>1</td>\n",
       "    </tr>\n",
       "    <tr>\n",
       "      <th>surface</th>\n",
       "      <td>2</td>\n",
       "      <td>0</td>\n",
       "      <td>2</td>\n",
       "      <td>2</td>\n",
       "      <td>0</td>\n",
       "    </tr>\n",
       "    <tr>\n",
       "      <th>total_chairs</th>\n",
       "      <td>7</td>\n",
       "      <td>4</td>\n",
       "      <td>3</td>\n",
       "      <td>8</td>\n",
       "      <td>7</td>\n",
       "    </tr>\n",
       "    <tr>\n",
       "      <th>Runs</th>\n",
       "      <td>76.0</td>\n",
       "      <td>36.0</td>\n",
       "      <td>13.0</td>\n",
       "      <td>55.0</td>\n",
       "      <td>65.0</td>\n",
       "    </tr>\n",
       "    <tr>\n",
       "      <th>TerrainParks</th>\n",
       "      <td>2.0</td>\n",
       "      <td>1.0</td>\n",
       "      <td>1.0</td>\n",
       "      <td>4.0</td>\n",
       "      <td>2.0</td>\n",
       "    </tr>\n",
       "    <tr>\n",
       "      <th>LongestRun_mi</th>\n",
       "      <td>1.0</td>\n",
       "      <td>2.0</td>\n",
       "      <td>1.0</td>\n",
       "      <td>2.0</td>\n",
       "      <td>1.2</td>\n",
       "    </tr>\n",
       "    <tr>\n",
       "      <th>SkiableTerrain_ac</th>\n",
       "      <td>1610.0</td>\n",
       "      <td>640.0</td>\n",
       "      <td>30.0</td>\n",
       "      <td>777.0</td>\n",
       "      <td>800.0</td>\n",
       "    </tr>\n",
       "    <tr>\n",
       "      <th>Snow Making_ac</th>\n",
       "      <td>113.0</td>\n",
       "      <td>60.0</td>\n",
       "      <td>30.0</td>\n",
       "      <td>104.0</td>\n",
       "      <td>80.0</td>\n",
       "    </tr>\n",
       "    <tr>\n",
       "      <th>daysOpenLastYear</th>\n",
       "      <td>150.0</td>\n",
       "      <td>45.0</td>\n",
       "      <td>150.0</td>\n",
       "      <td>122.0</td>\n",
       "      <td>115.0</td>\n",
       "    </tr>\n",
       "    <tr>\n",
       "      <th>yearsOpen</th>\n",
       "      <td>60.0</td>\n",
       "      <td>44.0</td>\n",
       "      <td>36.0</td>\n",
       "      <td>81.0</td>\n",
       "      <td>49.0</td>\n",
       "    </tr>\n",
       "    <tr>\n",
       "      <th>averageSnowfall</th>\n",
       "      <td>669.0</td>\n",
       "      <td>350.0</td>\n",
       "      <td>69.0</td>\n",
       "      <td>260.0</td>\n",
       "      <td>250.0</td>\n",
       "    </tr>\n",
       "    <tr>\n",
       "      <th>AdultWeekend</th>\n",
       "      <td>85.0</td>\n",
       "      <td>53.0</td>\n",
       "      <td>34.0</td>\n",
       "      <td>89.0</td>\n",
       "      <td>78.0</td>\n",
       "    </tr>\n",
       "    <tr>\n",
       "      <th>projectedDaysOpen</th>\n",
       "      <td>150.0</td>\n",
       "      <td>90.0</td>\n",
       "      <td>152.0</td>\n",
       "      <td>122.0</td>\n",
       "      <td>104.0</td>\n",
       "    </tr>\n",
       "    <tr>\n",
       "      <th>NightSkiing_ac</th>\n",
       "      <td>550.0</td>\n",
       "      <td>NaN</td>\n",
       "      <td>30.0</td>\n",
       "      <td>NaN</td>\n",
       "      <td>80.0</td>\n",
       "    </tr>\n",
       "  </tbody>\n",
       "</table>\n",
       "</div>"
      ],
      "text/plain": [
       "                                0                    1                 2  \\\n",
       "Name               Alyeska Resort  Eaglecrest Ski Area  Hilltop Ski Area   \n",
       "Region                     Alaska               Alaska            Alaska   \n",
       "state                      Alaska               Alaska            Alaska   \n",
       "summit_elev                  3939                 2600              2090   \n",
       "vertical_drop                2500                 1540               294   \n",
       "base_elev                     250                 1200              1796   \n",
       "trams                           1                    0                 0   \n",
       "fastSixes                       0                    0                 0   \n",
       "fastQuads                       2                    0                 0   \n",
       "quad                            2                    0                 0   \n",
       "triple                          0                    0                 1   \n",
       "double                          0                    4                 0   \n",
       "surface                         2                    0                 2   \n",
       "total_chairs                    7                    4                 3   \n",
       "Runs                         76.0                 36.0              13.0   \n",
       "TerrainParks                  2.0                  1.0               1.0   \n",
       "LongestRun_mi                 1.0                  2.0               1.0   \n",
       "SkiableTerrain_ac          1610.0                640.0              30.0   \n",
       "Snow Making_ac              113.0                 60.0              30.0   \n",
       "daysOpenLastYear            150.0                 45.0             150.0   \n",
       "yearsOpen                    60.0                 44.0              36.0   \n",
       "averageSnowfall             669.0                350.0              69.0   \n",
       "AdultWeekend                 85.0                 53.0              34.0   \n",
       "projectedDaysOpen           150.0                 90.0             152.0   \n",
       "NightSkiing_ac              550.0                  NaN              30.0   \n",
       "\n",
       "                                  3                    4  \n",
       "Name               Arizona Snowbowl  Sunrise Park Resort  \n",
       "Region                      Arizona              Arizona  \n",
       "state                       Arizona              Arizona  \n",
       "summit_elev                   11500                11100  \n",
       "vertical_drop                  2300                 1800  \n",
       "base_elev                      9200                 9200  \n",
       "trams                             0                    0  \n",
       "fastSixes                         1                    0  \n",
       "fastQuads                         0                    1  \n",
       "quad                              2                    2  \n",
       "triple                            2                    3  \n",
       "double                            1                    1  \n",
       "surface                           2                    0  \n",
       "total_chairs                      8                    7  \n",
       "Runs                           55.0                 65.0  \n",
       "TerrainParks                    4.0                  2.0  \n",
       "LongestRun_mi                   2.0                  1.2  \n",
       "SkiableTerrain_ac             777.0                800.0  \n",
       "Snow Making_ac                104.0                 80.0  \n",
       "daysOpenLastYear              122.0                115.0  \n",
       "yearsOpen                      81.0                 49.0  \n",
       "averageSnowfall               260.0                250.0  \n",
       "AdultWeekend                   89.0                 78.0  \n",
       "projectedDaysOpen             122.0                104.0  \n",
       "NightSkiing_ac                  NaN                 80.0  "
      ]
     },
     "execution_count": 98,
     "metadata": {},
     "output_type": "execute_result"
    }
   ],
   "source": [
    "ski_data.head().T"
   ]
  },
  {
   "cell_type": "markdown",
   "metadata": {},
   "source": [
    "#### 3.5.5.1 Feature engineering<a id='3.5.5.1_Feature_engineering'></a>"
   ]
  },
  {
   "cell_type": "markdown",
   "metadata": {},
   "source": [
    "Having previously spent some time exploring the state summary data you derived, you now start to explore the resort-level data in more detail. This can help guide you on how (or whether) to use the state labels in the data. It's now time to merge the two datasets and engineer some intuitive features. For example, you can engineer a resort's share of the supply for a given state."
   ]
  },
  {
   "cell_type": "code",
   "execution_count": 100,
   "metadata": {},
   "outputs": [
    {
     "data": {
      "text/html": [
       "<div>\n",
       "<style scoped>\n",
       "    .dataframe tbody tr th:only-of-type {\n",
       "        vertical-align: middle;\n",
       "    }\n",
       "\n",
       "    .dataframe tbody tr th {\n",
       "        vertical-align: top;\n",
       "    }\n",
       "\n",
       "    .dataframe thead th {\n",
       "        text-align: right;\n",
       "    }\n",
       "</style>\n",
       "<table border=\"1\" class=\"dataframe\">\n",
       "  <thead>\n",
       "    <tr style=\"text-align: right;\">\n",
       "      <th></th>\n",
       "      <th>state</th>\n",
       "      <th>resorts_per_state</th>\n",
       "      <th>state_total_skiable_area_ac</th>\n",
       "      <th>state_total_days_open</th>\n",
       "      <th>state_total_terrain_parks</th>\n",
       "      <th>state_total_nightskiing_ac</th>\n",
       "      <th>resorts_per_100kcapita</th>\n",
       "      <th>resorts_per_100ksq_mile</th>\n",
       "    </tr>\n",
       "  </thead>\n",
       "  <tbody>\n",
       "    <tr>\n",
       "      <th>0</th>\n",
       "      <td>Alaska</td>\n",
       "      <td>3</td>\n",
       "      <td>2280.0</td>\n",
       "      <td>345.0</td>\n",
       "      <td>4.0</td>\n",
       "      <td>580.0</td>\n",
       "      <td>0.410091</td>\n",
       "      <td>0.450867</td>\n",
       "    </tr>\n",
       "    <tr>\n",
       "      <th>1</th>\n",
       "      <td>Arizona</td>\n",
       "      <td>2</td>\n",
       "      <td>1577.0</td>\n",
       "      <td>237.0</td>\n",
       "      <td>6.0</td>\n",
       "      <td>80.0</td>\n",
       "      <td>0.027477</td>\n",
       "      <td>1.754540</td>\n",
       "    </tr>\n",
       "    <tr>\n",
       "      <th>2</th>\n",
       "      <td>California</td>\n",
       "      <td>21</td>\n",
       "      <td>25948.0</td>\n",
       "      <td>2738.0</td>\n",
       "      <td>81.0</td>\n",
       "      <td>587.0</td>\n",
       "      <td>0.053148</td>\n",
       "      <td>12.828736</td>\n",
       "    </tr>\n",
       "    <tr>\n",
       "      <th>3</th>\n",
       "      <td>Colorado</td>\n",
       "      <td>22</td>\n",
       "      <td>43682.0</td>\n",
       "      <td>3258.0</td>\n",
       "      <td>74.0</td>\n",
       "      <td>428.0</td>\n",
       "      <td>0.382028</td>\n",
       "      <td>21.134744</td>\n",
       "    </tr>\n",
       "    <tr>\n",
       "      <th>4</th>\n",
       "      <td>Connecticut</td>\n",
       "      <td>5</td>\n",
       "      <td>358.0</td>\n",
       "      <td>353.0</td>\n",
       "      <td>10.0</td>\n",
       "      <td>256.0</td>\n",
       "      <td>0.140242</td>\n",
       "      <td>90.203861</td>\n",
       "    </tr>\n",
       "  </tbody>\n",
       "</table>\n",
       "</div>"
      ],
      "text/plain": [
       "         state  resorts_per_state  state_total_skiable_area_ac  \\\n",
       "0       Alaska                  3                       2280.0   \n",
       "1      Arizona                  2                       1577.0   \n",
       "2   California                 21                      25948.0   \n",
       "3     Colorado                 22                      43682.0   \n",
       "4  Connecticut                  5                        358.0   \n",
       "\n",
       "   state_total_days_open  state_total_terrain_parks  \\\n",
       "0                  345.0                        4.0   \n",
       "1                  237.0                        6.0   \n",
       "2                 2738.0                       81.0   \n",
       "3                 3258.0                       74.0   \n",
       "4                  353.0                       10.0   \n",
       "\n",
       "   state_total_nightskiing_ac  resorts_per_100kcapita  resorts_per_100ksq_mile  \n",
       "0                       580.0                0.410091                 0.450867  \n",
       "1                        80.0                0.027477                 1.754540  \n",
       "2                       587.0                0.053148                12.828736  \n",
       "3                       428.0                0.382028                21.134744  \n",
       "4                       256.0                0.140242                90.203861  "
      ]
     },
     "execution_count": 100,
     "metadata": {},
     "output_type": "execute_result"
    }
   ],
   "source": [
    "state_summary.head()"
   ]
  },
  {
   "cell_type": "code",
   "execution_count": 102,
   "metadata": {},
   "outputs": [
    {
     "data": {
      "text/html": [
       "<div>\n",
       "<style scoped>\n",
       "    .dataframe tbody tr th:only-of-type {\n",
       "        vertical-align: middle;\n",
       "    }\n",
       "\n",
       "    .dataframe tbody tr th {\n",
       "        vertical-align: top;\n",
       "    }\n",
       "\n",
       "    .dataframe thead th {\n",
       "        text-align: right;\n",
       "    }\n",
       "</style>\n",
       "<table border=\"1\" class=\"dataframe\">\n",
       "  <thead>\n",
       "    <tr style=\"text-align: right;\">\n",
       "      <th></th>\n",
       "      <th>0</th>\n",
       "      <th>1</th>\n",
       "      <th>2</th>\n",
       "      <th>3</th>\n",
       "      <th>4</th>\n",
       "    </tr>\n",
       "  </thead>\n",
       "  <tbody>\n",
       "    <tr>\n",
       "      <th>Name</th>\n",
       "      <td>Alyeska Resort</td>\n",
       "      <td>Eaglecrest Ski Area</td>\n",
       "      <td>Hilltop Ski Area</td>\n",
       "      <td>Arizona Snowbowl</td>\n",
       "      <td>Sunrise Park Resort</td>\n",
       "    </tr>\n",
       "    <tr>\n",
       "      <th>Region</th>\n",
       "      <td>Alaska</td>\n",
       "      <td>Alaska</td>\n",
       "      <td>Alaska</td>\n",
       "      <td>Arizona</td>\n",
       "      <td>Arizona</td>\n",
       "    </tr>\n",
       "    <tr>\n",
       "      <th>state</th>\n",
       "      <td>Alaska</td>\n",
       "      <td>Alaska</td>\n",
       "      <td>Alaska</td>\n",
       "      <td>Arizona</td>\n",
       "      <td>Arizona</td>\n",
       "    </tr>\n",
       "    <tr>\n",
       "      <th>summit_elev</th>\n",
       "      <td>3939</td>\n",
       "      <td>2600</td>\n",
       "      <td>2090</td>\n",
       "      <td>11500</td>\n",
       "      <td>11100</td>\n",
       "    </tr>\n",
       "    <tr>\n",
       "      <th>vertical_drop</th>\n",
       "      <td>2500</td>\n",
       "      <td>1540</td>\n",
       "      <td>294</td>\n",
       "      <td>2300</td>\n",
       "      <td>1800</td>\n",
       "    </tr>\n",
       "    <tr>\n",
       "      <th>base_elev</th>\n",
       "      <td>250</td>\n",
       "      <td>1200</td>\n",
       "      <td>1796</td>\n",
       "      <td>9200</td>\n",
       "      <td>9200</td>\n",
       "    </tr>\n",
       "    <tr>\n",
       "      <th>trams</th>\n",
       "      <td>1</td>\n",
       "      <td>0</td>\n",
       "      <td>0</td>\n",
       "      <td>0</td>\n",
       "      <td>0</td>\n",
       "    </tr>\n",
       "    <tr>\n",
       "      <th>fastSixes</th>\n",
       "      <td>0</td>\n",
       "      <td>0</td>\n",
       "      <td>0</td>\n",
       "      <td>1</td>\n",
       "      <td>0</td>\n",
       "    </tr>\n",
       "    <tr>\n",
       "      <th>fastQuads</th>\n",
       "      <td>2</td>\n",
       "      <td>0</td>\n",
       "      <td>0</td>\n",
       "      <td>0</td>\n",
       "      <td>1</td>\n",
       "    </tr>\n",
       "    <tr>\n",
       "      <th>quad</th>\n",
       "      <td>2</td>\n",
       "      <td>0</td>\n",
       "      <td>0</td>\n",
       "      <td>2</td>\n",
       "      <td>2</td>\n",
       "    </tr>\n",
       "    <tr>\n",
       "      <th>triple</th>\n",
       "      <td>0</td>\n",
       "      <td>0</td>\n",
       "      <td>1</td>\n",
       "      <td>2</td>\n",
       "      <td>3</td>\n",
       "    </tr>\n",
       "    <tr>\n",
       "      <th>double</th>\n",
       "      <td>0</td>\n",
       "      <td>4</td>\n",
       "      <td>0</td>\n",
       "      <td>1</td>\n",
       "      <td>1</td>\n",
       "    </tr>\n",
       "    <tr>\n",
       "      <th>surface</th>\n",
       "      <td>2</td>\n",
       "      <td>0</td>\n",
       "      <td>2</td>\n",
       "      <td>2</td>\n",
       "      <td>0</td>\n",
       "    </tr>\n",
       "    <tr>\n",
       "      <th>total_chairs</th>\n",
       "      <td>7</td>\n",
       "      <td>4</td>\n",
       "      <td>3</td>\n",
       "      <td>8</td>\n",
       "      <td>7</td>\n",
       "    </tr>\n",
       "    <tr>\n",
       "      <th>Runs</th>\n",
       "      <td>76.0</td>\n",
       "      <td>36.0</td>\n",
       "      <td>13.0</td>\n",
       "      <td>55.0</td>\n",
       "      <td>65.0</td>\n",
       "    </tr>\n",
       "    <tr>\n",
       "      <th>TerrainParks</th>\n",
       "      <td>2.0</td>\n",
       "      <td>1.0</td>\n",
       "      <td>1.0</td>\n",
       "      <td>4.0</td>\n",
       "      <td>2.0</td>\n",
       "    </tr>\n",
       "    <tr>\n",
       "      <th>LongestRun_mi</th>\n",
       "      <td>1.0</td>\n",
       "      <td>2.0</td>\n",
       "      <td>1.0</td>\n",
       "      <td>2.0</td>\n",
       "      <td>1.2</td>\n",
       "    </tr>\n",
       "    <tr>\n",
       "      <th>SkiableTerrain_ac</th>\n",
       "      <td>1610.0</td>\n",
       "      <td>640.0</td>\n",
       "      <td>30.0</td>\n",
       "      <td>777.0</td>\n",
       "      <td>800.0</td>\n",
       "    </tr>\n",
       "    <tr>\n",
       "      <th>Snow Making_ac</th>\n",
       "      <td>113.0</td>\n",
       "      <td>60.0</td>\n",
       "      <td>30.0</td>\n",
       "      <td>104.0</td>\n",
       "      <td>80.0</td>\n",
       "    </tr>\n",
       "    <tr>\n",
       "      <th>daysOpenLastYear</th>\n",
       "      <td>150.0</td>\n",
       "      <td>45.0</td>\n",
       "      <td>150.0</td>\n",
       "      <td>122.0</td>\n",
       "      <td>115.0</td>\n",
       "    </tr>\n",
       "    <tr>\n",
       "      <th>yearsOpen</th>\n",
       "      <td>60.0</td>\n",
       "      <td>44.0</td>\n",
       "      <td>36.0</td>\n",
       "      <td>81.0</td>\n",
       "      <td>49.0</td>\n",
       "    </tr>\n",
       "    <tr>\n",
       "      <th>averageSnowfall</th>\n",
       "      <td>669.0</td>\n",
       "      <td>350.0</td>\n",
       "      <td>69.0</td>\n",
       "      <td>260.0</td>\n",
       "      <td>250.0</td>\n",
       "    </tr>\n",
       "    <tr>\n",
       "      <th>AdultWeekend</th>\n",
       "      <td>85.0</td>\n",
       "      <td>53.0</td>\n",
       "      <td>34.0</td>\n",
       "      <td>89.0</td>\n",
       "      <td>78.0</td>\n",
       "    </tr>\n",
       "    <tr>\n",
       "      <th>projectedDaysOpen</th>\n",
       "      <td>150.0</td>\n",
       "      <td>90.0</td>\n",
       "      <td>152.0</td>\n",
       "      <td>122.0</td>\n",
       "      <td>104.0</td>\n",
       "    </tr>\n",
       "    <tr>\n",
       "      <th>NightSkiing_ac</th>\n",
       "      <td>550.0</td>\n",
       "      <td>NaN</td>\n",
       "      <td>30.0</td>\n",
       "      <td>NaN</td>\n",
       "      <td>80.0</td>\n",
       "    </tr>\n",
       "    <tr>\n",
       "      <th>resorts_per_state</th>\n",
       "      <td>3</td>\n",
       "      <td>3</td>\n",
       "      <td>3</td>\n",
       "      <td>2</td>\n",
       "      <td>2</td>\n",
       "    </tr>\n",
       "    <tr>\n",
       "      <th>state_total_skiable_area_ac</th>\n",
       "      <td>2280.0</td>\n",
       "      <td>2280.0</td>\n",
       "      <td>2280.0</td>\n",
       "      <td>1577.0</td>\n",
       "      <td>1577.0</td>\n",
       "    </tr>\n",
       "    <tr>\n",
       "      <th>state_total_days_open</th>\n",
       "      <td>345.0</td>\n",
       "      <td>345.0</td>\n",
       "      <td>345.0</td>\n",
       "      <td>237.0</td>\n",
       "      <td>237.0</td>\n",
       "    </tr>\n",
       "    <tr>\n",
       "      <th>state_total_terrain_parks</th>\n",
       "      <td>4.0</td>\n",
       "      <td>4.0</td>\n",
       "      <td>4.0</td>\n",
       "      <td>6.0</td>\n",
       "      <td>6.0</td>\n",
       "    </tr>\n",
       "    <tr>\n",
       "      <th>state_total_nightskiing_ac</th>\n",
       "      <td>580.0</td>\n",
       "      <td>580.0</td>\n",
       "      <td>580.0</td>\n",
       "      <td>80.0</td>\n",
       "      <td>80.0</td>\n",
       "    </tr>\n",
       "    <tr>\n",
       "      <th>resorts_per_100kcapita</th>\n",
       "      <td>0.410091</td>\n",
       "      <td>0.410091</td>\n",
       "      <td>0.410091</td>\n",
       "      <td>0.027477</td>\n",
       "      <td>0.027477</td>\n",
       "    </tr>\n",
       "    <tr>\n",
       "      <th>resorts_per_100ksq_mile</th>\n",
       "      <td>0.450867</td>\n",
       "      <td>0.450867</td>\n",
       "      <td>0.450867</td>\n",
       "      <td>1.75454</td>\n",
       "      <td>1.75454</td>\n",
       "    </tr>\n",
       "  </tbody>\n",
       "</table>\n",
       "</div>"
      ],
      "text/plain": [
       "                                          0                    1  \\\n",
       "Name                         Alyeska Resort  Eaglecrest Ski Area   \n",
       "Region                               Alaska               Alaska   \n",
       "state                                Alaska               Alaska   \n",
       "summit_elev                            3939                 2600   \n",
       "vertical_drop                          2500                 1540   \n",
       "base_elev                               250                 1200   \n",
       "trams                                     1                    0   \n",
       "fastSixes                                 0                    0   \n",
       "fastQuads                                 2                    0   \n",
       "quad                                      2                    0   \n",
       "triple                                    0                    0   \n",
       "double                                    0                    4   \n",
       "surface                                   2                    0   \n",
       "total_chairs                              7                    4   \n",
       "Runs                                   76.0                 36.0   \n",
       "TerrainParks                            2.0                  1.0   \n",
       "LongestRun_mi                           1.0                  2.0   \n",
       "SkiableTerrain_ac                    1610.0                640.0   \n",
       "Snow Making_ac                        113.0                 60.0   \n",
       "daysOpenLastYear                      150.0                 45.0   \n",
       "yearsOpen                              60.0                 44.0   \n",
       "averageSnowfall                       669.0                350.0   \n",
       "AdultWeekend                           85.0                 53.0   \n",
       "projectedDaysOpen                     150.0                 90.0   \n",
       "NightSkiing_ac                        550.0                  NaN   \n",
       "resorts_per_state                         3                    3   \n",
       "state_total_skiable_area_ac          2280.0               2280.0   \n",
       "state_total_days_open                 345.0                345.0   \n",
       "state_total_terrain_parks               4.0                  4.0   \n",
       "state_total_nightskiing_ac            580.0                580.0   \n",
       "resorts_per_100kcapita             0.410091             0.410091   \n",
       "resorts_per_100ksq_mile            0.450867             0.450867   \n",
       "\n",
       "                                            2                 3  \\\n",
       "Name                         Hilltop Ski Area  Arizona Snowbowl   \n",
       "Region                                 Alaska           Arizona   \n",
       "state                                  Alaska           Arizona   \n",
       "summit_elev                              2090             11500   \n",
       "vertical_drop                             294              2300   \n",
       "base_elev                                1796              9200   \n",
       "trams                                       0                 0   \n",
       "fastSixes                                   0                 1   \n",
       "fastQuads                                   0                 0   \n",
       "quad                                        0                 2   \n",
       "triple                                      1                 2   \n",
       "double                                      0                 1   \n",
       "surface                                     2                 2   \n",
       "total_chairs                                3                 8   \n",
       "Runs                                     13.0              55.0   \n",
       "TerrainParks                              1.0               4.0   \n",
       "LongestRun_mi                             1.0               2.0   \n",
       "SkiableTerrain_ac                        30.0             777.0   \n",
       "Snow Making_ac                           30.0             104.0   \n",
       "daysOpenLastYear                        150.0             122.0   \n",
       "yearsOpen                                36.0              81.0   \n",
       "averageSnowfall                          69.0             260.0   \n",
       "AdultWeekend                             34.0              89.0   \n",
       "projectedDaysOpen                       152.0             122.0   \n",
       "NightSkiing_ac                           30.0               NaN   \n",
       "resorts_per_state                           3                 2   \n",
       "state_total_skiable_area_ac            2280.0            1577.0   \n",
       "state_total_days_open                   345.0             237.0   \n",
       "state_total_terrain_parks                 4.0               6.0   \n",
       "state_total_nightskiing_ac              580.0              80.0   \n",
       "resorts_per_100kcapita               0.410091          0.027477   \n",
       "resorts_per_100ksq_mile              0.450867           1.75454   \n",
       "\n",
       "                                               4  \n",
       "Name                         Sunrise Park Resort  \n",
       "Region                                   Arizona  \n",
       "state                                    Arizona  \n",
       "summit_elev                                11100  \n",
       "vertical_drop                               1800  \n",
       "base_elev                                   9200  \n",
       "trams                                          0  \n",
       "fastSixes                                      0  \n",
       "fastQuads                                      1  \n",
       "quad                                           2  \n",
       "triple                                         3  \n",
       "double                                         1  \n",
       "surface                                        0  \n",
       "total_chairs                                   7  \n",
       "Runs                                        65.0  \n",
       "TerrainParks                                 2.0  \n",
       "LongestRun_mi                                1.2  \n",
       "SkiableTerrain_ac                          800.0  \n",
       "Snow Making_ac                              80.0  \n",
       "daysOpenLastYear                           115.0  \n",
       "yearsOpen                                   49.0  \n",
       "averageSnowfall                            250.0  \n",
       "AdultWeekend                                78.0  \n",
       "projectedDaysOpen                          104.0  \n",
       "NightSkiing_ac                              80.0  \n",
       "resorts_per_state                              2  \n",
       "state_total_skiable_area_ac               1577.0  \n",
       "state_total_days_open                      237.0  \n",
       "state_total_terrain_parks                    6.0  \n",
       "state_total_nightskiing_ac                  80.0  \n",
       "resorts_per_100kcapita                  0.027477  \n",
       "resorts_per_100ksq_mile                  1.75454  "
      ]
     },
     "execution_count": 102,
     "metadata": {},
     "output_type": "execute_result"
    }
   ],
   "source": [
    "# DataFrame's merge method provides SQL-like joins\n",
    "# here 'state' is a column (not an index)\n",
    "ski_data = ski_data.merge(state_summary, how='left', on='state')\n",
    "ski_data.head().T"
   ]
  },
  {
   "cell_type": "markdown",
   "metadata": {},
   "source": [
    "Having merged your state summary features into the ski resort data, add \"state resort competition\" features:\n",
    "\n",
    "* ratio of resort skiable area to total state skiable area\n",
    "* ratio of resort days open to total state days open\n",
    "* ratio of resort terrain park count to total state terrain park count\n",
    "* ratio of resort night skiing area to total state night skiing area\n",
    "\n",
    "Once you've derived these features to put each resort within the context of its state,drop those state columns. Their main purpose was to understand what share of states' skiing \"assets\" is accounted for by each resort."
   ]
  },
  {
   "cell_type": "code",
   "execution_count": 104,
   "metadata": {},
   "outputs": [],
   "source": [
    "ski_data['resort_skiable_area_ac_state_ratio'] = ski_data.SkiableTerrain_ac / ski_data.state_total_skiable_area_ac\n",
    "ski_data['resort_days_open_state_ratio'] = ski_data.daysOpenLastYear / ski_data.state_total_days_open\n",
    "ski_data['resort_terrain_park_state_ratio'] = ski_data.TerrainParks / ski_data.state_total_terrain_parks\n",
    "ski_data['resort_night_skiing_state_ratio'] = ski_data.NightSkiing_ac / ski_data.state_total_nightskiing_ac\n",
    "\n",
    "ski_data.drop(columns=['state_total_skiable_area_ac', 'state_total_days_open', \n",
    "                       'state_total_terrain_parks', 'state_total_nightskiing_ac'], inplace=True)"
   ]
  },
  {
   "cell_type": "markdown",
   "metadata": {},
   "source": [
    "#### 3.5.5.2 Feature correlation heatmap<a id='3.5.5.2_Feature_correlation_heatmap'></a>"
   ]
  },
  {
   "cell_type": "markdown",
   "metadata": {},
   "source": [
    "A great way to gain a high level view of relationships amongst the features."
   ]
  },
  {
   "cell_type": "code",
   "execution_count": 121,
   "metadata": {},
   "outputs": [
    {
     "data": {
      "image/png": "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